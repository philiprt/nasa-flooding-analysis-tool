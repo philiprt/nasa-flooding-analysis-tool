{
 "cells": [
  {
   "cell_type": "code",
   "execution_count": 1,
   "outputs": [],
   "source": [
    "import xarray as xr\n",
    "import plotly.graph_objects as go\n",
    "from slr_projection import load_slr_projections\n",
    "import analysis as anlyz\n",
    "\n",
    "%load_ext autoreload\n",
    "%autoreload 2"
   ],
   "metadata": {
    "collapsed": false,
    "pycharm": {
     "name": "#%%\n"
    }
   }
  },
  {
   "cell_type": "code",
   "execution_count": 2,
   "outputs": [
    {
     "data": {
      "text/plain": "<xarray.Dataset>\nDimensions:                                                       (tg: 120, years: 251, percentiles: 3)\nCoordinates:\n  * tg                                                            (tg) object ...\n  * years                                                         (years) int64 ...\n  * percentiles                                                   (percentiles) int32 ...\nData variables: (12/43)\n    lon                                                           (tg) float32 ...\n    lat                                                           (tg) float32 ...\n    rsl_obs                                                       (years, tg) float32 ...\n    number_of_observation_years_for_trajectory_estimation         (tg) int32 ...\n    number_of_observation_years_for_trajectory_estimation_geq_30  (tg) int32 ...\n    rsl_trajectory                                                (percentiles, years, tg) float32 ...\n    ...                                                            ...\n    rsl_GIS_High                                                  (percentiles, years, tg) float32 ...\n    rsl_glaciers_High                                             (percentiles, years, tg) float32 ...\n    rsl_landwaterstorage_High                                     (percentiles, years, tg) float32 ...\n    rsl_oceandynamics_High                                        (percentiles, years, tg) float32 ...\n    rsl_total_High                                                (percentiles, years, tg) float32 ...\n    rsl_verticallandmotion_High                                   (percentiles, years, tg) float32 ...",
      "text/html": "<div><svg style=\"position: absolute; width: 0; height: 0; overflow: hidden\">\n<defs>\n<symbol id=\"icon-database\" viewBox=\"0 0 32 32\">\n<path d=\"M16 0c-8.837 0-16 2.239-16 5v4c0 2.761 7.163 5 16 5s16-2.239 16-5v-4c0-2.761-7.163-5-16-5z\"></path>\n<path d=\"M16 17c-8.837 0-16-2.239-16-5v6c0 2.761 7.163 5 16 5s16-2.239 16-5v-6c0 2.761-7.163 5-16 5z\"></path>\n<path d=\"M16 26c-8.837 0-16-2.239-16-5v6c0 2.761 7.163 5 16 5s16-2.239 16-5v-6c0 2.761-7.163 5-16 5z\"></path>\n</symbol>\n<symbol id=\"icon-file-text2\" viewBox=\"0 0 32 32\">\n<path d=\"M28.681 7.159c-0.694-0.947-1.662-2.053-2.724-3.116s-2.169-2.030-3.116-2.724c-1.612-1.182-2.393-1.319-2.841-1.319h-15.5c-1.378 0-2.5 1.121-2.5 2.5v27c0 1.378 1.122 2.5 2.5 2.5h23c1.378 0 2.5-1.122 2.5-2.5v-19.5c0-0.448-0.137-1.23-1.319-2.841zM24.543 5.457c0.959 0.959 1.712 1.825 2.268 2.543h-4.811v-4.811c0.718 0.556 1.584 1.309 2.543 2.268zM28 29.5c0 0.271-0.229 0.5-0.5 0.5h-23c-0.271 0-0.5-0.229-0.5-0.5v-27c0-0.271 0.229-0.5 0.5-0.5 0 0 15.499-0 15.5 0v7c0 0.552 0.448 1 1 1h7v19.5z\"></path>\n<path d=\"M23 26h-14c-0.552 0-1-0.448-1-1s0.448-1 1-1h14c0.552 0 1 0.448 1 1s-0.448 1-1 1z\"></path>\n<path d=\"M23 22h-14c-0.552 0-1-0.448-1-1s0.448-1 1-1h14c0.552 0 1 0.448 1 1s-0.448 1-1 1z\"></path>\n<path d=\"M23 18h-14c-0.552 0-1-0.448-1-1s0.448-1 1-1h14c0.552 0 1 0.448 1 1s-0.448 1-1 1z\"></path>\n</symbol>\n</defs>\n</svg>\n<style>/* CSS stylesheet for displaying xarray objects in jupyterlab.\n *\n */\n\n:root {\n  --xr-font-color0: var(--jp-content-font-color0, rgba(0, 0, 0, 1));\n  --xr-font-color2: var(--jp-content-font-color2, rgba(0, 0, 0, 0.54));\n  --xr-font-color3: var(--jp-content-font-color3, rgba(0, 0, 0, 0.38));\n  --xr-border-color: var(--jp-border-color2, #e0e0e0);\n  --xr-disabled-color: var(--jp-layout-color3, #bdbdbd);\n  --xr-background-color: var(--jp-layout-color0, white);\n  --xr-background-color-row-even: var(--jp-layout-color1, white);\n  --xr-background-color-row-odd: var(--jp-layout-color2, #eeeeee);\n}\n\nhtml[theme=dark],\nbody.vscode-dark {\n  --xr-font-color0: rgba(255, 255, 255, 1);\n  --xr-font-color2: rgba(255, 255, 255, 0.54);\n  --xr-font-color3: rgba(255, 255, 255, 0.38);\n  --xr-border-color: #1F1F1F;\n  --xr-disabled-color: #515151;\n  --xr-background-color: #111111;\n  --xr-background-color-row-even: #111111;\n  --xr-background-color-row-odd: #313131;\n}\n\n.xr-wrap {\n  display: block !important;\n  min-width: 300px;\n  max-width: 700px;\n}\n\n.xr-text-repr-fallback {\n  /* fallback to plain text repr when CSS is not injected (untrusted notebook) */\n  display: none;\n}\n\n.xr-header {\n  padding-top: 6px;\n  padding-bottom: 6px;\n  margin-bottom: 4px;\n  border-bottom: solid 1px var(--xr-border-color);\n}\n\n.xr-header > div,\n.xr-header > ul {\n  display: inline;\n  margin-top: 0;\n  margin-bottom: 0;\n}\n\n.xr-obj-type,\n.xr-array-name {\n  margin-left: 2px;\n  margin-right: 10px;\n}\n\n.xr-obj-type {\n  color: var(--xr-font-color2);\n}\n\n.xr-sections {\n  padding-left: 0 !important;\n  display: grid;\n  grid-template-columns: 150px auto auto 1fr 20px 20px;\n}\n\n.xr-section-item {\n  display: contents;\n}\n\n.xr-section-item input {\n  display: none;\n}\n\n.xr-section-item input + label {\n  color: var(--xr-disabled-color);\n}\n\n.xr-section-item input:enabled + label {\n  cursor: pointer;\n  color: var(--xr-font-color2);\n}\n\n.xr-section-item input:enabled + label:hover {\n  color: var(--xr-font-color0);\n}\n\n.xr-section-summary {\n  grid-column: 1;\n  color: var(--xr-font-color2);\n  font-weight: 500;\n}\n\n.xr-section-summary > span {\n  display: inline-block;\n  padding-left: 0.5em;\n}\n\n.xr-section-summary-in:disabled + label {\n  color: var(--xr-font-color2);\n}\n\n.xr-section-summary-in + label:before {\n  display: inline-block;\n  content: '►';\n  font-size: 11px;\n  width: 15px;\n  text-align: center;\n}\n\n.xr-section-summary-in:disabled + label:before {\n  color: var(--xr-disabled-color);\n}\n\n.xr-section-summary-in:checked + label:before {\n  content: '▼';\n}\n\n.xr-section-summary-in:checked + label > span {\n  display: none;\n}\n\n.xr-section-summary,\n.xr-section-inline-details {\n  padding-top: 4px;\n  padding-bottom: 4px;\n}\n\n.xr-section-inline-details {\n  grid-column: 2 / -1;\n}\n\n.xr-section-details {\n  display: none;\n  grid-column: 1 / -1;\n  margin-bottom: 5px;\n}\n\n.xr-section-summary-in:checked ~ .xr-section-details {\n  display: contents;\n}\n\n.xr-array-wrap {\n  grid-column: 1 / -1;\n  display: grid;\n  grid-template-columns: 20px auto;\n}\n\n.xr-array-wrap > label {\n  grid-column: 1;\n  vertical-align: top;\n}\n\n.xr-preview {\n  color: var(--xr-font-color3);\n}\n\n.xr-array-preview,\n.xr-array-data {\n  padding: 0 5px !important;\n  grid-column: 2;\n}\n\n.xr-array-data,\n.xr-array-in:checked ~ .xr-array-preview {\n  display: none;\n}\n\n.xr-array-in:checked ~ .xr-array-data,\n.xr-array-preview {\n  display: inline-block;\n}\n\n.xr-dim-list {\n  display: inline-block !important;\n  list-style: none;\n  padding: 0 !important;\n  margin: 0;\n}\n\n.xr-dim-list li {\n  display: inline-block;\n  padding: 0;\n  margin: 0;\n}\n\n.xr-dim-list:before {\n  content: '(';\n}\n\n.xr-dim-list:after {\n  content: ')';\n}\n\n.xr-dim-list li:not(:last-child):after {\n  content: ',';\n  padding-right: 5px;\n}\n\n.xr-has-index {\n  font-weight: bold;\n}\n\n.xr-var-list,\n.xr-var-item {\n  display: contents;\n}\n\n.xr-var-item > div,\n.xr-var-item label,\n.xr-var-item > .xr-var-name span {\n  background-color: var(--xr-background-color-row-even);\n  margin-bottom: 0;\n}\n\n.xr-var-item > .xr-var-name:hover span {\n  padding-right: 5px;\n}\n\n.xr-var-list > li:nth-child(odd) > div,\n.xr-var-list > li:nth-child(odd) > label,\n.xr-var-list > li:nth-child(odd) > .xr-var-name span {\n  background-color: var(--xr-background-color-row-odd);\n}\n\n.xr-var-name {\n  grid-column: 1;\n}\n\n.xr-var-dims {\n  grid-column: 2;\n}\n\n.xr-var-dtype {\n  grid-column: 3;\n  text-align: right;\n  color: var(--xr-font-color2);\n}\n\n.xr-var-preview {\n  grid-column: 4;\n}\n\n.xr-var-name,\n.xr-var-dims,\n.xr-var-dtype,\n.xr-preview,\n.xr-attrs dt {\n  white-space: nowrap;\n  overflow: hidden;\n  text-overflow: ellipsis;\n  padding-right: 10px;\n}\n\n.xr-var-name:hover,\n.xr-var-dims:hover,\n.xr-var-dtype:hover,\n.xr-attrs dt:hover {\n  overflow: visible;\n  width: auto;\n  z-index: 1;\n}\n\n.xr-var-attrs,\n.xr-var-data {\n  display: none;\n  background-color: var(--xr-background-color) !important;\n  padding-bottom: 5px !important;\n}\n\n.xr-var-attrs-in:checked ~ .xr-var-attrs,\n.xr-var-data-in:checked ~ .xr-var-data {\n  display: block;\n}\n\n.xr-var-data > table {\n  float: right;\n}\n\n.xr-var-name span,\n.xr-var-data,\n.xr-attrs {\n  padding-left: 25px !important;\n}\n\n.xr-attrs,\n.xr-var-attrs,\n.xr-var-data {\n  grid-column: 1 / -1;\n}\n\ndl.xr-attrs {\n  padding: 0;\n  margin: 0;\n  display: grid;\n  grid-template-columns: 125px auto;\n}\n\n.xr-attrs dt,\n.xr-attrs dd {\n  padding: 0;\n  margin: 0;\n  float: left;\n  padding-right: 10px;\n  width: auto;\n}\n\n.xr-attrs dt {\n  font-weight: normal;\n  grid-column: 1;\n}\n\n.xr-attrs dt:hover span {\n  display: inline-block;\n  background: var(--xr-background-color);\n  padding-right: 10px;\n}\n\n.xr-attrs dd {\n  grid-column: 2;\n  white-space: pre-wrap;\n  word-break: break-all;\n}\n\n.xr-icon-database,\n.xr-icon-file-text2 {\n  display: inline-block;\n  vertical-align: middle;\n  width: 1em;\n  height: 1.5em !important;\n  stroke-width: 0;\n  stroke: currentColor;\n  fill: currentColor;\n}\n</style><pre class='xr-text-repr-fallback'>&lt;xarray.Dataset&gt;\nDimensions:                                                       (tg: 120, years: 251, percentiles: 3)\nCoordinates:\n  * tg                                                            (tg) object ...\n  * years                                                         (years) int64 ...\n  * percentiles                                                   (percentiles) int32 ...\nData variables: (12/43)\n    lon                                                           (tg) float32 ...\n    lat                                                           (tg) float32 ...\n    rsl_obs                                                       (years, tg) float32 ...\n    number_of_observation_years_for_trajectory_estimation         (tg) int32 ...\n    number_of_observation_years_for_trajectory_estimation_geq_30  (tg) int32 ...\n    rsl_trajectory                                                (percentiles, years, tg) float32 ...\n    ...                                                            ...\n    rsl_GIS_High                                                  (percentiles, years, tg) float32 ...\n    rsl_glaciers_High                                             (percentiles, years, tg) float32 ...\n    rsl_landwaterstorage_High                                     (percentiles, years, tg) float32 ...\n    rsl_oceandynamics_High                                        (percentiles, years, tg) float32 ...\n    rsl_total_High                                                (percentiles, years, tg) float32 ...\n    rsl_verticallandmotion_High                                   (percentiles, years, tg) float32 ...</pre><div class='xr-wrap' style='display:none'><div class='xr-header'><div class='xr-obj-type'>xarray.Dataset</div></div><ul class='xr-sections'><li class='xr-section-item'><input id='section-c0347414-d73a-4abb-be79-8bd0f558d266' class='xr-section-summary-in' type='checkbox' disabled ><label for='section-c0347414-d73a-4abb-be79-8bd0f558d266' class='xr-section-summary'  title='Expand/collapse section'>Dimensions:</label><div class='xr-section-inline-details'><ul class='xr-dim-list'><li><span class='xr-has-index'>tg</span>: 120</li><li><span class='xr-has-index'>years</span>: 251</li><li><span class='xr-has-index'>percentiles</span>: 3</li></ul></div><div class='xr-section-details'></div></li><li class='xr-section-item'><input id='section-52790e09-da3d-4185-a794-868c8e0dea46' class='xr-section-summary-in' type='checkbox'  checked><label for='section-52790e09-da3d-4185-a794-868c8e0dea46' class='xr-section-summary' >Coordinates: <span>(3)</span></label><div class='xr-section-inline-details'></div><div class='xr-section-details'><ul class='xr-var-list'><li class='xr-var-item'><div class='xr-var-name'><span class='xr-has-index'>tg</span></div><div class='xr-var-dims'>(tg)</div><div class='xr-var-dtype'>object</div><div class='xr-var-preview xr-preview'>&#x27;Nawiliwili, HI&#x27; ... &#x27;Magueyes I...</div><input id='attrs-bfa1d6da-2ba1-42dd-a2b1-d09c38ceb0c0' class='xr-var-attrs-in' type='checkbox' disabled><label for='attrs-bfa1d6da-2ba1-42dd-a2b1-d09c38ceb0c0' title='Show/Hide attributes'><svg class='icon xr-icon-file-text2'><use xlink:href='#icon-file-text2'></use></svg></label><input id='data-3274057f-501a-47b1-8c35-4b5b18484096' class='xr-var-data-in' type='checkbox'><label for='data-3274057f-501a-47b1-8c35-4b5b18484096' title='Show/Hide data repr'><svg class='icon xr-icon-database'><use xlink:href='#icon-database'></use></svg></label><div class='xr-var-attrs'><dl class='xr-attrs'></dl></div><div class='xr-var-data'><pre>array([&#x27;Nawiliwili, HI&#x27;, &#x27;Honolulu, HI&#x27;, &#x27;Mokuoloe, HI&#x27;, &#x27;Kahului, HI&#x27;,\n       &#x27;Kawaihae, HI&#x27;, &#x27;Hilo, HI&#x27;, &#x27;Midway Island&#x27;, &#x27;Apra Harbor, Guam&#x27;,\n       &#x27;Pago Pago, American Samoa &#x27;, &#x27;Kwajalein Island&#x27;, &#x27;Wake Island&#x27;,\n       &#x27;Eastport, ME&#x27;, &#x27;Bar Harbor, ME&#x27;, &#x27;Portland, ME&#x27;, &#x27;Boston, MA&#x27;,\n       &#x27;Woods Hole, MA&#x27;, &#x27;Nantucket Island, MA&#x27;, &#x27;Newport, RI&#x27;,\n       &#x27;Providence, RI&#x27;, &#x27;New London, CT&#x27;, &#x27;Bridgeport, CT&#x27;, &#x27;Montauk, NY&#x27;,\n       &#x27;Kings Point, NY&#x27;, &#x27;The Battery, NY&#x27;, &#x27;Bergen Point, NY&#x27;,\n       &#x27;Sandy Hook, NJ&#x27;, &#x27;Atlantic City, NJ&#x27;, &#x27;Cape May, NJ&#x27;,\n       &#x27;Philadelphia, PA&#x27;, &#x27;Reedy Point, DE&#x27;, &#x27;Lewes, DE&#x27;, &#x27;Cambridge, MD&#x27;,\n       &#x27;Tolchester Beach, MD&#x27;, &#x27;Baltimore, MD&#x27;, &#x27;Annapolis, MD&#x27;,\n       &#x27;Solomons Island, MD&#x27;, &#x27;Washington, DC&#x27;, &#x27;Wachapreague, VA&#x27;,\n       &#x27;Kiptopeke, VA&#x27;, &#x27;Lewisetta, VA&#x27;, &#x27;Windmill Point, VA&#x27;,\n       &#x27;Sewells Point, VA&#x27;, &#x27;Chesapeake Bay Bridge, VA&#x27;, &#x27;Duck, NC&#x27;,\n       &#x27;Oregon Inlet, NC &#x27;, &#x27;Beaufort, NC&#x27;, &#x27;Wilmington, NC&#x27;,\n       &#x27;Springmaid Pier, SC&#x27;, &#x27;Charleston, SC&#x27;, &#x27;Fort Pulaski, GA&#x27;,\n       &#x27;Fernandina Beach, FL&#x27;, &#x27;Mayport, FL&#x27;, &#x27;Trident Pier, FL&#x27;,\n       &#x27;Virginia Key, FL&#x27;, &#x27;Vaca Key, FL&#x27;, &#x27;Key West, FL&#x27;, &#x27;Naples, FL&#x27;,\n       &#x27;Fort Myers, FL&#x27;, &#x27;St. Petersburg, FL&#x27;, &#x27;Clearwater, FL&#x27;,\n       &#x27;Cedar Key, FL&#x27;, &#x27;Apalachicola, FL&#x27;, &#x27;Panama City, FL&#x27;,\n       &#x27;Panama City Beach, FL&#x27;, &#x27;Pensacola, FL&#x27;, &#x27;Dauphin Island, AL&#x27;,\n       &#x27;Bay Waveland, MS&#x27;, &#x27;Grand Isle, LA&#x27;, &#x27;Sabine Pass, TX&#x27;,\n       &#x27;Morgans Point, TX&#x27;, &#x27;Eagle Point, TX&#x27;, &#x27;Galveston Pier 21, TX&#x27;,\n       &#x27;Rockport, TX&#x27;, &#x27;Corpus Christi, TX&#x27;, &#x27;Port Isabel, TX&#x27;,\n       &#x27;San Diego, CA&#x27;, &#x27;La Jolla, CA&#x27;, &#x27;Los Angeles, CA&#x27;, &#x27;Santa Monica, CA&#x27;,\n       &#x27;Port San Luis, CA&#x27;, &#x27;Monterey, CA&#x27;, &#x27;San Francisco, CA&#x27;, &#x27;Alameda, CA&#x27;,\n       &#x27;Point Reyes, CA&#x27;, &#x27;Port Chicago, CA&#x27;, &#x27;Arena Cove, CA&#x27;,\n       &#x27;Humboldt Bay, CA&#x27;, &#x27;Crescent City, CA&#x27;, &#x27;Port Orford, CA&#x27;,\n       &#x27;Charleston, OR&#x27;, &#x27;South Beach, OR&#x27;, &#x27;Astoria, OR&#x27;, &#x27;Toke Point,WA&#x27;,\n       &#x27;Neah Bay, WA&#x27;, &#x27;Port Angeles, WA&#x27;, &#x27;Port Townsend, WA&#x27;, &#x27;Seattle, WA&#x27;,\n       &#x27;Cherry Point, WA&#x27;, &#x27;Friday Harbor, WA&#x27;, &#x27;Ketchikan, AK&#x27;, &#x27;Sitka, AK&#x27;,\n       &#x27;Juneau, AK&#x27;, &#x27;Skagway, AK&#x27;, &#x27;Yakutat, AK&#x27;, &#x27;Cordova, AK&#x27;, &#x27;Valdez, AK&#x27;,\n       &#x27;Seldovia, AK&#x27;, &#x27;Nikiski, AK&#x27;, &#x27;Anchorage, AK&#x27;, &#x27;Kodiak Island, AK&#x27;,\n       &#x27;Sand Point, AK&#x27;, &#x27;Adak Island, AK &#x27;, &#x27;Unalaska, AK&#x27;, &#x27;Port Moller, AK&#x27;,\n       &#x27;Nome, AK&#x27;, &#x27;Prudhoe Bay, AK&#x27;, &#x27;Lime Tree Bay, VI&#x27;,\n       &#x27;Charlotte Amalie, VI&#x27;, &#x27;San Juan, PR&#x27;, &#x27;Magueyes Island, PR&#x27;],\n      dtype=object)</pre></div></li><li class='xr-var-item'><div class='xr-var-name'><span class='xr-has-index'>years</span></div><div class='xr-var-dims'>(years)</div><div class='xr-var-dtype'>int64</div><div class='xr-var-preview xr-preview'>1900 1901 1902 ... 2148 2149 2150</div><input id='attrs-2dfd27c1-8066-4bf4-8ab5-364ef77cf958' class='xr-var-attrs-in' type='checkbox' disabled><label for='attrs-2dfd27c1-8066-4bf4-8ab5-364ef77cf958' title='Show/Hide attributes'><svg class='icon xr-icon-file-text2'><use xlink:href='#icon-file-text2'></use></svg></label><input id='data-0bd05a31-8dca-4889-9d33-6bde61e7edfc' class='xr-var-data-in' type='checkbox'><label for='data-0bd05a31-8dca-4889-9d33-6bde61e7edfc' title='Show/Hide data repr'><svg class='icon xr-icon-database'><use xlink:href='#icon-database'></use></svg></label><div class='xr-var-attrs'><dl class='xr-attrs'></dl></div><div class='xr-var-data'><pre>array([1900, 1901, 1902, ..., 2148, 2149, 2150])</pre></div></li><li class='xr-var-item'><div class='xr-var-name'><span class='xr-has-index'>percentiles</span></div><div class='xr-var-dims'>(percentiles)</div><div class='xr-var-dtype'>int32</div><div class='xr-var-preview xr-preview'>17 50 83</div><input id='attrs-e638f1ec-25e7-42fa-97de-9f9390b4f634' class='xr-var-attrs-in' type='checkbox' disabled><label for='attrs-e638f1ec-25e7-42fa-97de-9f9390b4f634' title='Show/Hide attributes'><svg class='icon xr-icon-file-text2'><use xlink:href='#icon-file-text2'></use></svg></label><input id='data-321c7b84-d1ce-4d6d-96b2-7f1ad5608133' class='xr-var-data-in' type='checkbox'><label for='data-321c7b84-d1ce-4d6d-96b2-7f1ad5608133' title='Show/Hide data repr'><svg class='icon xr-icon-database'><use xlink:href='#icon-database'></use></svg></label><div class='xr-var-attrs'><dl class='xr-attrs'></dl></div><div class='xr-var-data'><pre>array([17, 50, 83], dtype=int32)</pre></div></li></ul></div></li><li class='xr-section-item'><input id='section-5ce3f5d1-3e7a-4020-b58f-b6ea3c3d7987' class='xr-section-summary-in' type='checkbox'  ><label for='section-5ce3f5d1-3e7a-4020-b58f-b6ea3c3d7987' class='xr-section-summary' >Data variables: <span>(43)</span></label><div class='xr-section-inline-details'></div><div class='xr-section-details'><ul class='xr-var-list'><li class='xr-var-item'><div class='xr-var-name'><span>lon</span></div><div class='xr-var-dims'>(tg)</div><div class='xr-var-dtype'>float32</div><div class='xr-var-preview xr-preview'>...</div><input id='attrs-aa1c300a-adc5-4a91-8460-ec1760b5b1f6' class='xr-var-attrs-in' type='checkbox' disabled><label for='attrs-aa1c300a-adc5-4a91-8460-ec1760b5b1f6' title='Show/Hide attributes'><svg class='icon xr-icon-file-text2'><use xlink:href='#icon-file-text2'></use></svg></label><input id='data-5d8d92fa-3925-48b1-818f-3fd073ad76e2' class='xr-var-data-in' type='checkbox'><label for='data-5d8d92fa-3925-48b1-818f-3fd073ad76e2' title='Show/Hide data repr'><svg class='icon xr-icon-database'><use xlink:href='#icon-database'></use></svg></label><div class='xr-var-attrs'><dl class='xr-attrs'></dl></div><div class='xr-var-data'><pre>array([200.64389, 202.133  , 202.21   , 203.52333, 204.17064, 204.94417,\n       182.64   , 144.65395, 189.31   , 167.73622, 166.618  , 293.0171 ,\n       291.79498, 289.7533 , 288.9466 , 289.3283 , 289.9033 , 288.6733 ,\n       288.59882, 287.91003, 286.8183 , 288.04   , 286.2351 , 285.9858 ,\n       285.8583 , 285.9906 , 285.5817 , 285.04   , 284.85834, 284.4267 ,\n       284.88   , 283.9317 , 283.755  , 283.42166, 283.51843, 283.54834,\n       282.97833, 284.31415, 284.01157, 283.53555, 283.71   , 283.66998,\n       283.88666, 284.2533 , 284.4517 , 283.33002, 282.0467 , 281.0817 ,\n       280.075  , 279.0983 , 278.535  , 278.57   , 279.4069 , 279.8382 ,\n       278.895  , 278.1921 , 278.1925 , 278.12878, 277.3731 , 277.168  ,\n       276.9683 , 275.0183 , 274.33307, 274.1217 , 272.78882, 271.925  ,\n       270.67422, 270.04333, 266.12988, 265.015  , 265.0817 , 265.2067 ,\n       262.9533 , 262.7833 , 262.785  , 242.82642, 242.742  , 241.728  ,\n       241.5    , 239.23999, 238.112  , 237.535  , 237.70166, 237.0233 ,\n       237.96051, 236.29199, 235.78299, 235.817  , 235.50172, 235.67801,\n       235.957  , 236.23169, 236.03308, 235.38834, 236.56   , 237.242  ,\n       237.6607 , 237.242  , 236.98999, 228.37381, 224.658  , 225.588  ,\n       224.673  , 220.2666 , 214.247  , 213.638  , 208.28006, 208.602  ,\n       210.11   , 207.488  , 199.498  , 183.368  , 193.463  , 199.438  ,\n       194.57   , 211.473  , 295.2462 , 295.08002, 293.88358, 292.95358],\n      dtype=float32)</pre></div></li><li class='xr-var-item'><div class='xr-var-name'><span>lat</span></div><div class='xr-var-dims'>(tg)</div><div class='xr-var-dtype'>float32</div><div class='xr-var-preview xr-preview'>...</div><input id='attrs-e432d8d8-03b5-49e5-9dc7-48a58d0972ae' class='xr-var-attrs-in' type='checkbox' disabled><label for='attrs-e432d8d8-03b5-49e5-9dc7-48a58d0972ae' title='Show/Hide attributes'><svg class='icon xr-icon-file-text2'><use xlink:href='#icon-file-text2'></use></svg></label><input id='data-db786a08-83be-4db8-9ec9-90867d4613f1' class='xr-var-data-in' type='checkbox'><label for='data-db786a08-83be-4db8-9ec9-90867d4613f1' title='Show/Hide data repr'><svg class='icon xr-icon-database'><use xlink:href='#icon-database'></use></svg></label><div class='xr-var-attrs'><dl class='xr-attrs'></dl></div><div class='xr-var-data'><pre>array([ 21.954445,  21.3067  ,  21.433056,  20.895   ,  20.036583,  19.730278,\n        28.2117  ,  13.43872 , -14.28    ,   8.73161 ,  19.29    ,  44.9046  ,\n        44.3917  ,  43.6567  ,  42.3548  ,  41.5233  ,  41.285   ,  41.505   ,\n        41.8071  ,  41.36139 ,  41.1733  ,  41.0483  ,  40.8103  ,  40.7006  ,\n        40.6367  ,  40.4669  ,  39.355   ,  38.968334,  39.933334,  39.558304,\n        38.781696,  38.5733  ,  39.21333 ,  39.26667 ,  38.98328 ,  38.31667 ,\n        38.87333 ,  37.607777,  37.16519 ,  37.996113,  37.6162  ,  36.946667,\n        36.966667,  36.183304,  35.795   ,  34.72    ,  34.2267  ,  33.655   ,\n        32.7817  ,  32.0333  ,  30.6717  ,  30.3967  ,  28.4158  ,  25.7314  ,\n        24.7117  ,  24.5557  ,  26.1317  ,  26.6477  ,  27.7606  ,  27.978   ,\n        29.135   ,  29.7267  ,  30.152277,  30.2133  ,  30.4044  ,  30.25    ,\n        30.32639 ,  29.263334,  29.7284  ,  29.6817  ,  29.48    ,  29.31    ,\n        28.0217  ,  27.58    ,  26.06    ,  32.71419 ,  32.8667  ,  33.72    ,\n        34.0083  ,  35.1767  ,  36.605   ,  37.806694,  37.771667,  37.9961  ,\n        38.056   ,  38.9133  ,  40.7667  ,  41.745   ,  42.73897 ,  43.345   ,\n        44.625   ,  46.20731 ,  46.70747 ,  48.36667 ,  48.125   ,  48.1117  ,\n        47.60264 ,  48.8633  ,  48.546665,  55.33183 ,  57.0517  ,  58.2983  ,\n        59.45    ,  59.5485  ,  60.5583  ,  61.125   ,  59.44053 ,  60.6833  ,\n        61.238304,  57.7317  ,  55.336693,  51.8633  ,  53.88    ,  55.99    ,\n        64.5     ,  70.4     ,  17.694723,  18.335833,  18.45894 ,  17.97008 ],\n      dtype=float32)</pre></div></li><li class='xr-var-item'><div class='xr-var-name'><span>rsl_obs</span></div><div class='xr-var-dims'>(years, tg)</div><div class='xr-var-dtype'>float32</div><div class='xr-var-preview xr-preview'>...</div><input id='attrs-ced9d7d7-63e8-4c90-8808-176abefe4428' class='xr-var-attrs-in' type='checkbox' disabled><label for='attrs-ced9d7d7-63e8-4c90-8808-176abefe4428' title='Show/Hide attributes'><svg class='icon xr-icon-file-text2'><use xlink:href='#icon-file-text2'></use></svg></label><input id='data-09b03e00-6d4a-465c-9b34-fa72ad7fd86d' class='xr-var-data-in' type='checkbox'><label for='data-09b03e00-6d4a-465c-9b34-fa72ad7fd86d' title='Show/Hide data repr'><svg class='icon xr-icon-database'><use xlink:href='#icon-database'></use></svg></label><div class='xr-var-attrs'><dl class='xr-attrs'></dl></div><div class='xr-var-data'><pre>array([[nan, nan, nan, ..., nan, nan, nan],\n       [nan, nan, nan, ..., nan, nan, nan],\n       [nan, nan, nan, ..., nan, nan, nan],\n       ...,\n       [nan, nan, nan, ..., nan, nan, nan],\n       [nan, nan, nan, ..., nan, nan, nan],\n       [nan, nan, nan, ..., nan, nan, nan]], dtype=float32)</pre></div></li><li class='xr-var-item'><div class='xr-var-name'><span>number_of_observation_years_for_trajectory_estimation</span></div><div class='xr-var-dims'>(tg)</div><div class='xr-var-dtype'>int32</div><div class='xr-var-preview xr-preview'>...</div><input id='attrs-c66ad1c2-80ea-4731-9657-77f55ba1b6b9' class='xr-var-attrs-in' type='checkbox' disabled><label for='attrs-c66ad1c2-80ea-4731-9657-77f55ba1b6b9' title='Show/Hide attributes'><svg class='icon xr-icon-file-text2'><use xlink:href='#icon-file-text2'></use></svg></label><input id='data-0646e61b-3446-4043-aee8-c3e79f5fd317' class='xr-var-data-in' type='checkbox'><label for='data-0646e61b-3446-4043-aee8-c3e79f5fd317' title='Show/Hide data repr'><svg class='icon xr-icon-database'><use xlink:href='#icon-database'></use></svg></label><div class='xr-var-attrs'><dl class='xr-attrs'></dl></div><div class='xr-var-data'><pre>array([51, 51, 40, 50, 28, 50, 45, 46, 48, 49, 47, 48, 44, 51, 51, 50, 51, 51,\n       51, 49, 51, 44, 22, 51, 36, 50, 48, 47, 31, 39, 51, 49, 27, 51, 50, 45,\n       49, 34, 50, 48, 25, 51, 41, 41, 26, 48, 51, 41, 51, 49, 49, 20, 26, 27,\n       44, 51, 49, 49, 51, 42, 48, 47, 46, 25, 49, 43, 29, 43, 35, 25, 27, 51,\n       49, 35, 47, 51, 51, 51, 43, 49, 47, 51, 51, 46, 43, 34, 41, 51, 36, 49,\n       51, 51, 44, 49, 45, 49, 51, 48, 51, 49, 50, 51, 38, 50, 51, 45, 49, 25,\n       41, 36, 46, 47, 43, 12, 23, 30, 36, 39, 45, 45], dtype=int32)</pre></div></li><li class='xr-var-item'><div class='xr-var-name'><span>number_of_observation_years_for_trajectory_estimation_geq_30</span></div><div class='xr-var-dims'>(tg)</div><div class='xr-var-dtype'>int32</div><div class='xr-var-preview xr-preview'>...</div><input id='attrs-a3849379-170c-4fbc-baae-228391119e5a' class='xr-var-attrs-in' type='checkbox' disabled><label for='attrs-a3849379-170c-4fbc-baae-228391119e5a' title='Show/Hide attributes'><svg class='icon xr-icon-file-text2'><use xlink:href='#icon-file-text2'></use></svg></label><input id='data-0315b6c8-04b4-41db-9161-25b623d9db91' class='xr-var-data-in' type='checkbox'><label for='data-0315b6c8-04b4-41db-9161-25b623d9db91' title='Show/Hide data repr'><svg class='icon xr-icon-database'><use xlink:href='#icon-database'></use></svg></label><div class='xr-var-attrs'><dl class='xr-attrs'></dl></div><div class='xr-var-data'><pre>array([1, 1, 1, 1, 0, 1, 1, 1, 1, 1, 1, 1, 1, 1, 1, 1, 1, 1, 1, 1, 1, 1, 0, 1,\n       1, 1, 1, 1, 1, 1, 1, 1, 0, 1, 1, 1, 1, 1, 1, 1, 0, 1, 1, 1, 0, 1, 1, 1,\n       1, 1, 1, 0, 0, 0, 1, 1, 1, 1, 1, 1, 1, 1, 1, 0, 1, 1, 0, 1, 1, 0, 0, 1,\n       1, 1, 1, 1, 1, 1, 1, 1, 1, 1, 1, 1, 1, 1, 1, 1, 1, 1, 1, 1, 1, 1, 1, 1,\n       1, 1, 1, 1, 1, 1, 1, 1, 1, 1, 1, 0, 1, 1, 1, 1, 1, 0, 0, 1, 1, 1, 1, 1],\n      dtype=int32)</pre></div></li><li class='xr-var-item'><div class='xr-var-name'><span>rsl_trajectory</span></div><div class='xr-var-dims'>(percentiles, years, tg)</div><div class='xr-var-dtype'>float32</div><div class='xr-var-preview xr-preview'>...</div><input id='attrs-307c5d2e-5822-4a64-9cb8-a7fe74991dcb' class='xr-var-attrs-in' type='checkbox' disabled><label for='attrs-307c5d2e-5822-4a64-9cb8-a7fe74991dcb' title='Show/Hide attributes'><svg class='icon xr-icon-file-text2'><use xlink:href='#icon-file-text2'></use></svg></label><input id='data-d4c2636b-d945-456a-9be8-a681580d2cf4' class='xr-var-data-in' type='checkbox'><label for='data-d4c2636b-d945-456a-9be8-a681580d2cf4' title='Show/Hide data repr'><svg class='icon xr-icon-database'><use xlink:href='#icon-database'></use></svg></label><div class='xr-var-attrs'><dl class='xr-attrs'></dl></div><div class='xr-var-data'><pre>array([[[nan, nan, ..., nan, nan],\n        [nan, nan, ..., nan, nan],\n        ...,\n        [nan, nan, ..., nan, nan],\n        [nan, nan, ..., nan, nan]],\n\n       [[nan, nan, ..., nan, nan],\n        [nan, nan, ..., nan, nan],\n        ...,\n        [nan, nan, ..., nan, nan],\n        [nan, nan, ..., nan, nan]],\n\n       [[nan, nan, ..., nan, nan],\n        [nan, nan, ..., nan, nan],\n        ...,\n        [nan, nan, ..., nan, nan],\n        [nan, nan, ..., nan, nan]]], dtype=float32)</pre></div></li><li class='xr-var-item'><div class='xr-var-name'><span>rsl_trend</span></div><div class='xr-var-dims'>(percentiles, tg)</div><div class='xr-var-dtype'>float32</div><div class='xr-var-preview xr-preview'>...</div><input id='attrs-8c77a5f5-3d57-48dc-9bb2-234e365fbcd5' class='xr-var-attrs-in' type='checkbox' disabled><label for='attrs-8c77a5f5-3d57-48dc-9bb2-234e365fbcd5' title='Show/Hide attributes'><svg class='icon xr-icon-file-text2'><use xlink:href='#icon-file-text2'></use></svg></label><input id='data-998f39a4-062a-47f9-a93d-737f6e8746bb' class='xr-var-data-in' type='checkbox'><label for='data-998f39a4-062a-47f9-a93d-737f6e8746bb' title='Show/Hide data repr'><svg class='icon xr-icon-database'><use xlink:href='#icon-database'></use></svg></label><div class='xr-var-attrs'><dl class='xr-attrs'></dl></div><div class='xr-var-data'><pre>array([[1.70924 , 1.693147, 1.816485, ..., 1.952624, 1.901879, 1.890091],\n       [2.18284 , 2.21827 , 2.46352 , ..., 2.24919 , 2.06536 , 2.0435  ],\n       [2.65644 , 2.743393, 3.110555, ..., 2.545756, 2.228841, 2.196909]],\n      dtype=float32)</pre></div></li><li class='xr-var-item'><div class='xr-var-name'><span>rsl_accel</span></div><div class='xr-var-dims'>(percentiles, tg)</div><div class='xr-var-dtype'>float32</div><div class='xr-var-preview xr-preview'>...</div><input id='attrs-b95b9cca-109e-4a94-a405-3f251f75315e' class='xr-var-attrs-in' type='checkbox' disabled><label for='attrs-b95b9cca-109e-4a94-a405-3f251f75315e' title='Show/Hide attributes'><svg class='icon xr-icon-file-text2'><use xlink:href='#icon-file-text2'></use></svg></label><input id='data-842853b5-ab66-4d28-b489-b67dccfe01d6' class='xr-var-data-in' type='checkbox'><label for='data-842853b5-ab66-4d28-b489-b67dccfe01d6' title='Show/Hide data repr'><svg class='icon xr-icon-database'><use xlink:href='#icon-database'></use></svg></label><div class='xr-var-attrs'><dl class='xr-attrs'></dl></div><div class='xr-var-data'><pre>array([[-1.050480e-02, -3.488000e-04,  1.427058e-01, ...,  7.391680e-02,\n         5.351520e-02,  1.274566e-01],\n       [ 5.401580e-02,  7.103920e-02,  2.581200e-01, ...,  1.240930e-01,\n         7.827880e-02,  1.506002e-01],\n       [ 1.185364e-01,  1.424272e-01,  3.735342e-01, ...,  1.742692e-01,\n         1.030424e-01,  1.737438e-01]], dtype=float32)</pre></div></li><li class='xr-var-item'><div class='xr-var-name'><span>rsl_AIS_Low</span></div><div class='xr-var-dims'>(percentiles, years, tg)</div><div class='xr-var-dtype'>float32</div><div class='xr-var-preview xr-preview'>...</div><input id='attrs-92561605-27a2-444f-9ed5-03428d8283e6' class='xr-var-attrs-in' type='checkbox' disabled><label for='attrs-92561605-27a2-444f-9ed5-03428d8283e6' title='Show/Hide attributes'><svg class='icon xr-icon-file-text2'><use xlink:href='#icon-file-text2'></use></svg></label><input id='data-dda1638c-f146-44cc-8aa4-7b02e7dd49f2' class='xr-var-data-in' type='checkbox'><label for='data-dda1638c-f146-44cc-8aa4-7b02e7dd49f2' title='Show/Hide data repr'><svg class='icon xr-icon-database'><use xlink:href='#icon-database'></use></svg></label><div class='xr-var-attrs'><dl class='xr-attrs'></dl></div><div class='xr-var-data'><pre>array([[[      nan,       nan, ...,       nan,       nan],\n        [      nan,       nan, ...,       nan,       nan],\n        ...,\n        [-73.3    , -73.3    , ..., -69.4    , -69.4    ],\n        [-74.     , -74.     , ..., -70.     , -70.     ]],\n\n       [[      nan,       nan, ...,       nan,       nan],\n        [      nan,       nan, ...,       nan,       nan],\n        ...,\n        [ 34.5    ,  34.5    , ...,  32.6    ,  32.6    ],\n        [ 35.     ,  35.     , ...,  33.     ,  33.     ]],\n\n       [[      nan,       nan, ...,       nan,       nan],\n        [      nan,       nan, ...,       nan,       nan],\n        ...,\n        [206.     , 206.     , ..., 195.09999, 194.2    ],\n        [208.     , 208.     , ..., 197.     , 196.     ]]], dtype=float32)</pre></div></li><li class='xr-var-item'><div class='xr-var-name'><span>rsl_GIS_Low</span></div><div class='xr-var-dims'>(percentiles, years, tg)</div><div class='xr-var-dtype'>float32</div><div class='xr-var-preview xr-preview'>...</div><input id='attrs-4a9bd187-0dc1-4507-a1f3-46517bd714f1' class='xr-var-attrs-in' type='checkbox' disabled><label for='attrs-4a9bd187-0dc1-4507-a1f3-46517bd714f1' title='Show/Hide attributes'><svg class='icon xr-icon-file-text2'><use xlink:href='#icon-file-text2'></use></svg></label><input id='data-1b5a3370-79a5-4e68-8dd5-f863a2232a51' class='xr-var-data-in' type='checkbox'><label for='data-1b5a3370-79a5-4e68-8dd5-f863a2232a51' title='Show/Hide data repr'><svg class='icon xr-icon-database'><use xlink:href='#icon-database'></use></svg></label><div class='xr-var-attrs'><dl class='xr-attrs'></dl></div><div class='xr-var-data'><pre>array([[[       nan,        nan, ...,        nan,        nan],\n        [       nan,        nan, ...,        nan,        nan],\n        ...,\n        [ 86.2     ,  86.2     , ...,  62.399998,  62.399998],\n        [ 87.      ,  87.      , ...,  63.      ,  63.      ]],\n\n       [[       nan,        nan, ...,        nan,        nan],\n        [       nan,        nan, ...,        nan,        nan],\n        ...,\n        [121.      , 121.      , ...,  87.3     ,  87.3     ],\n        [122.      , 122.      , ...,  88.      ,  88.      ]],\n\n       [[       nan,        nan, ...,        nan,        nan],\n        [       nan,        nan, ...,        nan,        nan],\n        ...,\n        [163.6     , 163.6     , ..., 118.      , 118.      ],\n        [165.      , 165.      , ..., 119.      , 119.      ]]], dtype=float32)</pre></div></li><li class='xr-var-item'><div class='xr-var-name'><span>rsl_glaciers_Low</span></div><div class='xr-var-dims'>(percentiles, years, tg)</div><div class='xr-var-dtype'>float32</div><div class='xr-var-preview xr-preview'>...</div><input id='attrs-173f519a-8475-4537-87c1-7af62e10812b' class='xr-var-attrs-in' type='checkbox' disabled><label for='attrs-173f519a-8475-4537-87c1-7af62e10812b' title='Show/Hide attributes'><svg class='icon xr-icon-file-text2'><use xlink:href='#icon-file-text2'></use></svg></label><input id='data-904f5ec5-756d-4df0-9431-dff9ee2aaada' class='xr-var-data-in' type='checkbox'><label for='data-904f5ec5-756d-4df0-9431-dff9ee2aaada' title='Show/Hide data repr'><svg class='icon xr-icon-database'><use xlink:href='#icon-database'></use></svg></label><div class='xr-var-attrs'><dl class='xr-attrs'></dl></div><div class='xr-var-data'><pre>array([[[       nan,        nan, ...,        nan,        nan],\n        [       nan,        nan, ...,        nan,        nan],\n        ...,\n        [ 81.799995,  81.799995, ...,  77.799995,  76.799995],\n        [ 82.      ,  82.      , ...,  78.      ,  77.      ]],\n\n       [[       nan,        nan, ...,        nan,        nan],\n        [       nan,        nan, ...,        nan,        nan],\n        ...,\n        [117.6     , 118.6     , ..., 111.6     , 111.5     ],\n        [118.      , 119.      , ..., 112.      , 112.      ]],\n\n       [[       nan,        nan, ...,        nan,        nan],\n        [       nan,        nan, ...,        nan,        nan],\n        ...,\n        [168.29999 , 169.20001 , ..., 159.3     , 158.29999 ],\n        [169.      , 170.      , ..., 160.      , 159.      ]]], dtype=float32)</pre></div></li><li class='xr-var-item'><div class='xr-var-name'><span>rsl_landwaterstorage_Low</span></div><div class='xr-var-dims'>(percentiles, years, tg)</div><div class='xr-var-dtype'>float32</div><div class='xr-var-preview xr-preview'>...</div><input id='attrs-92486f42-81e5-4873-a1d5-9479c8f44185' class='xr-var-attrs-in' type='checkbox' disabled><label for='attrs-92486f42-81e5-4873-a1d5-9479c8f44185' title='Show/Hide attributes'><svg class='icon xr-icon-file-text2'><use xlink:href='#icon-file-text2'></use></svg></label><input id='data-f9165b16-5930-4d25-85d0-84da7f18981f' class='xr-var-data-in' type='checkbox'><label for='data-f9165b16-5930-4d25-85d0-84da7f18981f' title='Show/Hide data repr'><svg class='icon xr-icon-database'><use xlink:href='#icon-database'></use></svg></label><div class='xr-var-attrs'><dl class='xr-attrs'></dl></div><div class='xr-var-data'><pre>array([[[      nan,       nan, ...,       nan,       nan],\n        [      nan,       nan, ...,       nan,       nan],\n        ...,\n        [29.800001, 29.800001, ..., 27.8     , 27.8     ],\n        [30.      , 30.      , ..., 28.      , 28.      ]],\n\n       [[      nan,       nan, ...,       nan,       nan],\n        [      nan,       nan, ...,       nan,       nan],\n        ...,\n        [47.699997, 47.699997, ..., 44.7     , 44.7     ],\n        [48.      , 48.      , ..., 45.      , 45.      ]],\n\n       [[      nan,       nan, ...,       nan,       nan],\n        [      nan,       nan, ...,       nan,       nan],\n        ...,\n        [67.7     , 67.6     , ..., 62.699997, 62.699997],\n        [68.      , 68.      , ..., 63.      , 63.      ]]], dtype=float32)</pre></div></li><li class='xr-var-item'><div class='xr-var-name'><span>rsl_oceandynamics_Low</span></div><div class='xr-var-dims'>(percentiles, years, tg)</div><div class='xr-var-dtype'>float32</div><div class='xr-var-preview xr-preview'>...</div><input id='attrs-a9c1e5b9-21d2-4802-8b78-7d6a0074f2eb' class='xr-var-attrs-in' type='checkbox' disabled><label for='attrs-a9c1e5b9-21d2-4802-8b78-7d6a0074f2eb' title='Show/Hide attributes'><svg class='icon xr-icon-file-text2'><use xlink:href='#icon-file-text2'></use></svg></label><input id='data-6ac40d22-bbc2-4bc9-9572-d0f5b53b77bf' class='xr-var-data-in' type='checkbox'><label for='data-6ac40d22-bbc2-4bc9-9572-d0f5b53b77bf' title='Show/Hide data repr'><svg class='icon xr-icon-database'><use xlink:href='#icon-database'></use></svg></label><div class='xr-var-attrs'><dl class='xr-attrs'></dl></div><div class='xr-var-data'><pre>array([[[      nan,       nan, ...,       nan,       nan],\n        [      nan,       nan, ...,       nan,       nan],\n        ...,\n        [ 36.3    ,  48.1    , ...,  76.     ,  74.1    ],\n        [ 36.     ,  48.     , ...,  76.     ,  74.     ]],\n\n       [[      nan,       nan, ...,       nan,       nan],\n        [      nan,       nan, ...,       nan,       nan],\n        ...,\n        [137.5    , 137.6    , ..., 181.3    , 181.40001],\n        [138.     , 138.     , ..., 182.     , 182.     ]],\n\n       [[      nan,       nan, ...,       nan,       nan],\n        [      nan,       nan, ...,       nan,       nan],\n        ...,\n        [241.     , 234.     , ..., 299.6    , 302.6    ],\n        [242.     , 235.     , ..., 301.     , 304.     ]]], dtype=float32)</pre></div></li><li class='xr-var-item'><div class='xr-var-name'><span>rsl_total_Low</span></div><div class='xr-var-dims'>(percentiles, years, tg)</div><div class='xr-var-dtype'>float32</div><div class='xr-var-preview xr-preview'>...</div><input id='attrs-a83d6a05-2f68-4bd3-af98-65d0c1cd8ff8' class='xr-var-attrs-in' type='checkbox' disabled><label for='attrs-a83d6a05-2f68-4bd3-af98-65d0c1cd8ff8' title='Show/Hide attributes'><svg class='icon xr-icon-file-text2'><use xlink:href='#icon-file-text2'></use></svg></label><input id='data-fc136b32-f312-4450-ad32-d9f8dd9e755c' class='xr-var-data-in' type='checkbox'><label for='data-fc136b32-f312-4450-ad32-d9f8dd9e755c' title='Show/Hide data repr'><svg class='icon xr-icon-database'><use xlink:href='#icon-database'></use></svg></label><div class='xr-var-attrs'><dl class='xr-attrs'></dl></div><div class='xr-var-data'><pre>array([[[      nan,       nan, ...,       nan,       nan],\n        [      nan,       nan, ...,       nan,       nan],\n        ...,\n        [355.2104 , 401.95074, ..., 369.41   , 370.1643 ],\n        [356.81036, 403.85077, ..., 371.31   , 371.8643 ]],\n\n       [[      nan,       nan, ...,       nan,       nan],\n        [      nan,       nan, ...,       nan,       nan],\n        ...,\n        [484.11035, 521.9508 , ..., 532.31   , 523.06433],\n        [486.81036, 524.85077, ..., 535.31   , 525.8643 ]],\n\n       [[      nan,       nan, ...,       nan,       nan],\n        [      nan,       nan, ...,       nan,       nan],\n        ...,\n        [655.0103 , 687.25073, ..., 724.70996, 705.3643 ],\n        [659.81036, 691.85077, ..., 729.31   , 709.8643 ]]], dtype=float32)</pre></div></li><li class='xr-var-item'><div class='xr-var-name'><span>rsl_verticallandmotion_Low</span></div><div class='xr-var-dims'>(percentiles, years, tg)</div><div class='xr-var-dtype'>float32</div><div class='xr-var-preview xr-preview'>...</div><input id='attrs-c1ed884d-01d0-446e-a603-9a46ff4c0618' class='xr-var-attrs-in' type='checkbox' disabled><label for='attrs-c1ed884d-01d0-446e-a603-9a46ff4c0618' title='Show/Hide attributes'><svg class='icon xr-icon-file-text2'><use xlink:href='#icon-file-text2'></use></svg></label><input id='data-74136e91-5134-4527-9174-ce318ab9366a' class='xr-var-data-in' type='checkbox'><label for='data-74136e91-5134-4527-9174-ce318ab9366a' title='Show/Hide data repr'><svg class='icon xr-icon-database'><use xlink:href='#icon-database'></use></svg></label><div class='xr-var-attrs'><dl class='xr-attrs'></dl></div><div class='xr-var-data'><pre>array([[[       nan,        nan, ...,        nan,        nan],\n        [       nan,        nan, ...,        nan,        nan],\n        ...,\n        [-38.789623,   4.950773, ..., -26.490005,  -8.935707],\n        [-39.189625,   4.850773, ..., -26.690004,  -9.135708]],\n\n       [[       nan,        nan, ...,        nan,        nan],\n        [       nan,        nan, ...,        nan,        nan],\n        ...,\n        [  1.810375,  38.650772, ...,  48.109997,  39.66429 ],\n        [  1.810375,  38.850773, ...,  48.309998,  39.864292]],\n\n       [[       nan,        nan, ...,        nan,        nan],\n        [       nan,        nan, ...,        nan,        nan],\n        ...,\n        [ 38.710377,  69.45077 , ..., 117.61    ,  84.464294],\n        [ 38.810375,  69.85077 , ..., 118.31    ,  84.86429 ]]], dtype=float32)</pre></div></li><li class='xr-var-item'><div class='xr-var-name'><span>rsl_AIS_IntLow</span></div><div class='xr-var-dims'>(percentiles, years, tg)</div><div class='xr-var-dtype'>float32</div><div class='xr-var-preview xr-preview'>...</div><input id='attrs-3d9a4289-f68a-4866-977c-84bc4a20ddfe' class='xr-var-attrs-in' type='checkbox' disabled><label for='attrs-3d9a4289-f68a-4866-977c-84bc4a20ddfe' title='Show/Hide attributes'><svg class='icon xr-icon-file-text2'><use xlink:href='#icon-file-text2'></use></svg></label><input id='data-afff99c2-a595-49d0-acb6-8300ff0f8f4e' class='xr-var-data-in' type='checkbox'><label for='data-afff99c2-a595-49d0-acb6-8300ff0f8f4e' title='Show/Hide data repr'><svg class='icon xr-icon-database'><use xlink:href='#icon-database'></use></svg></label><div class='xr-var-attrs'><dl class='xr-attrs'></dl></div><div class='xr-var-data'><pre>array([[[       nan,        nan, ...,        nan,        nan],\n        [       nan,        nan, ...,        nan,        nan],\n        ...,\n        [ 18.7     ,  18.7     , ...,  17.699999,  17.699999],\n        [ 19.      ,  19.      , ...,  18.      ,  18.      ]],\n\n       [[       nan,        nan, ...,        nan,        nan],\n        [       nan,        nan, ...,        nan,        nan],\n        ...,\n        [238.7     , 238.7     , ..., 225.8     , 225.8     ],\n        [241.      , 241.      , ..., 228.      , 228.      ]],\n\n       [[       nan,        nan, ...,        nan,        nan],\n        [       nan,        nan, ...,        nan,        nan],\n        ...,\n        [441.2     , 440.3     , ..., 418.5     , 417.59998 ],\n        [447.      , 446.      , ..., 424.      , 423.      ]]], dtype=float32)</pre></div></li><li class='xr-var-item'><div class='xr-var-name'><span>rsl_GIS_IntLow</span></div><div class='xr-var-dims'>(percentiles, years, tg)</div><div class='xr-var-dtype'>float32</div><div class='xr-var-preview xr-preview'>...</div><input id='attrs-3d32133e-2f72-4ba1-b32f-8ab506f51708' class='xr-var-attrs-in' type='checkbox' disabled><label for='attrs-3d32133e-2f72-4ba1-b32f-8ab506f51708' title='Show/Hide attributes'><svg class='icon xr-icon-file-text2'><use xlink:href='#icon-file-text2'></use></svg></label><input id='data-23b21629-dc99-4b57-95f0-28fe3322b009' class='xr-var-data-in' type='checkbox'><label for='data-23b21629-dc99-4b57-95f0-28fe3322b009' title='Show/Hide data repr'><svg class='icon xr-icon-database'><use xlink:href='#icon-database'></use></svg></label><div class='xr-var-attrs'><dl class='xr-attrs'></dl></div><div class='xr-var-data'><pre>array([[[      nan,       nan, ...,       nan,       nan],\n        [      nan,       nan, ...,       nan,       nan],\n        ...,\n        [140.9    , 140.9    , ..., 101.2    , 101.2    ],\n        [142.     , 142.     , ..., 102.     , 102.     ]],\n\n       [[      nan,       nan, ...,       nan,       nan],\n        [      nan,       nan, ...,       nan,       nan],\n        ...,\n        [198.20001, 198.20001, ..., 142.7    , 142.7    ],\n        [200.     , 200.     , ..., 144.     , 144.     ]],\n\n       [[      nan,       nan, ...,       nan,       nan],\n        [      nan,       nan, ...,       nan,       nan],\n        ...,\n        [274.3    , 274.3    , ..., 198.     , 198.     ],\n        [277.     , 277.     , ..., 200.     , 200.     ]]], dtype=float32)</pre></div></li><li class='xr-var-item'><div class='xr-var-name'><span>rsl_glaciers_IntLow</span></div><div class='xr-var-dims'>(percentiles, years, tg)</div><div class='xr-var-dtype'>float32</div><div class='xr-var-preview xr-preview'>...</div><input id='attrs-d4655156-ca91-47ad-8507-e8202564b4c6' class='xr-var-attrs-in' type='checkbox' disabled><label for='attrs-d4655156-ca91-47ad-8507-e8202564b4c6' title='Show/Hide attributes'><svg class='icon xr-icon-file-text2'><use xlink:href='#icon-file-text2'></use></svg></label><input id='data-c260d519-362e-4809-b742-88747ff7af21' class='xr-var-data-in' type='checkbox'><label for='data-c260d519-362e-4809-b742-88747ff7af21' title='Show/Hide data repr'><svg class='icon xr-icon-database'><use xlink:href='#icon-database'></use></svg></label><div class='xr-var-attrs'><dl class='xr-attrs'></dl></div><div class='xr-var-data'><pre>array([[[      nan,       nan, ...,       nan,       nan],\n        [      nan,       nan, ...,       nan,       nan],\n        ...,\n        [111.5    , 112.5    , ..., 105.5    , 105.5    ],\n        [112.     , 113.     , ..., 106.     , 106.     ]],\n\n       [[      nan,       nan, ...,       nan,       nan],\n        [      nan,       nan, ...,       nan,       nan],\n        ...,\n        [171.     , 172.     , ..., 162.     , 161.1    ],\n        [172.     , 173.     , ..., 163.     , 162.     ]],\n\n       [[      nan,       nan, ...,       nan,       nan],\n        [      nan,       nan, ...,       nan,       nan],\n        ...,\n        [257.1    , 258.1    , ..., 243.20001, 242.2    ],\n        [259.     , 260.     , ..., 245.     , 244.     ]]], dtype=float32)</pre></div></li><li class='xr-var-item'><div class='xr-var-name'><span>rsl_landwaterstorage_IntLow</span></div><div class='xr-var-dims'>(percentiles, years, tg)</div><div class='xr-var-dtype'>float32</div><div class='xr-var-preview xr-preview'>...</div><input id='attrs-05c4142e-d766-4449-85dd-4616c7d26218' class='xr-var-attrs-in' type='checkbox' disabled><label for='attrs-05c4142e-d766-4449-85dd-4616c7d26218' title='Show/Hide attributes'><svg class='icon xr-icon-file-text2'><use xlink:href='#icon-file-text2'></use></svg></label><input id='data-dbccc5bf-df49-411a-8a19-feab2cf96043' class='xr-var-data-in' type='checkbox'><label for='data-dbccc5bf-df49-411a-8a19-feab2cf96043' title='Show/Hide data repr'><svg class='icon xr-icon-database'><use xlink:href='#icon-database'></use></svg></label><div class='xr-var-attrs'><dl class='xr-attrs'></dl></div><div class='xr-var-data'><pre>array([[[      nan,       nan, ...,       nan,       nan],\n        [      nan,       nan, ...,       nan,       nan],\n        ...,\n        [34.7     , 34.7     , ..., 31.8     , 31.8     ],\n        [35.      , 35.      , ..., 32.      , 32.      ]],\n\n       [[      nan,       nan, ...,       nan,       nan],\n        [      nan,       nan, ...,       nan,       nan],\n        ...,\n        [55.6     , 55.6     , ..., 51.6     , 50.699997],\n        [56.      , 56.      , ..., 52.      , 51.      ]],\n\n       [[      nan,       nan, ...,       nan,       nan],\n        [      nan,       nan, ...,       nan,       nan],\n        ...,\n        [77.5     , 77.5     , ..., 71.6     , 71.6     ],\n        [78.      , 78.      , ..., 72.      , 72.      ]]], dtype=float32)</pre></div></li><li class='xr-var-item'><div class='xr-var-name'><span>rsl_oceandynamics_IntLow</span></div><div class='xr-var-dims'>(percentiles, years, tg)</div><div class='xr-var-dtype'>float32</div><div class='xr-var-preview xr-preview'>...</div><input id='attrs-d80113ac-d23f-4a29-b665-f07d7c539edc' class='xr-var-attrs-in' type='checkbox' disabled><label for='attrs-d80113ac-d23f-4a29-b665-f07d7c539edc' title='Show/Hide attributes'><svg class='icon xr-icon-file-text2'><use xlink:href='#icon-file-text2'></use></svg></label><input id='data-9bcf4e4c-d819-4d5c-b0ec-68891b7a88c4' class='xr-var-data-in' type='checkbox'><label for='data-9bcf4e4c-d819-4d5c-b0ec-68891b7a88c4' title='Show/Hide data repr'><svg class='icon xr-icon-database'><use xlink:href='#icon-database'></use></svg></label><div class='xr-var-attrs'><dl class='xr-attrs'></dl></div><div class='xr-var-data'><pre>array([[[      nan,       nan, ...,       nan,       nan],\n        [      nan,       nan, ...,       nan,       nan],\n        ...,\n        [154.2    , 154.3    , ..., 158.29999, 157.1    ],\n        [155.     , 155.     , ..., 159.     , 158.     ]],\n\n       [[      nan,       nan, ...,       nan,       nan],\n        [      nan,       nan, ...,       nan,       nan],\n        ...,\n        [267.5    , 262.7    , ..., 286.3    , 287.30002],\n        [269.     , 264.     , ..., 288.     , 289.     ]],\n\n       [[      nan,       nan, ...,       nan,       nan],\n        [      nan,       nan, ...,       nan,       nan],\n        ...,\n        [419.1    , 408.3    , ..., 426.19998, 429.1    ],\n        [422.     , 411.     , ..., 429.     , 432.     ]]], dtype=float32)</pre></div></li><li class='xr-var-item'><div class='xr-var-name'><span>rsl_total_IntLow</span></div><div class='xr-var-dims'>(percentiles, years, tg)</div><div class='xr-var-dtype'>float32</div><div class='xr-var-preview xr-preview'>...</div><input id='attrs-08051c5d-93bc-45e7-b43e-c885ddfff286' class='xr-var-attrs-in' type='checkbox' disabled><label for='attrs-08051c5d-93bc-45e7-b43e-c885ddfff286' title='Show/Hide attributes'><svg class='icon xr-icon-file-text2'><use xlink:href='#icon-file-text2'></use></svg></label><input id='data-9ce47f29-6e9e-4ad5-ac0a-e4510a17d793' class='xr-var-data-in' type='checkbox'><label for='data-9ce47f29-6e9e-4ad5-ac0a-e4510a17d793' title='Show/Hide data repr'><svg class='icon xr-icon-database'><use xlink:href='#icon-database'></use></svg></label><div class='xr-var-attrs'><dl class='xr-attrs'></dl></div><div class='xr-var-data'><pre>array([[[       nan,        nan, ...,        nan,        nan],\n        [       nan,        nan, ...,        nan,        nan],\n        ...,\n        [ 772.31036,  813.1508 , ...,  731.20996,  729.76434],\n        [ 777.81036,  818.85077, ...,  736.31   ,  734.8643 ]],\n\n       [[       nan,        nan, ...,        nan,        nan],\n        [       nan,        nan, ...,        nan,        nan],\n        ...,\n        [ 953.0104 ,  985.15076, ...,  925.91003,  919.4643 ],\n        [ 960.81036,  992.85077, ...,  933.31   ,  926.8643 ]],\n\n       [[       nan,        nan, ...,        nan,        nan],\n        [       nan,        nan, ...,        nan,        nan],\n        ...,\n        [1191.3103 , 1220.6508 , ..., 1159.3099 , 1142.5642 ],\n        [1202.8104 , 1232.8508 , ..., 1170.3099 , 1152.8643 ]]], dtype=float32)</pre></div></li><li class='xr-var-item'><div class='xr-var-name'><span>rsl_verticallandmotion_IntLow</span></div><div class='xr-var-dims'>(percentiles, years, tg)</div><div class='xr-var-dtype'>float32</div><div class='xr-var-preview xr-preview'>...</div><input id='attrs-e591644d-1590-43d1-a630-9c10120912d5' class='xr-var-attrs-in' type='checkbox' disabled><label for='attrs-e591644d-1590-43d1-a630-9c10120912d5' title='Show/Hide attributes'><svg class='icon xr-icon-file-text2'><use xlink:href='#icon-file-text2'></use></svg></label><input id='data-49de4d27-b2bc-44d3-a1ae-626fcb5196cc' class='xr-var-data-in' type='checkbox'><label for='data-49de4d27-b2bc-44d3-a1ae-626fcb5196cc' title='Show/Hide data repr'><svg class='icon xr-icon-database'><use xlink:href='#icon-database'></use></svg></label><div class='xr-var-attrs'><dl class='xr-attrs'></dl></div><div class='xr-var-data'><pre>array([[[          nan,           nan, ...,           nan,           nan],\n        [          nan,           nan, ...,           nan,           nan],\n        ...,\n        [-4.078962e+01,  2.950773e+00, ..., -3.129000e+01, -1.193571e+01],\n        [-4.118962e+01,  2.850773e+00, ..., -3.169000e+01, -1.213571e+01]],\n\n       [[          nan,           nan, ...,           nan,           nan],\n        [          nan,           nan, ...,           nan,           nan],\n        ...,\n        [-8.962476e-02,  3.665077e+01, ...,  4.411000e+01,  3.676429e+01],\n        [-1.896248e-01,  3.685077e+01, ...,  4.431000e+01,  3.686429e+01]],\n\n       [[          nan,           nan, ...,           nan,           nan],\n        [          nan,           nan, ...,           nan,           nan],\n        ...,\n        [ 3.871038e+01,  6.945077e+01, ...,  1.185100e+02,  8.446429e+01],\n        [ 3.881038e+01,  6.985077e+01, ...,  1.193100e+02,  8.486429e+01]]],\n      dtype=float32)</pre></div></li><li class='xr-var-item'><div class='xr-var-name'><span>rsl_AIS_Int</span></div><div class='xr-var-dims'>(percentiles, years, tg)</div><div class='xr-var-dtype'>float32</div><div class='xr-var-preview xr-preview'>...</div><input id='attrs-206a25b3-8747-4c5f-a553-3acb7c1d7209' class='xr-var-attrs-in' type='checkbox' disabled><label for='attrs-206a25b3-8747-4c5f-a553-3acb7c1d7209' title='Show/Hide attributes'><svg class='icon xr-icon-file-text2'><use xlink:href='#icon-file-text2'></use></svg></label><input id='data-8bb63712-3117-4780-aa36-b0e69083520d' class='xr-var-data-in' type='checkbox'><label for='data-8bb63712-3117-4780-aa36-b0e69083520d' title='Show/Hide data repr'><svg class='icon xr-icon-database'><use xlink:href='#icon-database'></use></svg></label><div class='xr-var-attrs'><dl class='xr-attrs'></dl></div><div class='xr-var-data'><pre>array([[[       nan,        nan, ...,        nan,        nan],\n        [       nan,        nan, ...,        nan,        nan],\n        ...,\n        [ 213.5    ,  213.5    , ...,  202.59999,  202.59999],\n        [ 215.     ,  215.     , ...,  204.     ,  204.     ]],\n\n       [[       nan,        nan, ...,        nan,        nan],\n        [       nan,        nan, ...,        nan,        nan],\n        ...,\n        [ 752.1    ,  752.1    , ...,  709.6    ,  707.6    ],\n        [ 759.     ,  759.     , ...,  716.     ,  714.     ]],\n\n       [[       nan,        nan, ...,        nan,        nan],\n        [       nan,        nan, ...,        nan,        nan],\n        ...,\n        [2753.5999 , 2753.5999 , ..., 2582.9    , 2575.0999 ],\n        [2824.     , 2824.     , ..., 2649.     , 2641.     ]]], dtype=float32)</pre></div></li><li class='xr-var-item'><div class='xr-var-name'><span>rsl_GIS_Int</span></div><div class='xr-var-dims'>(percentiles, years, tg)</div><div class='xr-var-dtype'>float32</div><div class='xr-var-preview xr-preview'>...</div><input id='attrs-32415ffd-29eb-4197-9ad0-51b0872b1fb2' class='xr-var-attrs-in' type='checkbox' disabled><label for='attrs-32415ffd-29eb-4197-9ad0-51b0872b1fb2' title='Show/Hide attributes'><svg class='icon xr-icon-file-text2'><use xlink:href='#icon-file-text2'></use></svg></label><input id='data-1c61b74c-3c41-45b7-a6d9-e7c31b34bcc5' class='xr-var-data-in' type='checkbox'><label for='data-1c61b74c-3c41-45b7-a6d9-e7c31b34bcc5' title='Show/Hide data repr'><svg class='icon xr-icon-database'><use xlink:href='#icon-database'></use></svg></label><div class='xr-var-attrs'><dl class='xr-attrs'></dl></div><div class='xr-var-data'><pre>array([[[  nan,   nan, ...,   nan,   nan],\n        [  nan,   nan, ...,   nan,   nan],\n        ...,\n        [256.6, 256.6, ..., 184.3, 184.3],\n        [259. , 259. , ..., 186. , 186. ]],\n\n       [[  nan,   nan, ...,   nan,   nan],\n        [  nan,   nan, ...,   nan,   nan],\n        ...,\n        [352.5, 352.5, ..., 254.4, 254.4],\n        [356. , 356. , ..., 257. , 257. ]],\n\n       [[  nan,   nan, ...,   nan,   nan],\n        [  nan,   nan, ...,   nan,   nan],\n        ...,\n        [609.2, 608.2, ..., 438.8, 438.8],\n        [615. , 614. , ..., 443. , 443. ]]], dtype=float32)</pre></div></li><li class='xr-var-item'><div class='xr-var-name'><span>rsl_glaciers_Int</span></div><div class='xr-var-dims'>(percentiles, years, tg)</div><div class='xr-var-dtype'>float32</div><div class='xr-var-preview xr-preview'>...</div><input id='attrs-d620d540-45f5-4a3c-804d-7719f7d29f98' class='xr-var-attrs-in' type='checkbox' disabled><label for='attrs-d620d540-45f5-4a3c-804d-7719f7d29f98' title='Show/Hide attributes'><svg class='icon xr-icon-file-text2'><use xlink:href='#icon-file-text2'></use></svg></label><input id='data-3c1a293a-6c68-4945-b4e4-bd86e19ffcfd' class='xr-var-data-in' type='checkbox'><label for='data-3c1a293a-6c68-4945-b4e4-bd86e19ffcfd' title='Show/Hide data repr'><svg class='icon xr-icon-database'><use xlink:href='#icon-database'></use></svg></label><div class='xr-var-attrs'><dl class='xr-attrs'></dl></div><div class='xr-var-data'><pre>array([[[      nan,       nan, ...,       nan,       nan],\n        [      nan,       nan, ...,       nan,       nan],\n        ...,\n        [183.6    , 184.6    , ..., 173.70001, 172.7    ],\n        [185.     , 186.     , ..., 175.     , 174.     ]],\n\n       [[      nan,       nan, ...,       nan,       nan],\n        [      nan,       nan, ...,       nan,       nan],\n        ...,\n        [316.     , 318.     , ..., 299.1    , 298.1    ],\n        [319.     , 321.     , ..., 302.     , 301.     ]],\n\n       [[      nan,       nan, ...,       nan,       nan],\n        [      nan,       nan, ...,       nan,       nan],\n        ...,\n        [347.1    , 349.     , ..., 328.     , 327.     ],\n        [347.     , 349.     , ..., 328.     , 327.     ]]], dtype=float32)</pre></div></li><li class='xr-var-item'><div class='xr-var-name'><span>rsl_landwaterstorage_Int</span></div><div class='xr-var-dims'>(percentiles, years, tg)</div><div class='xr-var-dtype'>float32</div><div class='xr-var-preview xr-preview'>...</div><input id='attrs-d7564636-34dd-48b2-b008-4923fb6814df' class='xr-var-attrs-in' type='checkbox' disabled><label for='attrs-d7564636-34dd-48b2-b008-4923fb6814df' title='Show/Hide attributes'><svg class='icon xr-icon-file-text2'><use xlink:href='#icon-file-text2'></use></svg></label><input id='data-08a4a2ac-8bad-4fea-bcf3-a293c443860b' class='xr-var-data-in' type='checkbox'><label for='data-08a4a2ac-8bad-4fea-bcf3-a293c443860b' title='Show/Hide data repr'><svg class='icon xr-icon-database'><use xlink:href='#icon-database'></use></svg></label><div class='xr-var-attrs'><dl class='xr-attrs'></dl></div><div class='xr-var-data'><pre>array([[[      nan,       nan, ...,       nan,       nan],\n        [      nan,       nan, ...,       nan,       nan],\n        ...,\n        [35.8     , 35.8     , ..., 32.8     , 32.8     ],\n        [36.      , 36.      , ..., 33.      , 33.      ]],\n\n       [[      nan,       nan, ...,       nan,       nan],\n        [      nan,       nan, ...,       nan,       nan],\n        ...,\n        [56.7     , 56.6     , ..., 52.699997, 52.699997],\n        [57.      , 57.      , ..., 53.      , 53.      ]],\n\n       [[      nan,       nan, ...,       nan,       nan],\n        [      nan,       nan, ...,       nan,       nan],\n        ...,\n        [79.5     , 79.5     , ..., 73.6     , 73.6     ],\n        [80.      , 80.      , ..., 74.      , 74.      ]]], dtype=float32)</pre></div></li><li class='xr-var-item'><div class='xr-var-name'><span>rsl_oceandynamics_Int</span></div><div class='xr-var-dims'>(percentiles, years, tg)</div><div class='xr-var-dtype'>float32</div><div class='xr-var-preview xr-preview'>...</div><input id='attrs-353b7ce5-3456-415c-a867-d6f424a40e5b' class='xr-var-attrs-in' type='checkbox' disabled><label for='attrs-353b7ce5-3456-415c-a867-d6f424a40e5b' title='Show/Hide attributes'><svg class='icon xr-icon-file-text2'><use xlink:href='#icon-file-text2'></use></svg></label><input id='data-9e4b65f0-62b1-487a-8240-64195a718abd' class='xr-var-data-in' type='checkbox'><label for='data-9e4b65f0-62b1-487a-8240-64195a718abd' title='Show/Hide data repr'><svg class='icon xr-icon-database'><use xlink:href='#icon-database'></use></svg></label><div class='xr-var-attrs'><dl class='xr-attrs'></dl></div><div class='xr-var-data'><pre>array([[[  nan,   nan, ...,   nan,   nan],\n        [  nan,   nan, ...,   nan,   nan],\n        ...,\n        [336.1, 337. , ..., 318.3, 318.1],\n        [339. , 340. , ..., 321. , 321. ]],\n\n       [[  nan,   nan, ...,   nan,   nan],\n        [  nan,   nan, ...,   nan,   nan],\n        ...,\n        [579.7, 574.8, ..., 534. , 531. ],\n        [585. , 580. , ..., 539. , 536. ]],\n\n       [[  nan,   nan, ...,   nan,   nan],\n        [  nan,   nan, ...,   nan,   nan],\n        ...,\n        [787.7, 772.9, ..., 743.2, 742.3],\n        [795. , 780. , ..., 750. , 749. ]]], dtype=float32)</pre></div></li><li class='xr-var-item'><div class='xr-var-name'><span>rsl_total_Int</span></div><div class='xr-var-dims'>(percentiles, years, tg)</div><div class='xr-var-dtype'>float32</div><div class='xr-var-preview xr-preview'>...</div><input id='attrs-4179a287-8d41-45a9-a6b9-64cf667c6f77' class='xr-var-attrs-in' type='checkbox' disabled><label for='attrs-4179a287-8d41-45a9-a6b9-64cf667c6f77' title='Show/Hide attributes'><svg class='icon xr-icon-file-text2'><use xlink:href='#icon-file-text2'></use></svg></label><input id='data-aacbdbeb-b15c-4cdd-bfd9-801370440de2' class='xr-var-data-in' type='checkbox'><label for='data-aacbdbeb-b15c-4cdd-bfd9-801370440de2' title='Show/Hide data repr'><svg class='icon xr-icon-database'><use xlink:href='#icon-database'></use></svg></label><div class='xr-var-attrs'><dl class='xr-attrs'></dl></div><div class='xr-var-data'><pre>array([[[      nan,       nan, ...,       nan,       nan],\n        [      nan,       nan, ...,       nan,       nan],\n        ...,\n        [1591.0104, 1622.7509, ..., 1438.71  , 1436.4642],\n        [1602.8104, 1634.8508, ..., 1449.3099, 1447.8643]],\n\n       [[      nan,       nan, ...,       nan,       nan],\n        [      nan,       nan, ...,       nan,       nan],\n        ...,\n        [2178.3103, 2202.3508, ..., 1970.71  , 1951.5642],\n        [2197.8103, 2221.8508, ..., 1988.3099, 1968.8643]],\n\n       [[      nan,       nan, ...,       nan,       nan],\n        [      nan,       nan, ...,       nan,       nan],\n        ...,\n        [4064.2107, 4099.8506, ..., 3775.21  , 3769.0645],\n        [4145.8105, 4181.8506, ..., 3852.31  , 3845.8643]]], dtype=float32)</pre></div></li><li class='xr-var-item'><div class='xr-var-name'><span>rsl_verticallandmotion_Int</span></div><div class='xr-var-dims'>(percentiles, years, tg)</div><div class='xr-var-dtype'>float32</div><div class='xr-var-preview xr-preview'>...</div><input id='attrs-259b8572-7eca-423c-9f6a-60df272b8be1' class='xr-var-attrs-in' type='checkbox' disabled><label for='attrs-259b8572-7eca-423c-9f6a-60df272b8be1' title='Show/Hide attributes'><svg class='icon xr-icon-file-text2'><use xlink:href='#icon-file-text2'></use></svg></label><input id='data-776d3392-2532-4aae-8677-11cf45e08d51' class='xr-var-data-in' type='checkbox'><label for='data-776d3392-2532-4aae-8677-11cf45e08d51' title='Show/Hide data repr'><svg class='icon xr-icon-database'><use xlink:href='#icon-database'></use></svg></label><div class='xr-var-attrs'><dl class='xr-attrs'></dl></div><div class='xr-var-data'><pre>array([[[       nan,        nan, ...,        nan,        nan],\n        [       nan,        nan, ...,        nan,        nan],\n        ...,\n        [-41.789623,   2.950773, ..., -32.29    , -12.035707],\n        [-42.189625,   2.850773, ..., -32.690002, -12.135708]],\n\n       [[       nan,        nan, ...,        nan,        nan],\n        [       nan,        nan, ...,        nan,        nan],\n        ...,\n        [  0.910375,  37.75077 , ...,  47.11    ,  38.764294],\n        [  0.810375,  37.850773, ...,  47.309998,  38.864292]],\n\n       [[       nan,        nan, ...,        nan,        nan],\n        [       nan,        nan, ...,        nan,        nan],\n        ...,\n        [ 40.610374,  70.45077 , ..., 121.509995,  86.36429 ],\n        [ 40.810375,  70.85077 , ..., 122.31    ,  86.86429 ]]], dtype=float32)</pre></div></li><li class='xr-var-item'><div class='xr-var-name'><span>rsl_AIS_IntHigh</span></div><div class='xr-var-dims'>(percentiles, years, tg)</div><div class='xr-var-dtype'>float32</div><div class='xr-var-preview xr-preview'>...</div><input id='attrs-35f87ba0-b99f-4a2b-a86f-d87d9e198e68' class='xr-var-attrs-in' type='checkbox' disabled><label for='attrs-35f87ba0-b99f-4a2b-a86f-d87d9e198e68' title='Show/Hide attributes'><svg class='icon xr-icon-file-text2'><use xlink:href='#icon-file-text2'></use></svg></label><input id='data-abc5203f-d0a9-4dc3-b92f-a45678225d4f' class='xr-var-data-in' type='checkbox'><label for='data-abc5203f-d0a9-4dc3-b92f-a45678225d4f' title='Show/Hide data repr'><svg class='icon xr-icon-database'><use xlink:href='#icon-database'></use></svg></label><div class='xr-var-attrs'><dl class='xr-attrs'></dl></div><div class='xr-var-data'><pre>array([[[       nan,        nan, ...,        nan,        nan],\n        [       nan,        nan, ...,        nan,        nan],\n        ...,\n        [ 264.     ,  264.     , ...,  250.9    ,  249.9    ],\n        [ 265.     ,  265.     , ...,  252.     ,  251.     ]],\n\n       [[       nan,        nan, ...,        nan,        nan],\n        [       nan,        nan, ...,        nan,        nan],\n        ...,\n        [1032.1    , 1032.     , ...,  973.39996,  969.6    ],\n        [1037.     , 1037.     , ...,  978.     ,  974.     ]],\n\n       [[       nan,        nan, ...,        nan,        nan],\n        [       nan,        nan, ...,        nan,        nan],\n        ...,\n        [2293.2    , 2293.2    , ..., 2163.6    , 2157.7    ],\n        [2319.     , 2319.     , ..., 2187.     , 2181.     ]]], dtype=float32)</pre></div></li><li class='xr-var-item'><div class='xr-var-name'><span>rsl_GIS_IntHigh</span></div><div class='xr-var-dims'>(percentiles, years, tg)</div><div class='xr-var-dtype'>float32</div><div class='xr-var-preview xr-preview'>...</div><input id='attrs-fee27fec-9119-4db9-9a05-79f0ca95417e' class='xr-var-attrs-in' type='checkbox' disabled><label for='attrs-fee27fec-9119-4db9-9a05-79f0ca95417e' title='Show/Hide attributes'><svg class='icon xr-icon-file-text2'><use xlink:href='#icon-file-text2'></use></svg></label><input id='data-77219cc4-62e2-461c-9e20-c44d045c405c' class='xr-var-data-in' type='checkbox'><label for='data-77219cc4-62e2-461c-9e20-c44d045c405c' title='Show/Hide data repr'><svg class='icon xr-icon-database'><use xlink:href='#icon-database'></use></svg></label><div class='xr-var-attrs'><dl class='xr-attrs'></dl></div><div class='xr-var-data'><pre>array([[[       nan,        nan, ...,        nan,        nan],\n        [       nan,        nan, ...,        nan,        nan],\n        ...,\n        [ 316.5    ,  316.5    , ...,  228.20001,  228.20001],\n        [ 319.     ,  319.     , ...,  230.     ,  230.     ]],\n\n       [[       nan,        nan, ...,        nan,        nan],\n        [       nan,        nan, ...,        nan,        nan],\n        ...,\n        [ 776.     ,  775.9    , ...,  559.10004,  559.10004],\n        [ 784.     ,  784.     , ...,  565.     ,  565.     ]],\n\n       [[       nan,        nan, ...,        nan,        nan],\n        [       nan,        nan, ...,        nan,        nan],\n        ...,\n        [1587.5    , 1586.5    , ..., 1143.8    , 1143.8    ],\n        [1603.     , 1602.     , ..., 1155.     , 1155.     ]]], dtype=float32)</pre></div></li><li class='xr-var-item'><div class='xr-var-name'><span>rsl_glaciers_IntHigh</span></div><div class='xr-var-dims'>(percentiles, years, tg)</div><div class='xr-var-dtype'>float32</div><div class='xr-var-preview xr-preview'>...</div><input id='attrs-36d2b358-edd5-4211-9edc-ca3df45e23d0' class='xr-var-attrs-in' type='checkbox' disabled><label for='attrs-36d2b358-edd5-4211-9edc-ca3df45e23d0' title='Show/Hide attributes'><svg class='icon xr-icon-file-text2'><use xlink:href='#icon-file-text2'></use></svg></label><input id='data-417cd71d-9f07-4202-847d-5102636b67f8' class='xr-var-data-in' type='checkbox'><label for='data-417cd71d-9f07-4202-847d-5102636b67f8' title='Show/Hide data repr'><svg class='icon xr-icon-database'><use xlink:href='#icon-database'></use></svg></label><div class='xr-var-attrs'><dl class='xr-attrs'></dl></div><div class='xr-var-data'><pre>array([[[      nan,       nan, ...,       nan,       nan],\n        [      nan,       nan, ...,       nan,       nan],\n        ...,\n        [178.6    , 179.6    , ..., 168.7    , 167.79999],\n        [180.     , 181.     , ..., 170.     , 169.     ]],\n\n       [[      nan,       nan, ...,       nan,       nan],\n        [      nan,       nan, ...,       nan,       nan],\n        ...,\n        [310.09998, 312.1    , ..., 293.3    , 292.30002],\n        [313.     , 315.     , ..., 296.     , 295.     ]],\n\n       [[      nan,       nan, ...,       nan,       nan],\n        [      nan,       nan, ...,       nan,       nan],\n        ...,\n        [347.1    , 349.     , ..., 328.     , 327.     ],\n        [347.     , 349.     , ..., 328.     , 327.     ]]], dtype=float32)</pre></div></li><li class='xr-var-item'><div class='xr-var-name'><span>rsl_landwaterstorage_IntHigh</span></div><div class='xr-var-dims'>(percentiles, years, tg)</div><div class='xr-var-dtype'>float32</div><div class='xr-var-preview xr-preview'>...</div><input id='attrs-281877a4-33fb-4b63-b0da-218ef7475ad5' class='xr-var-attrs-in' type='checkbox' disabled><label for='attrs-281877a4-33fb-4b63-b0da-218ef7475ad5' title='Show/Hide attributes'><svg class='icon xr-icon-file-text2'><use xlink:href='#icon-file-text2'></use></svg></label><input id='data-b711f85a-c6b3-4164-a8d5-b31b3d9aada9' class='xr-var-data-in' type='checkbox'><label for='data-b711f85a-c6b3-4164-a8d5-b31b3d9aada9' title='Show/Hide data repr'><svg class='icon xr-icon-database'><use xlink:href='#icon-database'></use></svg></label><div class='xr-var-attrs'><dl class='xr-attrs'></dl></div><div class='xr-var-data'><pre>array([[[ nan,  nan, ...,  nan,  nan],\n        [ nan,  nan, ...,  nan,  nan],\n        ...,\n        [33.7, 33.7, ..., 30.8, 30.8],\n        [34. , 34. , ..., 31. , 31. ]],\n\n       [[ nan,  nan, ...,  nan,  nan],\n        [ nan,  nan, ...,  nan,  nan],\n        ...,\n        [53.7, 53.7, ..., 49.7, 49.7],\n        [54. , 54. , ..., 50. , 50. ]],\n\n       [[ nan,  nan, ...,  nan,  nan],\n        [ nan,  nan, ...,  nan,  nan],\n        ...,\n        [72.6, 72.6, ..., 67.6, 67.6],\n        [73. , 73. , ..., 68. , 68. ]]], dtype=float32)</pre></div></li><li class='xr-var-item'><div class='xr-var-name'><span>rsl_oceandynamics_IntHigh</span></div><div class='xr-var-dims'>(percentiles, years, tg)</div><div class='xr-var-dtype'>float32</div><div class='xr-var-preview xr-preview'>...</div><input id='attrs-7bd3c771-3f4b-43e8-bc22-d6edbdbb55ae' class='xr-var-attrs-in' type='checkbox' disabled><label for='attrs-7bd3c771-3f4b-43e8-bc22-d6edbdbb55ae' title='Show/Hide attributes'><svg class='icon xr-icon-file-text2'><use xlink:href='#icon-file-text2'></use></svg></label><input id='data-3f92766b-cf62-4837-a5b0-104619a2c74c' class='xr-var-data-in' type='checkbox'><label for='data-3f92766b-cf62-4837-a5b0-104619a2c74c' title='Show/Hide data repr'><svg class='icon xr-icon-database'><use xlink:href='#icon-database'></use></svg></label><div class='xr-var-attrs'><dl class='xr-attrs'></dl></div><div class='xr-var-data'><pre>array([[[      nan,       nan, ...,       nan,       nan],\n        [      nan,       nan, ...,       nan,       nan],\n        ...,\n        [311.9    , 316.2    , ..., 292.1    , 293.7    ],\n        [315.     , 319.     , ..., 294.     , 296.     ]],\n\n       [[      nan,       nan, ...,       nan,       nan],\n        [      nan,       nan, ...,       nan,       nan],\n        ...,\n        [572.80005, 569.5    , ..., 529.9    , 527.     ],\n        [578.     , 575.     , ..., 535.     , 532.     ]],\n\n       [[      nan,       nan, ...,       nan,       nan],\n        [      nan,       nan, ...,       nan,       nan],\n        ...,\n        [826.2    , 812.30005, ..., 791.5    , 791.7    ],\n        [834.     , 820.     , ..., 799.     , 799.     ]]], dtype=float32)</pre></div></li><li class='xr-var-item'><div class='xr-var-name'><span>rsl_total_IntHigh</span></div><div class='xr-var-dims'>(percentiles, years, tg)</div><div class='xr-var-dtype'>float32</div><div class='xr-var-preview xr-preview'>...</div><input id='attrs-af3d75f0-7854-4114-9942-1839b84abfdf' class='xr-var-attrs-in' type='checkbox' disabled><label for='attrs-af3d75f0-7854-4114-9942-1839b84abfdf' title='Show/Hide attributes'><svg class='icon xr-icon-file-text2'><use xlink:href='#icon-file-text2'></use></svg></label><input id='data-e7a04eeb-5a7f-464b-95e7-5bbc843548d9' class='xr-var-data-in' type='checkbox'><label for='data-e7a04eeb-5a7f-464b-95e7-5bbc843548d9' title='Show/Hide data repr'><svg class='icon xr-icon-database'><use xlink:href='#icon-database'></use></svg></label><div class='xr-var-attrs'><dl class='xr-attrs'></dl></div><div class='xr-var-data'><pre>array([[[      nan,       nan, ...,       nan,       nan],\n        [      nan,       nan, ...,       nan,       nan],\n        ...,\n        [2200.6104, 2229.8508, ..., 1936.71  , 1934.3643],\n        [2215.8103, 2245.8508, ..., 1949.3099, 1946.8643]],\n\n       [[      nan,       nan, ...,       nan,       nan],\n        [      nan,       nan, ...,       nan,       nan],\n        ...,\n        [2960.7104, 2989.551 , ..., 2589.81  , 2572.4644],\n        [2982.8103, 3011.8508, ..., 2608.31  , 2590.8643]],\n\n       [[      nan,       nan, ...,       nan,       nan],\n        [      nan,       nan, ...,       nan,       nan],\n        ...,\n        [4090.1106, 4118.2505, ..., 3624.21  , 3609.5642],\n        [4133.8105, 4161.8506, ..., 3666.31  , 3652.8643]]], dtype=float32)</pre></div></li><li class='xr-var-item'><div class='xr-var-name'><span>rsl_verticallandmotion_IntHigh</span></div><div class='xr-var-dims'>(percentiles, years, tg)</div><div class='xr-var-dtype'>float32</div><div class='xr-var-preview xr-preview'>...</div><input id='attrs-931fcc40-33ce-4db3-87b7-60302ca5135a' class='xr-var-attrs-in' type='checkbox' disabled><label for='attrs-931fcc40-33ce-4db3-87b7-60302ca5135a' title='Show/Hide attributes'><svg class='icon xr-icon-file-text2'><use xlink:href='#icon-file-text2'></use></svg></label><input id='data-3d812210-3903-4b4b-9d1e-fa13f5ba324c' class='xr-var-data-in' type='checkbox'><label for='data-3d812210-3903-4b4b-9d1e-fa13f5ba324c' title='Show/Hide data repr'><svg class='icon xr-icon-database'><use xlink:href='#icon-database'></use></svg></label><div class='xr-var-attrs'><dl class='xr-attrs'></dl></div><div class='xr-var-data'><pre>array([[[       nan,        nan, ...,        nan,        nan],\n        [       nan,        nan, ...,        nan,        nan],\n        ...,\n        [-38.889626,   4.850773, ..., -27.390005,  -9.935708],\n        [-39.189625,   4.850773, ..., -27.690004, -10.135708]],\n\n       [[       nan,        nan, ...,        nan,        nan],\n        [       nan,        nan, ...,        nan,        nan],\n        ...,\n        [ -3.189625,  33.75077 , ...,  39.109997,  33.66429 ],\n        [ -3.189625,  33.850773, ...,  39.309998,  33.864292]],\n\n       [[       nan,        nan, ...,        nan,        nan],\n        [       nan,        nan, ...,        nan,        nan],\n        ...,\n        [ 38.610374,  68.550766, ..., 115.60999 ,  83.46429 ],\n        [ 38.810375,  68.85077 , ..., 116.31    ,  83.86429 ]]], dtype=float32)</pre></div></li><li class='xr-var-item'><div class='xr-var-name'><span>rsl_AIS_High</span></div><div class='xr-var-dims'>(percentiles, years, tg)</div><div class='xr-var-dtype'>float32</div><div class='xr-var-preview xr-preview'>...</div><input id='attrs-84e1d1f3-5b56-4c77-a166-95a2ae8a96a6' class='xr-var-attrs-in' type='checkbox' disabled><label for='attrs-84e1d1f3-5b56-4c77-a166-95a2ae8a96a6' title='Show/Hide attributes'><svg class='icon xr-icon-file-text2'><use xlink:href='#icon-file-text2'></use></svg></label><input id='data-efbf151f-950e-44a6-b820-6de90fa620fa' class='xr-var-data-in' type='checkbox'><label for='data-efbf151f-950e-44a6-b820-6de90fa620fa' title='Show/Hide data repr'><svg class='icon xr-icon-database'><use xlink:href='#icon-database'></use></svg></label><div class='xr-var-attrs'><dl class='xr-attrs'></dl></div><div class='xr-var-data'><pre>array([[[      nan,       nan, ...,       nan,       nan],\n        [      nan,       nan, ...,       nan,       nan],\n        ...,\n        [ 684.5   ,  684.5   , ...,  644.2   ,  642.2   ],\n        [ 691.    ,  691.    , ...,  650.    ,  648.    ]],\n\n       [[      nan,       nan, ...,       nan,       nan],\n        [      nan,       nan, ...,       nan,       nan],\n        ...,\n        [2054.    , 2054.    , ..., 1913.2   , 1907.2999],\n        [2065.    , 2065.    , ..., 1923.    , 1917.    ]],\n\n       [[      nan,       nan, ...,       nan,       nan],\n        [      nan,       nan, ...,       nan,       nan],\n        ...,\n        [4020.9   , 4020.8   , ..., 3795.5   , 3783.7002],\n        [4078.    , 4078.    , ..., 3852.    , 3840.    ]]], dtype=float32)</pre></div></li><li class='xr-var-item'><div class='xr-var-name'><span>rsl_GIS_High</span></div><div class='xr-var-dims'>(percentiles, years, tg)</div><div class='xr-var-dtype'>float32</div><div class='xr-var-preview xr-preview'>...</div><input id='attrs-87b0f9a1-8119-4f45-8aae-22eac44ef1e0' class='xr-var-attrs-in' type='checkbox' disabled><label for='attrs-87b0f9a1-8119-4f45-8aae-22eac44ef1e0' title='Show/Hide attributes'><svg class='icon xr-icon-file-text2'><use xlink:href='#icon-file-text2'></use></svg></label><input id='data-8e123baa-adda-41bb-b3d7-542e0853980c' class='xr-var-data-in' type='checkbox'><label for='data-8e123baa-adda-41bb-b3d7-542e0853980c' title='Show/Hide data repr'><svg class='icon xr-icon-database'><use xlink:href='#icon-database'></use></svg></label><div class='xr-var-attrs'><dl class='xr-attrs'></dl></div><div class='xr-var-data'><pre>array([[[       nan,        nan, ...,        nan,        nan],\n        [       nan,        nan, ...,        nan,        nan],\n        ...,\n        [ 375.7    ,  374.69998, ...,  270.6    ,  270.6    ],\n        [ 379.     ,  378.     , ...,  273.     ,  273.     ]],\n\n       [[       nan,        nan, ...,        nan,        nan],\n        [       nan,        nan, ...,        nan,        nan],\n        ...,\n        [1236.7001 , 1235.7    , ...,  890.6    ,  890.6    ],\n        [1240.     , 1239.     , ...,  893.     ,  893.     ]],\n\n       [[       nan,        nan, ...,        nan,        nan],\n        [       nan,        nan, ...,        nan,        nan],\n        ...,\n        [1969.     , 1967.     , ..., 1418.2    , 1418.2    ],\n        [1984.     , 1982.     , ..., 1429.     , 1429.     ]]], dtype=float32)</pre></div></li><li class='xr-var-item'><div class='xr-var-name'><span>rsl_glaciers_High</span></div><div class='xr-var-dims'>(percentiles, years, tg)</div><div class='xr-var-dtype'>float32</div><div class='xr-var-preview xr-preview'>...</div><input id='attrs-35eb096b-fff1-4eff-8466-ec754ac1a46a' class='xr-var-attrs-in' type='checkbox' disabled><label for='attrs-35eb096b-fff1-4eff-8466-ec754ac1a46a' title='Show/Hide attributes'><svg class='icon xr-icon-file-text2'><use xlink:href='#icon-file-text2'></use></svg></label><input id='data-185a27a6-11bc-4907-a51b-ee233e818814' class='xr-var-data-in' type='checkbox'><label for='data-185a27a6-11bc-4907-a51b-ee233e818814' title='Show/Hide data repr'><svg class='icon xr-icon-database'><use xlink:href='#icon-database'></use></svg></label><div class='xr-var-attrs'><dl class='xr-attrs'></dl></div><div class='xr-var-data'><pre>array([[[      nan,       nan, ...,       nan,       nan],\n        [      nan,       nan, ...,       nan,       nan],\n        ...,\n        [193.5    , 194.5    , ..., 183.5    , 182.5    ],\n        [195.     , 196.     , ..., 185.     , 184.     ]],\n\n       [[      nan,       nan, ...,       nan,       nan],\n        [      nan,       nan, ...,       nan,       nan],\n        ...,\n        [327.9    , 329.     , ..., 310.09998, 309.1    ],\n        [331.     , 332.     , ..., 313.     , 312.     ]],\n\n       [[      nan,       nan, ...,       nan,       nan],\n        [      nan,       nan, ...,       nan,       nan],\n        ...,\n        [347.1    , 349.     , ..., 328.     , 327.     ],\n        [347.     , 349.     , ..., 328.     , 327.     ]]], dtype=float32)</pre></div></li><li class='xr-var-item'><div class='xr-var-name'><span>rsl_landwaterstorage_High</span></div><div class='xr-var-dims'>(percentiles, years, tg)</div><div class='xr-var-dtype'>float32</div><div class='xr-var-preview xr-preview'>...</div><input id='attrs-d9d77495-d7c7-4bda-91a4-37854499212e' class='xr-var-attrs-in' type='checkbox' disabled><label for='attrs-d9d77495-d7c7-4bda-91a4-37854499212e' title='Show/Hide attributes'><svg class='icon xr-icon-file-text2'><use xlink:href='#icon-file-text2'></use></svg></label><input id='data-336ef535-c370-4714-b68d-56e70acbef73' class='xr-var-data-in' type='checkbox'><label for='data-336ef535-c370-4714-b68d-56e70acbef73' title='Show/Hide data repr'><svg class='icon xr-icon-database'><use xlink:href='#icon-database'></use></svg></label><div class='xr-var-attrs'><dl class='xr-attrs'></dl></div><div class='xr-var-data'><pre>array([[[      nan,       nan, ...,       nan,       nan],\n        [      nan,       nan, ...,       nan,       nan],\n        ...,\n        [35.8     , 35.8     , ..., 32.8     , 32.8     ],\n        [36.      , 36.      , ..., 33.      , 33.      ]],\n\n       [[      nan,       nan, ...,       nan,       nan],\n        [      nan,       nan, ...,       nan,       nan],\n        ...,\n        [55.699997, 55.699997, ..., 51.7     , 51.7     ],\n        [56.      , 56.      , ..., 52.      , 52.      ]],\n\n       [[      nan,       nan, ...,       nan,       nan],\n        [      nan,       nan, ...,       nan,       nan],\n        ...,\n        [76.6     , 76.6     , ..., 70.7     , 70.6     ],\n        [77.      , 77.      , ..., 71.      , 71.      ]]], dtype=float32)</pre></div></li><li class='xr-var-item'><div class='xr-var-name'><span>rsl_oceandynamics_High</span></div><div class='xr-var-dims'>(percentiles, years, tg)</div><div class='xr-var-dtype'>float32</div><div class='xr-var-preview xr-preview'>...</div><input id='attrs-de32ba13-08f2-4cbc-82a9-044bd323db01' class='xr-var-attrs-in' type='checkbox' disabled><label for='attrs-de32ba13-08f2-4cbc-82a9-044bd323db01' title='Show/Hide attributes'><svg class='icon xr-icon-file-text2'><use xlink:href='#icon-file-text2'></use></svg></label><input id='data-3e66b82e-10af-4da6-a504-859e3fb7e9e8' class='xr-var-data-in' type='checkbox'><label for='data-3e66b82e-10af-4da6-a504-859e3fb7e9e8' title='Show/Hide data repr'><svg class='icon xr-icon-database'><use xlink:href='#icon-database'></use></svg></label><div class='xr-var-attrs'><dl class='xr-attrs'></dl></div><div class='xr-var-data'><pre>array([[[      nan,       nan, ...,       nan,       nan],\n        [      nan,       nan, ...,       nan,       nan],\n        ...,\n        [390.09998, 394.19998, ..., 350.5    , 347.8    ],\n        [394.     , 398.     , ..., 354.     , 351.     ]],\n\n       [[      nan,       nan, ...,       nan,       nan],\n        [      nan,       nan, ...,       nan,       nan],\n        ...,\n        [585.8    , 581.7    , ..., 537.3    , 535.2    ],\n        [591.     , 587.     , ..., 542.     , 540.     ]],\n\n       [[      nan,       nan, ...,       nan,       nan],\n        [      nan,       nan, ...,       nan,       nan],\n        ...,\n        [789.     , 776.8    , ..., 754.3    , 753.30005],\n        [796.     , 784.     , ..., 761.     , 760.     ]]], dtype=float32)</pre></div></li><li class='xr-var-item'><div class='xr-var-name'><span>rsl_total_High</span></div><div class='xr-var-dims'>(percentiles, years, tg)</div><div class='xr-var-dtype'>float32</div><div class='xr-var-preview xr-preview'>...</div><input id='attrs-b569ba7f-80d1-4636-936d-fa8f3ae3bde3' class='xr-var-attrs-in' type='checkbox' disabled><label for='attrs-b569ba7f-80d1-4636-936d-fa8f3ae3bde3' title='Show/Hide attributes'><svg class='icon xr-icon-file-text2'><use xlink:href='#icon-file-text2'></use></svg></label><input id='data-83b4a377-3234-4837-af40-5a88e6061363' class='xr-var-data-in' type='checkbox'><label for='data-83b4a377-3234-4837-af40-5a88e6061363' title='Show/Hide data repr'><svg class='icon xr-icon-database'><use xlink:href='#icon-database'></use></svg></label><div class='xr-var-attrs'><dl class='xr-attrs'></dl></div><div class='xr-var-data'><pre>array([[[      nan,       nan, ...,       nan,       nan],\n        [      nan,       nan, ...,       nan,       nan],\n        ...,\n        [3272.11  , 3311.251 , ..., 2841.71  , 2819.0645],\n        [3279.8103, 3319.8508, ..., 2853.31  , 2830.8643]],\n\n       [[      nan,       nan, ...,       nan,       nan],\n        [      nan,       nan, ...,       nan,       nan],\n        ...,\n        [4239.7104, 4282.2505, ..., 3673.9102, 3653.5645],\n        [4271.8105, 4315.8506, ..., 3701.31  , 3680.8643]],\n\n       [[      nan,       nan, ...,       nan,       nan],\n        [      nan,       nan, ...,       nan,       nan],\n        ...,\n        [5949.2104, 5971.4507, ..., 5374.31  , 5357.0645],\n        [6026.8105, 6048.8506, ..., 5450.31  , 5431.8643]]], dtype=float32)</pre></div></li><li class='xr-var-item'><div class='xr-var-name'><span>rsl_verticallandmotion_High</span></div><div class='xr-var-dims'>(percentiles, years, tg)</div><div class='xr-var-dtype'>float32</div><div class='xr-var-preview xr-preview'>...</div><input id='attrs-94aa4991-9366-4b75-84b3-7ffb7caceea7' class='xr-var-attrs-in' type='checkbox' disabled><label for='attrs-94aa4991-9366-4b75-84b3-7ffb7caceea7' title='Show/Hide attributes'><svg class='icon xr-icon-file-text2'><use xlink:href='#icon-file-text2'></use></svg></label><input id='data-224f483e-5143-41f9-8945-a1de08d2fb0b' class='xr-var-data-in' type='checkbox'><label for='data-224f483e-5143-41f9-8945-a1de08d2fb0b' title='Show/Hide data repr'><svg class='icon xr-icon-database'><use xlink:href='#icon-database'></use></svg></label><div class='xr-var-attrs'><dl class='xr-attrs'></dl></div><div class='xr-var-data'><pre>array([[[       nan,        nan, ...,        nan,        nan],\n        [       nan,        nan, ...,        nan,        nan],\n        ...,\n        [-37.789627,   5.850773, ..., -25.390005,  -7.935708],\n        [-38.189625,   5.850773, ..., -25.690004,  -8.135708]],\n\n       [[       nan,        nan, ...,        nan,        nan],\n        [       nan,        nan, ...,        nan,        nan],\n        ...,\n        [  2.810375,  39.650776, ...,  50.109997,  40.66429 ],\n        [  2.810375,  39.850773, ...,  50.309998,  40.864292]],\n\n       [[       nan,        nan, ...,        nan,        nan],\n        [       nan,        nan, ...,        nan,        nan],\n        ...,\n        [ 42.610374,  72.45077 , ..., 124.509995,  89.36429 ],\n        [ 42.810375,  72.85077 , ..., 125.31    ,  89.86429 ]]], dtype=float32)</pre></div></li></ul></div></li><li class='xr-section-item'><input id='section-35637d46-475c-43d8-84e1-61bd1766a1d6' class='xr-section-summary-in' type='checkbox' disabled ><label for='section-35637d46-475c-43d8-84e1-61bd1766a1d6' class='xr-section-summary'  title='Expand/collapse section'>Attributes: <span>(0)</span></label><div class='xr-section-inline-details'></div><div class='xr-section-details'><dl class='xr-attrs'></dl></div></li></ul></div></div>"
     },
     "execution_count": 2,
     "metadata": {},
     "output_type": "execute_result"
    }
   ],
   "source": [
    "filename = \"../data/TR_local_projections.nc\"\n",
    "slr = xr.open_dataset(filename)\n",
    "slr"
   ],
   "metadata": {
    "collapsed": false,
    "pycharm": {
     "name": "#%%\n"
    }
   }
  },
  {
   "cell_type": "code",
   "execution_count": 91,
   "outputs": [],
   "source": [
    "station_name = \"Honolulu, HI\"\n",
    "filename = \"../data/TR_local_projections.nc\"\n",
    "slr = load_slr_projections(station_name, filename=filename)"
   ],
   "metadata": {
    "collapsed": false,
    "pycharm": {
     "name": "#%%\n"
    }
   }
  },
  {
   "cell_type": "code",
   "execution_count": 92,
   "outputs": [
    {
     "data": {
      "text/plain": "{'contributions': {'2020': {'Sterodynamic': [0.06, 0.07, 0.09, 0.09, 0.08],\n   'Glaciers': [0.08, 0.08, 0.08, 0.08, 0.08],\n   'Greenland ice sheet': [0.03, 0.03, 0.03, 0.04, 0.04],\n   'Antarctic ice sheet': [0.01, 0.03, 0.03, 0.03, 0.03],\n   'Land water storage': [0.01, 0.01, 0.01, 0.01, 0.01],\n   'Vertical land motion': [0.06, 0.05, 0.06, 0.05, 0.06],\n   'Total': [0.25, 0.28, 0.3, 0.31, 0.31]},\n  '2021': {'Sterodynamic': [0.06, 0.08, 0.09, 0.1, 0.09],\n   'Glaciers': [0.08, 0.08, 0.08, 0.08, 0.08],\n   'Greenland ice sheet': [0.03, 0.03, 0.04, 0.04, 0.05],\n   'Antarctic ice sheet': [0.01, 0.03, 0.03, 0.03, 0.03],\n   'Land water storage': [0.01, 0.01, 0.01, 0.01, 0.01],\n   'Vertical land motion': [0.06, 0.05, 0.06, 0.05, 0.06],\n   'Total': [0.26, 0.29, 0.32, 0.33, 0.34]},\n  '2022': {'Sterodynamic': [0.07, 0.08, 0.1, 0.1, 0.09],\n   'Glaciers': [0.08, 0.09, 0.09, 0.09, 0.09],\n   'Greenland ice sheet': [0.03, 0.03, 0.04, 0.04, 0.05],\n   'Antarctic ice sheet': [0.01, 0.03, 0.03, 0.04, 0.03],\n   'Land water storage': [0.01, 0.01, 0.01, 0.01, 0.01],\n   'Vertical land motion': [0.06, 0.05, 0.06, 0.05, 0.06],\n   'Total': [0.27, 0.31, 0.34, 0.35, 0.36]},\n  '2023': {'Sterodynamic': [0.08, 0.09, 0.11, 0.11, 0.1],\n   'Glaciers': [0.09, 0.09, 0.09, 0.09, 0.09],\n   'Greenland ice sheet': [0.03, 0.04, 0.04, 0.05, 0.05],\n   'Antarctic ice sheet': [0.02, 0.04, 0.03, 0.04, 0.04],\n   'Land water storage': [0.01, 0.01, 0.01, 0.01, 0.01],\n   'Vertical land motion': [0.06, 0.05, 0.06, 0.05, 0.06],\n   'Total': [0.29, 0.32, 0.36, 0.37, 0.39]},\n  '2024': {'Sterodynamic': [0.08, 0.1, 0.11, 0.12, 0.11],\n   'Glaciers': [0.09, 0.09, 0.09, 0.09, 0.09],\n   'Greenland ice sheet': [0.04, 0.04, 0.04, 0.05, 0.06],\n   'Antarctic ice sheet': [0.02, 0.04, 0.03, 0.04, 0.04],\n   'Land water storage': [0.01, 0.01, 0.01, 0.01, 0.01],\n   'Vertical land motion': [0.06, 0.05, 0.06, 0.05, 0.06],\n   'Total': [0.3, 0.34, 0.37, 0.39, 0.41]},\n  '2025': {'Sterodynamic': [0.09, 0.1, 0.12, 0.12, 0.11],\n   'Glaciers': [0.09, 0.1, 0.1, 0.1, 0.1],\n   'Greenland ice sheet': [0.04, 0.04, 0.05, 0.05, 0.06],\n   'Antarctic ice sheet': [0.02, 0.04, 0.04, 0.04, 0.05],\n   'Land water storage': [0.01, 0.01, 0.01, 0.01, 0.01],\n   'Vertical land motion': [0.06, 0.06, 0.06, 0.06, 0.06],\n   'Total': [0.31, 0.36, 0.39, 0.42, 0.44]},\n  '2026': {'Sterodynamic': [0.1, 0.11, 0.13, 0.13, 0.12],\n   'Glaciers': [0.1, 0.1, 0.1, 0.1, 0.1],\n   'Greenland ice sheet': [0.04, 0.05, 0.05, 0.06, 0.07],\n   'Antarctic ice sheet': [0.02, 0.05, 0.04, 0.05, 0.05],\n   'Land water storage': [0.01, 0.01, 0.01, 0.01, 0.01],\n   'Vertical land motion': [0.06, 0.06, 0.06, 0.06, 0.06],\n   'Total': [0.33, 0.37, 0.41, 0.44, 0.46]},\n  '2027': {'Sterodynamic': [0.1, 0.11, 0.14, 0.14, 0.13],\n   'Glaciers': [0.1, 0.1, 0.11, 0.11, 0.11],\n   'Greenland ice sheet': [0.04, 0.05, 0.05, 0.06, 0.07],\n   'Antarctic ice sheet': [0.02, 0.05, 0.04, 0.05, 0.06],\n   'Land water storage': [0.01, 0.01, 0.01, 0.01, 0.01],\n   'Vertical land motion': [0.06, 0.06, 0.06, 0.06, 0.06],\n   'Total': [0.34, 0.39, 0.43, 0.46, 0.49]},\n  '2028': {'Sterodynamic': [0.11, 0.12, 0.14, 0.15, 0.14],\n   'Glaciers': [0.1, 0.1, 0.11, 0.11, 0.11],\n   'Greenland ice sheet': [0.04, 0.05, 0.06, 0.06, 0.07],\n   'Antarctic ice sheet': [0.02, 0.05, 0.04, 0.05, 0.06],\n   'Land water storage': [0.01, 0.01, 0.02, 0.01, 0.01],\n   'Vertical land motion': [0.06, 0.06, 0.06, 0.06, 0.06],\n   'Total': [0.36, 0.4, 0.45, 0.48, 0.51]},\n  '2029': {'Sterodynamic': [0.11, 0.13, 0.15, 0.15, 0.14],\n   'Glaciers': [0.1, 0.11, 0.11, 0.11, 0.11],\n   'Greenland ice sheet': [0.05, 0.05, 0.06, 0.07, 0.08],\n   'Antarctic ice sheet': [0.02, 0.05, 0.04, 0.06, 0.06],\n   'Land water storage': [0.01, 0.01, 0.02, 0.01, 0.01],\n   'Vertical land motion': [0.06, 0.06, 0.06, 0.06, 0.06],\n   'Total': [0.37, 0.42, 0.46, 0.5, 0.54]},\n  '2030': {'Sterodynamic': [0.12, 0.13, 0.16, 0.16, 0.15],\n   'Glaciers': [0.11, 0.11, 0.12, 0.12, 0.12],\n   'Greenland ice sheet': [0.05, 0.06, 0.06, 0.07, 0.08],\n   'Antarctic ice sheet': [0.02, 0.06, 0.05, 0.06, 0.07],\n   'Land water storage': [0.01, 0.01, 0.02, 0.01, 0.01],\n   'Vertical land motion': [0.06, 0.06, 0.06, 0.06, 0.06],\n   'Total': [0.38, 0.44, 0.48, 0.52, 0.56]},\n  '2031': {'Sterodynamic': [0.13, 0.14, 0.16, 0.17, 0.16],\n   'Glaciers': [0.11, 0.12, 0.12, 0.12, 0.12],\n   'Greenland ice sheet': [0.05, 0.06, 0.07, 0.07, 0.09],\n   'Antarctic ice sheet': [0.02, 0.06, 0.05, 0.06, 0.08],\n   'Land water storage': [0.01, 0.01, 0.02, 0.01, 0.01],\n   'Vertical land motion': [0.06, 0.06, 0.06, 0.06, 0.06],\n   'Total': [0.4, 0.45, 0.5, 0.55, 0.6]},\n  '2032': {'Sterodynamic': [0.13, 0.14, 0.17, 0.17, 0.16],\n   'Glaciers': [0.11, 0.12, 0.13, 0.13, 0.13],\n   'Greenland ice sheet': [0.05, 0.06, 0.07, 0.08, 0.09],\n   'Antarctic ice sheet': [0.02, 0.06, 0.05, 0.07, 0.09],\n   'Land water storage': [0.01, 0.01, 0.02, 0.01, 0.01],\n   'Vertical land motion': [0.06, 0.06, 0.06, 0.06, 0.06],\n   'Total': [0.41, 0.47, 0.52, 0.58, 0.63]},\n  '2033': {'Sterodynamic': [0.13, 0.15, 0.18, 0.18, 0.17],\n   'Glaciers': [0.12, 0.12, 0.13, 0.13, 0.13],\n   'Greenland ice sheet': [0.06, 0.07, 0.07, 0.08, 0.1],\n   'Antarctic ice sheet': [0.02, 0.06, 0.05, 0.07, 0.1],\n   'Land water storage': [0.01, 0.02, 0.02, 0.02, 0.02],\n   'Vertical land motion': [0.06, 0.06, 0.06, 0.06, 0.06],\n   'Total': [0.42, 0.49, 0.54, 0.61, 0.67]},\n  '2034': {'Sterodynamic': [0.14, 0.15, 0.18, 0.19, 0.18],\n   'Glaciers': [0.12, 0.13, 0.14, 0.14, 0.14],\n   'Greenland ice sheet': [0.06, 0.07, 0.08, 0.09, 0.11],\n   'Antarctic ice sheet': [0.02, 0.07, 0.06, 0.08, 0.1],\n   'Land water storage': [0.01, 0.02, 0.02, 0.02, 0.02],\n   'Vertical land motion': [0.06, 0.06, 0.06, 0.06, 0.06],\n   'Total': [0.43, 0.5, 0.56, 0.63, 0.7]},\n  '2035': {'Sterodynamic': [0.14, 0.16, 0.19, 0.19, 0.18],\n   'Glaciers': [0.12, 0.13, 0.14, 0.14, 0.14],\n   'Greenland ice sheet': [0.06, 0.07, 0.08, 0.09, 0.11],\n   'Antarctic ice sheet': [0.02, 0.07, 0.06, 0.08, 0.11],\n   'Land water storage': [0.01, 0.02, 0.02, 0.02, 0.02],\n   'Vertical land motion': [0.06, 0.06, 0.06, 0.06, 0.06],\n   'Total': [0.44, 0.52, 0.59, 0.66, 0.74]},\n  '2036': {'Sterodynamic': [0.15, 0.17, 0.2, 0.2, 0.19],\n   'Glaciers': [0.13, 0.13, 0.14, 0.15, 0.14],\n   'Greenland ice sheet': [0.06, 0.08, 0.09, 0.1, 0.12],\n   'Antarctic ice sheet': [0.02, 0.07, 0.06, 0.09, 0.12],\n   'Land water storage': [0.02, 0.02, 0.02, 0.02, 0.02],\n   'Vertical land motion': [0.06, 0.06, 0.06, 0.06, 0.06],\n   'Total': [0.45, 0.54, 0.61, 0.69, 0.77]},\n  '2037': {'Sterodynamic': [0.15, 0.17, 0.2, 0.2, 0.19],\n   'Glaciers': [0.13, 0.14, 0.15, 0.15, 0.15],\n   'Greenland ice sheet': [0.07, 0.08, 0.09, 0.1, 0.13],\n   'Antarctic ice sheet': [0.02, 0.07, 0.06, 0.09, 0.13],\n   'Land water storage': [0.02, 0.02, 0.02, 0.02, 0.02],\n   'Vertical land motion': [0.06, 0.06, 0.06, 0.06, 0.06],\n   'Total': [0.47, 0.56, 0.63, 0.72, 0.8]},\n  '2038': {'Sterodynamic': [0.16, 0.18, 0.21, 0.21, 0.2],\n   'Glaciers': [0.13, 0.14, 0.15, 0.15, 0.15],\n   'Greenland ice sheet': [0.07, 0.08, 0.09, 0.11, 0.13],\n   'Antarctic ice sheet': [0.02, 0.08, 0.06, 0.1, 0.14],\n   'Land water storage': [0.02, 0.02, 0.02, 0.02, 0.02],\n   'Vertical land motion': [0.06, 0.06, 0.06, 0.06, 0.06],\n   'Total': [0.48, 0.57, 0.65, 0.74, 0.84]},\n  '2039': {'Sterodynamic': [0.16, 0.18, 0.22, 0.22, 0.21],\n   'Glaciers': [0.14, 0.14, 0.16, 0.16, 0.16],\n   'Greenland ice sheet': [0.07, 0.09, 0.1, 0.11, 0.14],\n   'Antarctic ice sheet': [0.03, 0.08, 0.07, 0.1, 0.15],\n   'Land water storage': [0.02, 0.02, 0.02, 0.02, 0.02],\n   'Vertical land motion': [0.06, 0.06, 0.06, 0.06, 0.06],\n   'Total': [0.49, 0.59, 0.67, 0.77, 0.87]},\n  '2040': {'Sterodynamic': [0.16, 0.19, 0.22, 0.22, 0.21],\n   'Glaciers': [0.14, 0.15, 0.16, 0.16, 0.16],\n   'Greenland ice sheet': [0.08, 0.09, 0.1, 0.12, 0.14],\n   'Antarctic ice sheet': [0.03, 0.08, 0.07, 0.11, 0.16],\n   'Land water storage': [0.02, 0.02, 0.02, 0.02, 0.02],\n   'Vertical land motion': [0.07, 0.07, 0.07, 0.06, 0.07],\n   'Total': [0.5, 0.61, 0.69, 0.8, 0.91]},\n  '2041': {'Sterodynamic': [0.17, 0.2, 0.23, 0.23, 0.22],\n   'Glaciers': [0.14, 0.15, 0.17, 0.17, 0.17],\n   'Greenland ice sheet': [0.08, 0.09, 0.11, 0.13, 0.16],\n   'Antarctic ice sheet': [0.03, 0.08, 0.07, 0.12, 0.17],\n   'Land water storage': [0.02, 0.02, 0.02, 0.02, 0.02],\n   'Vertical land motion': [0.07, 0.07, 0.07, 0.06, 0.07],\n   'Total': [0.51, 0.63, 0.72, 0.84, 0.97]},\n  '2042': {'Sterodynamic': [0.17, 0.2, 0.24, 0.24, 0.23],\n   'Glaciers': [0.15, 0.16, 0.17, 0.17, 0.17],\n   'Greenland ice sheet': [0.08, 0.1, 0.11, 0.14, 0.18],\n   'Antarctic ice sheet': [0.03, 0.09, 0.07, 0.14, 0.19],\n   'Land water storage': [0.02, 0.02, 0.03, 0.02, 0.02],\n   'Vertical land motion': [0.07, 0.07, 0.07, 0.06, 0.07],\n   'Total': [0.52, 0.65, 0.75, 0.88, 1.03]},\n  '2043': {'Sterodynamic': [0.17, 0.21, 0.25, 0.25, 0.24],\n   'Glaciers': [0.15, 0.16, 0.18, 0.18, 0.18],\n   'Greenland ice sheet': [0.08, 0.1, 0.12, 0.14, 0.19],\n   'Antarctic ice sheet': [0.03, 0.09, 0.08, 0.15, 0.21],\n   'Land water storage': [0.02, 0.02, 0.03, 0.02, 0.02],\n   'Vertical land motion': [0.07, 0.07, 0.07, 0.06, 0.07],\n   'Total': [0.54, 0.67, 0.77, 0.93, 1.08]},\n  '2044': {'Sterodynamic': [0.17, 0.22, 0.26, 0.26, 0.25],\n   'Glaciers': [0.15, 0.16, 0.18, 0.19, 0.18],\n   'Greenland ice sheet': [0.08, 0.1, 0.12, 0.15, 0.21],\n   'Antarctic ice sheet': [0.03, 0.09, 0.08, 0.16, 0.23],\n   'Land water storage': [0.02, 0.02, 0.03, 0.02, 0.03],\n   'Vertical land motion': [0.07, 0.07, 0.07, 0.06, 0.07],\n   'Total': [0.55, 0.69, 0.8, 0.97, 1.14]},\n  '2045': {'Sterodynamic': [0.18, 0.22, 0.27, 0.27, 0.26],\n   'Glaciers': [0.16, 0.17, 0.19, 0.19, 0.19],\n   'Greenland ice sheet': [0.09, 0.1, 0.13, 0.16, 0.22],\n   'Antarctic ice sheet': [0.03, 0.1, 0.08, 0.18, 0.24],\n   'Land water storage': [0.02, 0.03, 0.03, 0.03, 0.03],\n   'Vertical land motion': [0.07, 0.07, 0.07, 0.06, 0.07],\n   'Total': [0.56, 0.7, 0.83, 1.01, 1.2]},\n  '2046': {'Sterodynamic': [0.18, 0.23, 0.28, 0.28, 0.27],\n   'Glaciers': [0.16, 0.17, 0.19, 0.2, 0.19],\n   'Greenland ice sheet': [0.09, 0.11, 0.13, 0.17, 0.24],\n   'Antarctic ice sheet': [0.03, 0.1, 0.08, 0.19, 0.26],\n   'Land water storage': [0.02, 0.03, 0.03, 0.03, 0.03],\n   'Vertical land motion': [0.07, 0.07, 0.07, 0.06, 0.07],\n   'Total': [0.57, 0.72, 0.86, 1.06, 1.26]},\n  '2047': {'Sterodynamic': [0.18, 0.24, 0.29, 0.29, 0.28],\n   'Glaciers': [0.16, 0.18, 0.2, 0.2, 0.2],\n   'Greenland ice sheet': [0.09, 0.11, 0.14, 0.18, 0.26],\n   'Antarctic ice sheet': [0.03, 0.1, 0.09, 0.2, 0.28],\n   'Land water storage': [0.03, 0.03, 0.03, 0.03, 0.03],\n   'Vertical land motion': [0.07, 0.07, 0.07, 0.06, 0.07],\n   'Total': [0.58, 0.74, 0.89, 1.1, 1.32]},\n  '2048': {'Sterodynamic': [0.19, 0.24, 0.3, 0.3, 0.29],\n   'Glaciers': [0.17, 0.18, 0.2, 0.21, 0.2],\n   'Greenland ice sheet': [0.09, 0.11, 0.14, 0.19, 0.27],\n   'Antarctic ice sheet': [0.03, 0.11, 0.09, 0.22, 0.29],\n   'Land water storage': [0.03, 0.03, 0.03, 0.03, 0.03],\n   'Vertical land motion': [0.07, 0.07, 0.07, 0.06, 0.07],\n   'Total': [0.59, 0.76, 0.92, 1.15, 1.38]},\n  '2049': {'Sterodynamic': [0.19, 0.25, 0.31, 0.31, 0.3],\n   'Glaciers': [0.17, 0.19, 0.21, 0.21, 0.21],\n   'Greenland ice sheet': [0.1, 0.12, 0.15, 0.19, 0.29],\n   'Antarctic ice sheet': [0.03, 0.11, 0.09, 0.23, 0.31],\n   'Land water storage': [0.03, 0.03, 0.03, 0.03, 0.03],\n   'Vertical land motion': [0.07, 0.07, 0.07, 0.06, 0.07],\n   'Total': [0.6, 0.78, 0.95, 1.19, 1.44]},\n  '2050': {'Sterodynamic': [0.19, 0.26, 0.32, 0.31, 0.31],\n   'Glaciers': [0.17, 0.19, 0.21, 0.22, 0.21],\n   'Greenland ice sheet': [0.1, 0.12, 0.15, 0.2, 0.31],\n   'Antarctic ice sheet': [0.03, 0.11, 0.1, 0.25, 0.33],\n   'Land water storage': [0.03, 0.03, 0.04, 0.03, 0.04],\n   'Vertical land motion': [0.07, 0.07, 0.07, 0.07, 0.07],\n   'Total': [0.62, 0.8, 0.97, 1.23, 1.5]},\n  '2051': {'Sterodynamic': [0.19, 0.26, 0.34, 0.33, 0.33],\n   'Glaciers': [0.18, 0.19, 0.22, 0.22, 0.22],\n   'Greenland ice sheet': [0.1, 0.13, 0.16, 0.22, 0.35],\n   'Antarctic ice sheet': [0.03, 0.11, 0.1, 0.27, 0.36],\n   'Land water storage': [0.03, 0.03, 0.04, 0.03, 0.04],\n   'Vertical land motion': [0.07, 0.07, 0.07, 0.07, 0.07],\n   'Total': [0.63, 0.82, 1.01, 1.3, 1.59]},\n  '2052': {'Sterodynamic': [0.2, 0.27, 0.35, 0.34, 0.34],\n   'Glaciers': [0.18, 0.2, 0.23, 0.23, 0.23],\n   'Greenland ice sheet': [0.1, 0.13, 0.17, 0.24, 0.39],\n   'Antarctic ice sheet': [0.03, 0.12, 0.1, 0.29, 0.4],\n   'Land water storage': [0.03, 0.04, 0.04, 0.04, 0.04],\n   'Vertical land motion': [0.07, 0.07, 0.07, 0.07, 0.07],\n   'Total': [0.64, 0.84, 1.04, 1.36, 1.68]},\n  '2053': {'Sterodynamic': [0.2, 0.28, 0.36, 0.35, 0.35],\n   'Glaciers': [0.18, 0.2, 0.23, 0.23, 0.23],\n   'Greenland ice sheet': [0.11, 0.13, 0.17, 0.26, 0.43],\n   'Antarctic ice sheet': [0.03, 0.12, 0.11, 0.31, 0.44],\n   'Land water storage': [0.03, 0.04, 0.04, 0.04, 0.04],\n   'Vertical land motion': [0.07, 0.07, 0.07, 0.07, 0.07],\n   'Total': [0.65, 0.87, 1.08, 1.42, 1.77]},\n  '2054': {'Sterodynamic': [0.21, 0.28, 0.37, 0.36, 0.36],\n   'Glaciers': [0.19, 0.21, 0.24, 0.24, 0.24],\n   'Greenland ice sheet': [0.11, 0.14, 0.18, 0.28, 0.47],\n   'Antarctic ice sheet': [0.03, 0.12, 0.11, 0.33, 0.47],\n   'Land water storage': [0.03, 0.04, 0.04, 0.04, 0.04],\n   'Vertical land motion': [0.07, 0.07, 0.07, 0.07, 0.07],\n   'Total': [0.66, 0.89, 1.11, 1.49, 1.86]},\n  '2055': {'Sterodynamic': [0.21, 0.29, 0.38, 0.37, 0.38],\n   'Glaciers': [0.19, 0.21, 0.24, 0.24, 0.24],\n   'Greenland ice sheet': [0.11, 0.14, 0.19, 0.3, 0.51],\n   'Antarctic ice sheet': [0.03, 0.13, 0.11, 0.35, 0.51],\n   'Land water storage': [0.04, 0.04, 0.04, 0.04, 0.04],\n   'Vertical land motion': [0.07, 0.07, 0.07, 0.07, 0.07],\n   'Total': [0.68, 0.91, 1.15, 1.55, 1.95]},\n  '2056': {'Sterodynamic': [0.21, 0.3, 0.39, 0.39, 0.39],\n   'Glaciers': [0.19, 0.21, 0.25, 0.25, 0.25],\n   'Greenland ice sheet': [0.11, 0.15, 0.19, 0.31, 0.55],\n   'Antarctic ice sheet': [0.03, 0.13, 0.12, 0.37, 0.54],\n   'Land water storage': [0.04, 0.04, 0.05, 0.04, 0.04],\n   'Vertical land motion': [0.07, 0.07, 0.07, 0.07, 0.08],\n   'Total': [0.69, 0.93, 1.18, 1.61, 2.04]},\n  '2057': {'Sterodynamic': [0.22, 0.3, 0.41, 0.4, 0.4],\n   'Glaciers': [0.19, 0.22, 0.25, 0.26, 0.26],\n   'Greenland ice sheet': [0.11, 0.15, 0.2, 0.33, 0.59],\n   'Antarctic ice sheet': [0.03, 0.13, 0.12, 0.39, 0.58],\n   'Land water storage': [0.04, 0.04, 0.05, 0.04, 0.05],\n   'Vertical land motion': [0.07, 0.07, 0.07, 0.07, 0.08],\n   'Total': [0.7, 0.95, 1.22, 1.68, 2.13]},\n  '2058': {'Sterodynamic': [0.22, 0.31, 0.42, 0.41, 0.41],\n   'Glaciers': [0.2, 0.22, 0.26, 0.26, 0.26],\n   'Greenland ice sheet': [0.12, 0.15, 0.21, 0.35, 0.63],\n   'Antarctic ice sheet': [0.03, 0.14, 0.13, 0.41, 0.61],\n   'Land water storage': [0.04, 0.05, 0.05, 0.05, 0.05],\n   'Vertical land motion': [0.07, 0.07, 0.07, 0.07, 0.08],\n   'Total': [0.71, 0.97, 1.25, 1.74, 2.23]},\n  '2059': {'Sterodynamic': [0.23, 0.31, 0.43, 0.42, 0.42],\n   'Glaciers': [0.2, 0.23, 0.27, 0.27, 0.27],\n   'Greenland ice sheet': [0.12, 0.16, 0.21, 0.37, 0.67],\n   'Antarctic ice sheet': [0.04, 0.14, 0.13, 0.43, 0.65],\n   'Land water storage': [0.04, 0.05, 0.05, 0.05, 0.05],\n   'Vertical land motion': [0.07, 0.07, 0.07, 0.07, 0.08],\n   'Total': [0.72, 0.99, 1.29, 1.8, 2.32]},\n  '2060': {'Sterodynamic': [0.23, 0.32, 0.44, 0.43, 0.44],\n   'Glaciers': [0.2, 0.23, 0.27, 0.27, 0.28],\n   'Greenland ice sheet': [0.12, 0.16, 0.22, 0.39, 0.71],\n   'Antarctic ice sheet': [0.04, 0.14, 0.13, 0.45, 0.69],\n   'Land water storage': [0.04, 0.05, 0.05, 0.05, 0.05],\n   'Vertical land motion': [0.07, 0.07, 0.07, 0.07, 0.08],\n   'Total': [0.73, 1.01, 1.32, 1.87, 2.41]},\n  '2061': {'Sterodynamic': [0.23, 0.33, 0.45, 0.45, 0.45],\n   'Glaciers': [0.21, 0.23, 0.28, 0.28, 0.28],\n   'Greenland ice sheet': [0.12, 0.17, 0.23, 0.41, 0.75],\n   'Antarctic ice sheet': [0.04, 0.15, 0.14, 0.47, 0.74],\n   'Land water storage': [0.04, 0.05, 0.05, 0.05, 0.05],\n   'Vertical land motion': [0.08, 0.08, 0.08, 0.07, 0.08],\n   'Total': [0.75, 1.03, 1.37, 1.95, 2.52]},\n  '2062': {'Sterodynamic': [0.24, 0.33, 0.47, 0.46, 0.46],\n   'Glaciers': [0.21, 0.24, 0.29, 0.28, 0.29],\n   'Greenland ice sheet': [0.13, 0.17, 0.23, 0.43, 0.79],\n   'Antarctic ice sheet': [0.04, 0.15, 0.15, 0.48, 0.79],\n   'Land water storage': [0.05, 0.05, 0.06, 0.05, 0.05],\n   'Vertical land motion': [0.08, 0.08, 0.08, 0.07, 0.08],\n   'Total': [0.76, 1.05, 1.41, 2.04, 2.63]},\n  '2063': {'Sterodynamic': [0.24, 0.34, 0.48, 0.47, 0.48],\n   'Glaciers': [0.21, 0.24, 0.29, 0.29, 0.3],\n   'Greenland ice sheet': [0.13, 0.17, 0.24, 0.45, 0.83],\n   'Antarctic ice sheet': [0.04, 0.16, 0.16, 0.49, 0.85],\n   'Land water storage': [0.05, 0.05, 0.06, 0.05, 0.05],\n   'Vertical land motion': [0.08, 0.08, 0.08, 0.07, 0.08],\n   'Total': [0.77, 1.07, 1.46, 2.12, 2.74]},\n  '2064': {'Sterodynamic': [0.25, 0.35, 0.49, 0.48, 0.49],\n   'Glaciers': [0.22, 0.25, 0.3, 0.3, 0.3],\n   'Greenland ice sheet': [0.13, 0.18, 0.25, 0.47, 0.87],\n   'Antarctic ice sheet': [0.04, 0.16, 0.17, 0.5, 0.9],\n   'Land water storage': [0.05, 0.06, 0.06, 0.05, 0.06],\n   'Vertical land motion': [0.08, 0.08, 0.08, 0.07, 0.08],\n   'Total': [0.79, 1.1, 1.5, 2.21, 2.86]},\n  '2065': {'Sterodynamic': [0.25, 0.35, 0.51, 0.5, 0.5],\n   'Glaciers': [0.22, 0.25, 0.31, 0.3, 0.31],\n   'Greenland ice sheet': [0.13, 0.18, 0.26, 0.49, 0.91],\n   'Antarctic ice sheet': [0.04, 0.17, 0.18, 0.52, 0.95],\n   'Land water storage': [0.05, 0.06, 0.06, 0.06, 0.06],\n   'Vertical land motion': [0.08, 0.08, 0.08, 0.07, 0.08],\n   'Total': [0.8, 1.12, 1.54, 2.29, 2.97]},\n  '2066': {'Sterodynamic': [0.26, 0.36, 0.52, 0.51, 0.52],\n   'Glaciers': [0.22, 0.26, 0.31, 0.31, 0.32],\n   'Greenland ice sheet': [0.14, 0.19, 0.26, 0.51, 0.95],\n   'Antarctic ice sheet': [0.04, 0.17, 0.19, 0.53, 1.01],\n   'Land water storage': [0.05, 0.06, 0.06, 0.06, 0.06],\n   'Vertical land motion': [0.08, 0.08, 0.08, 0.07, 0.08],\n   'Total': [0.81, 1.14, 1.59, 2.38, 3.08]},\n  '2067': {'Sterodynamic': [0.26, 0.37, 0.53, 0.52, 0.53],\n   'Glaciers': [0.22, 0.26, 0.32, 0.32, 0.32],\n   'Greenland ice sheet': [0.14, 0.19, 0.27, 0.52, 0.99],\n   'Antarctic ice sheet': [0.04, 0.18, 0.19, 0.54, 1.06],\n   'Land water storage': [0.05, 0.06, 0.06, 0.06, 0.06],\n   'Vertical land motion': [0.08, 0.08, 0.08, 0.07, 0.08],\n   'Total': [0.82, 1.16, 1.63, 2.46, 3.19]},\n  '2068': {'Sterodynamic': [0.26, 0.37, 0.54, 0.53, 0.54],\n   'Glaciers': [0.23, 0.26, 0.33, 0.32, 0.33],\n   'Greenland ice sheet': [0.14, 0.19, 0.28, 0.54, 1.04],\n   'Antarctic ice sheet': [0.04, 0.18, 0.2, 0.56, 1.12],\n   'Land water storage': [0.06, 0.06, 0.07, 0.06, 0.06],\n   'Vertical land motion': [0.08, 0.08, 0.08, 0.07, 0.08],\n   'Total': [0.84, 1.18, 1.67, 2.55, 3.3]},\n  '2069': {'Sterodynamic': [0.27, 0.38, 0.56, 0.55, 0.56],\n   'Glaciers': [0.23, 0.27, 0.33, 0.33, 0.34],\n   'Greenland ice sheet': [0.15, 0.2, 0.28, 0.56, 1.08],\n   'Antarctic ice sheet': [0.04, 0.19, 0.21, 0.57, 1.17],\n   'Land water storage': [0.06, 0.06, 0.07, 0.06, 0.06],\n   'Vertical land motion': [0.08, 0.08, 0.08, 0.07, 0.08],\n   'Total': [0.85, 1.2, 1.72, 2.63, 3.41]},\n  '2070': {'Sterodynamic': [0.27, 0.38, 0.57, 0.56, 0.57],\n   'Glaciers': [0.23, 0.27, 0.34, 0.33, 0.34],\n   'Greenland ice sheet': [0.15, 0.2, 0.29, 0.58, 1.12],\n   'Antarctic ice sheet': [0.04, 0.19, 0.22, 0.58, 1.22],\n   'Land water storage': [0.06, 0.07, 0.07, 0.06, 0.07],\n   'Vertical land motion': [0.08, 0.08, 0.08, 0.07, 0.08],\n   'Total': [0.86, 1.22, 1.76, 2.72, 3.53]},\n  '2071': {'Sterodynamic': [0.28, 0.39, 0.58, 0.57, 0.59],\n   'Glaciers': [0.24, 0.28, 0.35, 0.34, 0.35],\n   'Greenland ice sheet': [0.15, 0.21, 0.3, 0.6, 1.15],\n   'Antarctic ice sheet': [0.04, 0.2, 0.24, 0.61, 1.28],\n   'Land water storage': [0.06, 0.07, 0.07, 0.06, 0.07],\n   'Vertical land motion': [0.08, 0.08, 0.08, 0.08, 0.08],\n   'Total': [0.87, 1.25, 1.81, 2.81, 3.67]},\n  '2072': {'Sterodynamic': [0.28, 0.4, 0.6, 0.58, 0.6],\n   'Glaciers': [0.24, 0.28, 0.36, 0.35, 0.36],\n   'Greenland ice sheet': [0.15, 0.21, 0.31, 0.62, 1.19],\n   'Antarctic ice sheet': [0.04, 0.2, 0.26, 0.63, 1.34],\n   'Land water storage': [0.06, 0.07, 0.07, 0.07, 0.07],\n   'Vertical land motion': [0.08, 0.08, 0.08, 0.08, 0.08],\n   'Total': [0.89, 1.27, 1.87, 2.91, 3.8]},\n  '2073': {'Sterodynamic': [0.28, 0.41, 0.61, 0.6, 0.61],\n   'Glaciers': [0.24, 0.29, 0.36, 0.36, 0.37],\n   'Greenland ice sheet': [0.16, 0.22, 0.32, 0.64, 1.23],\n   'Antarctic ice sheet': [0.04, 0.21, 0.28, 0.66, 1.4],\n   'Land water storage': [0.06, 0.07, 0.07, 0.07, 0.07],\n   'Vertical land motion': [0.08, 0.08, 0.08, 0.08, 0.08],\n   'Total': [0.9, 1.3, 1.92, 3.01, 3.94]},\n  '2074': {'Sterodynamic': [0.29, 0.41, 0.63, 0.61, 0.63],\n   'Glaciers': [0.24, 0.29, 0.37, 0.36, 0.38],\n   'Greenland ice sheet': [0.16, 0.22, 0.32, 0.65, 1.26],\n   'Antarctic ice sheet': [0.04, 0.21, 0.29, 0.69, 1.47],\n   'Land water storage': [0.06, 0.07, 0.08, 0.07, 0.07],\n   'Vertical land motion': [0.08, 0.08, 0.08, 0.08, 0.08],\n   'Total': [0.91, 1.32, 1.97, 3.11, 4.08]},\n  '2075': {'Sterodynamic': [0.29, 0.42, 0.64, 0.63, 0.64],\n   'Glaciers': [0.25, 0.29, 0.38, 0.37, 0.38],\n   'Greenland ice sheet': [0.16, 0.23, 0.33, 0.67, 1.3],\n   'Antarctic ice sheet': [0.04, 0.22, 0.31, 0.72, 1.53],\n   'Land water storage': [0.07, 0.07, 0.08, 0.07, 0.07],\n   'Vertical land motion': [0.08, 0.08, 0.08, 0.08, 0.08],\n   'Total': [0.92, 1.34, 2.03, 3.2, 4.22]},\n  '2076': {'Sterodynamic': [0.3, 0.43, 0.65, 0.64, 0.66],\n   'Glaciers': [0.25, 0.3, 0.39, 0.38, 0.39],\n   'Greenland ice sheet': [0.16, 0.23, 0.34, 0.69, 1.33],\n   'Antarctic ice sheet': [0.04, 0.22, 0.33, 0.74, 1.59],\n   'Land water storage': [0.07, 0.08, 0.08, 0.07, 0.08],\n   'Vertical land motion': [0.09, 0.08, 0.09, 0.08, 0.09],\n   'Total': [0.93, 1.37, 2.08, 3.3, 4.36]},\n  '2077': {'Sterodynamic': [0.3, 0.44, 0.67, 0.65, 0.67],\n   'Glaciers': [0.25, 0.3, 0.39, 0.39, 0.4],\n   'Greenland ice sheet': [0.17, 0.24, 0.35, 0.71, 1.37],\n   'Antarctic ice sheet': [0.04, 0.23, 0.35, 0.77, 1.65],\n   'Land water storage': [0.07, 0.08, 0.08, 0.07, 0.08],\n   'Vertical land motion': [0.09, 0.08, 0.09, 0.08, 0.09],\n   'Total': [0.94, 1.39, 2.13, 3.4, 4.5]},\n  '2078': {'Sterodynamic': [0.3, 0.44, 0.68, 0.67, 0.69],\n   'Glaciers': [0.25, 0.31, 0.4, 0.39, 0.41],\n   'Greenland ice sheet': [0.17, 0.24, 0.36, 0.72, 1.4],\n   'Antarctic ice sheet': [0.05, 0.23, 0.37, 0.8, 1.71],\n   'Land water storage': [0.07, 0.08, 0.08, 0.08, 0.08],\n   'Vertical land motion': [0.09, 0.08, 0.09, 0.08, 0.09],\n   'Total': [0.95, 1.41, 2.18, 3.5, 4.64]},\n  '2079': {'Sterodynamic': [0.31, 0.45, 0.69, 0.68, 0.7],\n   'Glaciers': [0.26, 0.31, 0.41, 0.4, 0.42],\n   'Greenland ice sheet': [0.17, 0.25, 0.37, 0.74, 1.44],\n   'Antarctic ice sheet': [0.05, 0.24, 0.39, 0.82, 1.77],\n   'Land water storage': [0.07, 0.08, 0.08, 0.08, 0.08],\n   'Vertical land motion': [0.09, 0.08, 0.09, 0.08, 0.09],\n   'Total': [0.97, 1.44, 2.24, 3.6, 4.78]},\n  '2080': {'Sterodynamic': [0.31, 0.46, 0.71, 0.69, 0.72],\n   'Glaciers': [0.26, 0.31, 0.42, 0.41, 0.42],\n   'Greenland ice sheet': [0.17, 0.25, 0.37, 0.76, 1.47],\n   'Antarctic ice sheet': [0.05, 0.24, 0.41, 0.85, 1.83],\n   'Land water storage': [0.07, 0.08, 0.09, 0.08, 0.08],\n   'Vertical land motion': [0.09, 0.08, 0.09, 0.08, 0.09],\n   'Total': [0.98, 1.46, 2.29, 3.69, 4.92]},\n  '2081': {'Sterodynamic': [0.31, 0.47, 0.72, 0.71, 0.73],\n   'Glaciers': [0.26, 0.32, 0.42, 0.41, 0.43],\n   'Greenland ice sheet': [0.18, 0.26, 0.38, 0.78, 1.5],\n   'Antarctic ice sheet': [0.05, 0.25, 0.44, 0.9, 1.9],\n   'Land water storage': [0.07, 0.08, 0.09, 0.08, 0.08],\n   'Vertical land motion': [0.09, 0.09, 0.09, 0.08, 0.09],\n   'Total': [0.99, 1.49, 2.36, 3.8, 5.06]},\n  '2082': {'Sterodynamic': [0.32, 0.47, 0.74, 0.72, 0.75],\n   'Glaciers': [0.26, 0.32, 0.43, 0.42, 0.44],\n   'Greenland ice sheet': [0.18, 0.26, 0.39, 0.79, 1.53],\n   'Antarctic ice sheet': [0.05, 0.26, 0.47, 0.95, 1.98],\n   'Land water storage': [0.07, 0.09, 0.09, 0.08, 0.09],\n   'Vertical land motion': [0.09, 0.09, 0.09, 0.08, 0.09],\n   'Total': [1.0, 1.51, 2.43, 3.9, 5.21]},\n  '2083': {'Sterodynamic': [0.32, 0.48, 0.75, 0.74, 0.76],\n   'Glaciers': [0.27, 0.33, 0.44, 0.43, 0.45],\n   'Greenland ice sheet': [0.18, 0.27, 0.4, 0.81, 1.56],\n   'Antarctic ice sheet': [0.05, 0.26, 0.51, 1.01, 2.05],\n   'Land water storage': [0.08, 0.09, 0.09, 0.08, 0.09],\n   'Vertical land motion': [0.09, 0.09, 0.09, 0.08, 0.09],\n   'Total': [1.01, 1.54, 2.5, 4.01, 5.35]},\n  '2084': {'Sterodynamic': [0.32, 0.49, 0.77, 0.75, 0.78],\n   'Glaciers': [0.27, 0.33, 0.45, 0.44, 0.46],\n   'Greenland ice sheet': [0.19, 0.27, 0.41, 0.83, 1.59],\n   'Antarctic ice sheet': [0.05, 0.27, 0.54, 1.06, 2.12],\n   'Land water storage': [0.08, 0.09, 0.09, 0.08, 0.09],\n   'Vertical land motion': [0.09, 0.09, 0.09, 0.08, 0.09],\n   'Total': [1.02, 1.56, 2.57, 4.11, 5.49]},\n  '2085': {'Sterodynamic': [0.33, 0.5, 0.79, 0.77, 0.8],\n   'Glaciers': [0.27, 0.34, 0.46, 0.45, 0.46],\n   'Greenland ice sheet': [0.19, 0.28, 0.42, 0.85, 1.62],\n   'Antarctic ice sheet': [0.05, 0.28, 0.57, 1.11, 2.2],\n   'Land water storage': [0.08, 0.09, 0.09, 0.09, 0.09],\n   'Vertical land motion': [0.09, 0.09, 0.09, 0.08, 0.09],\n   'Total': [1.04, 1.59, 2.64, 4.22, 5.64]},\n  '2086': {'Sterodynamic': [0.33, 0.5, 0.8, 0.78, 0.81],\n   'Glaciers': [0.27, 0.34, 0.46, 0.45, 0.47],\n   'Greenland ice sheet': [0.19, 0.28, 0.43, 0.87, 1.65],\n   'Antarctic ice sheet': [0.05, 0.28, 0.6, 1.16, 2.27],\n   'Land water storage': [0.08, 0.09, 0.09, 0.09, 0.09],\n   'Vertical land motion': [0.09, 0.09, 0.09, 0.08, 0.09],\n   'Total': [1.05, 1.61, 2.71, 4.32, 5.78]},\n  '2087': {'Sterodynamic': [0.33, 0.51, 0.82, 0.8, 0.83],\n   'Glaciers': [0.28, 0.34, 0.47, 0.46, 0.48],\n   'Greenland ice sheet': [0.19, 0.29, 0.44, 0.88, 1.68],\n   'Antarctic ice sheet': [0.05, 0.29, 0.64, 1.21, 2.35],\n   'Land water storage': [0.08, 0.09, 0.09, 0.09, 0.09],\n   'Vertical land motion': [0.09, 0.09, 0.09, 0.08, 0.09],\n   'Total': [1.06, 1.64, 2.78, 4.43, 5.93]},\n  '2088': {'Sterodynamic': [0.34, 0.52, 0.83, 0.81, 0.84],\n   'Glaciers': [0.28, 0.35, 0.48, 0.47, 0.49],\n   'Greenland ice sheet': [0.2, 0.29, 0.45, 0.9, 1.71],\n   'Antarctic ice sheet': [0.05, 0.3, 0.67, 1.27, 2.42],\n   'Land water storage': [0.08, 0.1, 0.1, 0.09, 0.1],\n   'Vertical land motion': [0.09, 0.09, 0.09, 0.08, 0.09],\n   'Total': [1.07, 1.66, 2.85, 4.53, 6.07]},\n  '2089': {'Sterodynamic': [0.34, 0.52, 0.85, 0.83, 0.86],\n   'Glaciers': [0.28, 0.35, 0.49, 0.48, 0.5],\n   'Greenland ice sheet': [0.2, 0.3, 0.46, 0.92, 1.74],\n   'Antarctic ice sheet': [0.05, 0.3, 0.7, 1.32, 2.49],\n   'Land water storage': [0.08, 0.1, 0.1, 0.09, 0.1],\n   'Vertical land motion': [0.09, 0.09, 0.09, 0.08, 0.09],\n   'Total': [1.08, 1.68, 2.92, 4.64, 6.22]},\n  '2090': {'Sterodynamic': [0.34, 0.53, 0.86, 0.84, 0.88],\n   'Glaciers': [0.28, 0.36, 0.5, 0.49, 0.51],\n   'Greenland ice sheet': [0.2, 0.31, 0.47, 0.94, 1.77],\n   'Antarctic ice sheet': [0.06, 0.31, 0.73, 1.37, 2.57],\n   'Land water storage': [0.09, 0.1, 0.1, 0.09, 0.1],\n   'Vertical land motion': [0.09, 0.09, 0.09, 0.08, 0.09],\n   'Total': [1.1, 1.71, 2.99, 4.74, 6.36]},\n  '2091': {'Sterodynamic': [0.35, 0.54, 0.88, 0.86, 0.89],\n   'Glaciers': [0.28, 0.36, 0.5, 0.49, 0.51],\n   'Greenland ice sheet': [0.21, 0.31, 0.48, 0.96, 1.81],\n   'Antarctic ice sheet': [0.06, 0.32, 0.77, 1.41, 2.63],\n   'Land water storage': [0.09, 0.1, 0.1, 0.09, 0.1],\n   'Vertical land motion': [0.09, 0.09, 0.09, 0.09, 0.1],\n   'Total': [1.11, 1.74, 3.07, 4.85, 6.52]},\n  '2092': {'Sterodynamic': [0.35, 0.55, 0.9, 0.88, 0.91],\n   'Glaciers': [0.29, 0.37, 0.51, 0.5, 0.52],\n   'Greenland ice sheet': [0.21, 0.32, 0.49, 0.98, 1.85],\n   'Antarctic ice sheet': [0.06, 0.32, 0.81, 1.46, 2.7],\n   'Land water storage': [0.09, 0.1, 0.1, 0.1, 0.1],\n   'Vertical land motion': [0.09, 0.09, 0.09, 0.09, 0.1],\n   'Total': [1.12, 1.76, 3.15, 4.96, 6.67]},\n  '2093': {'Sterodynamic': [0.35, 0.56, 0.92, 0.9, 0.93],\n   'Glaciers': [0.29, 0.37, 0.52, 0.51, 0.53],\n   'Greenland ice sheet': [0.21, 0.32, 0.51, 1.0, 1.89],\n   'Antarctic ice sheet': [0.06, 0.33, 0.85, 1.5, 2.76],\n   'Land water storage': [0.09, 0.1, 0.1, 0.1, 0.1],\n   'Vertical land motion': [0.09, 0.09, 0.09, 0.09, 0.1],\n   'Total': [1.13, 1.79, 3.24, 5.07, 6.83]},\n  '2094': {'Sterodynamic': [0.35, 0.56, 0.94, 0.92, 0.95],\n   'Glaciers': [0.29, 0.37, 0.53, 0.52, 0.54],\n   'Greenland ice sheet': [0.22, 0.33, 0.52, 1.02, 1.93],\n   'Antarctic ice sheet': [0.06, 0.34, 0.88, 1.54, 2.83],\n   'Land water storage': [0.09, 0.1, 0.1, 0.1, 0.1],\n   'Vertical land motion': [0.09, 0.09, 0.09, 0.09, 0.1],\n   'Total': [1.14, 1.82, 3.32, 5.18, 6.99]},\n  '2095': {'Sterodynamic': [0.35, 0.57, 0.95, 0.94, 0.97],\n   'Glaciers': [0.29, 0.38, 0.54, 0.53, 0.55],\n   'Greenland ice sheet': [0.22, 0.34, 0.53, 1.05, 1.97],\n   'Antarctic ice sheet': [0.06, 0.35, 0.92, 1.58, 2.89],\n   'Land water storage': [0.09, 0.11, 0.11, 0.1, 0.11],\n   'Vertical land motion': [0.09, 0.09, 0.09, 0.09, 0.1],\n   'Total': [1.15, 1.84, 3.41, 5.29, 7.14]},\n  '2096': {'Sterodynamic': [0.35, 0.58, 0.97, 0.96, 0.99],\n   'Glaciers': [0.3, 0.38, 0.55, 0.54, 0.56],\n   'Greenland ice sheet': [0.22, 0.34, 0.54, 1.07, 2.0],\n   'Antarctic ice sheet': [0.06, 0.35, 0.96, 1.63, 2.96],\n   'Land water storage': [0.1, 0.11, 0.11, 0.1, 0.11],\n   'Vertical land motion': [0.1, 0.09, 0.1, 0.09, 0.1],\n   'Total': [1.16, 1.87, 3.49, 5.4, 7.3]},\n  '2097': {'Sterodynamic': [0.36, 0.59, 0.99, 0.98, 1.0],\n   'Glaciers': [0.3, 0.39, 0.56, 0.55, 0.57],\n   'Greenland ice sheet': [0.23, 0.35, 0.56, 1.09, 2.04],\n   'Antarctic ice sheet': [0.06, 0.36, 1.0, 1.67, 3.02],\n   'Land water storage': [0.1, 0.11, 0.11, 0.1, 0.11],\n   'Vertical land motion': [0.1, 0.09, 0.1, 0.09, 0.1],\n   'Total': [1.17, 1.9, 3.57, 5.51, 7.45]},\n  '2098': {'Sterodynamic': [0.36, 0.59, 1.01, 0.99, 1.02],\n   'Glaciers': [0.3, 0.39, 0.56, 0.55, 0.58],\n   'Greenland ice sheet': [0.23, 0.35, 0.57, 1.11, 2.08],\n   'Antarctic ice sheet': [0.06, 0.37, 1.03, 1.71, 3.09],\n   'Land water storage': [0.1, 0.11, 0.11, 0.1, 0.11],\n   'Vertical land motion': [0.1, 0.09, 0.1, 0.09, 0.1],\n   'Total': [1.18, 1.92, 3.66, 5.62, 7.61]},\n  '2099': {'Sterodynamic': [0.36, 0.6, 1.03, 1.01, 1.04],\n   'Glaciers': [0.3, 0.39, 0.57, 0.56, 0.59],\n   'Greenland ice sheet': [0.23, 0.36, 0.58, 1.13, 2.12],\n   'Antarctic ice sheet': [0.06, 0.38, 1.07, 1.75, 3.15],\n   'Land water storage': [0.1, 0.11, 0.11, 0.11, 0.11],\n   'Vertical land motion': [0.1, 0.09, 0.1, 0.09, 0.1],\n   'Total': [1.2, 1.95, 3.74, 5.73, 7.77]},\n  '2100': {'Sterodynamic': [0.36, 0.61, 1.05, 1.03, 1.06],\n   'Glaciers': [0.31, 0.4, 0.58, 0.57, 0.6],\n   'Greenland ice sheet': [0.24, 0.37, 0.59, 1.15, 2.16],\n   'Antarctic ice sheet': [0.06, 0.38, 1.11, 1.79, 3.22],\n   'Land water storage': [0.1, 0.11, 0.11, 0.11, 0.11],\n   'Vertical land motion': [0.1, 0.09, 0.1, 0.09, 0.1],\n   'Total': [1.21, 1.98, 3.82, 5.84, 7.92]},\n  '2101': {'Sterodynamic': [0.36, 0.62, 1.06, 1.05, 1.08],\n   'Glaciers': [0.31, 0.4, 0.59, 0.58, 0.61],\n   'Greenland ice sheet': [0.24, 0.37, 0.61, 1.18, 2.2],\n   'Antarctic ice sheet': [0.06, 0.39, 1.15, 1.84, 3.32],\n   'Land water storage': [0.1, 0.12, 0.12, 0.11, 0.12],\n   'Vertical land motion': [0.1, 0.1, 0.1, 0.09, 0.1],\n   'Total': [1.22, 2.0, 3.91, 5.94, 8.07]},\n  '2102': {'Sterodynamic': [0.37, 0.62, 1.08, 1.06, 1.09],\n   'Glaciers': [0.31, 0.4, 0.6, 0.59, 0.62],\n   'Greenland ice sheet': [0.24, 0.38, 0.62, 1.21, 2.24],\n   'Antarctic ice sheet': [0.06, 0.4, 1.19, 1.88, 3.42],\n   'Land water storage': [0.1, 0.12, 0.12, 0.11, 0.12],\n   'Vertical land motion': [0.1, 0.1, 0.1, 0.09, 0.1],\n   'Total': [1.23, 2.03, 3.99, 6.03, 8.21]},\n  '2103': {'Sterodynamic': [0.37, 0.63, 1.1, 1.08, 1.11],\n   'Glaciers': [0.31, 0.41, 0.61, 0.6, 0.63],\n   'Greenland ice sheet': [0.25, 0.39, 0.63, 1.23, 2.29],\n   'Antarctic ice sheet': [0.06, 0.41, 1.23, 1.92, 3.52],\n   'Land water storage': [0.11, 0.12, 0.12, 0.11, 0.12],\n   'Vertical land motion': [0.1, 0.1, 0.1, 0.09, 0.1],\n   'Total': [1.24, 2.05, 4.07, 6.13, 8.36]},\n  '2104': {'Sterodynamic': [0.37, 0.63, 1.11, 1.1, 1.13],\n   'Glaciers': [0.31, 0.41, 0.62, 0.61, 0.64],\n   'Greenland ice sheet': [0.25, 0.39, 0.64, 1.26, 2.33],\n   'Antarctic ice sheet': [0.06, 0.41, 1.27, 1.96, 3.62],\n   'Land water storage': [0.11, 0.12, 0.12, 0.11, 0.12],\n   'Vertical land motion': [0.1, 0.1, 0.1, 0.09, 0.1],\n   'Total': [1.25, 2.08, 4.15, 6.22, 8.51]},\n  '2105': {'Sterodynamic': [0.37, 0.64, 1.13, 1.11, 1.14],\n   'Glaciers': [0.31, 0.42, 0.63, 0.62, 0.64],\n   'Greenland ice sheet': [0.25, 0.4, 0.65, 1.29, 2.38],\n   'Antarctic ice sheet': [0.06, 0.42, 1.31, 2.0, 3.72],\n   'Land water storage': [0.11, 0.12, 0.12, 0.12, 0.12],\n   'Vertical land motion': [0.1, 0.1, 0.1, 0.09, 0.1],\n   'Total': [1.26, 2.1, 4.23, 6.32, 8.65]},\n  '2106': {'Sterodynamic': [0.37, 0.65, 1.15, 1.13, 1.16],\n   'Glaciers': [0.32, 0.42, 0.63, 0.63, 0.65],\n   'Greenland ice sheet': [0.26, 0.4, 0.66, 1.31, 2.42],\n   'Antarctic ice sheet': [0.06, 0.43, 1.35, 2.04, 3.83],\n   'Land water storage': [0.11, 0.12, 0.12, 0.12, 0.12],\n   'Vertical land motion': [0.1, 0.1, 0.1, 0.09, 0.11],\n   'Total': [1.27, 2.13, 4.31, 6.42, 8.8]},\n  '2107': {'Sterodynamic': [0.38, 0.65, 1.16, 1.14, 1.18],\n   'Glaciers': [0.32, 0.42, 0.64, 0.64, 0.66],\n   'Greenland ice sheet': [0.26, 0.41, 0.67, 1.34, 2.46],\n   'Antarctic ice sheet': [0.06, 0.44, 1.38, 2.08, 3.93],\n   'Land water storage': [0.11, 0.13, 0.13, 0.12, 0.13],\n   'Vertical land motion': [0.1, 0.1, 0.1, 0.09, 0.11],\n   'Total': [1.28, 2.15, 4.39, 6.51, 8.94]},\n  '2108': {'Sterodynamic': [0.38, 0.66, 1.18, 1.16, 1.19],\n   'Glaciers': [0.32, 0.43, 0.65, 0.64, 0.67],\n   'Greenland ice sheet': [0.26, 0.41, 0.69, 1.36, 2.51],\n   'Antarctic ice sheet': [0.06, 0.44, 1.42, 2.12, 4.03],\n   'Land water storage': [0.11, 0.13, 0.13, 0.12, 0.13],\n   'Vertical land motion': [0.1, 0.1, 0.1, 0.09, 0.11],\n   'Total': [1.29, 2.17, 4.47, 6.61, 9.09]},\n  '2109': {'Sterodynamic': [0.38, 0.66, 1.2, 1.17, 1.21],\n   'Glaciers': [0.32, 0.43, 0.66, 0.65, 0.68],\n   'Greenland ice sheet': [0.27, 0.42, 0.7, 1.39, 2.55],\n   'Antarctic ice sheet': [0.06, 0.45, 1.46, 2.16, 4.13],\n   'Land water storage': [0.12, 0.13, 0.13, 0.12, 0.13],\n   'Vertical land motion': [0.1, 0.1, 0.1, 0.09, 0.11],\n   'Total': [1.3, 2.2, 4.55, 6.7, 9.23]},\n  '2110': {'Sterodynamic': [0.38, 0.67, 1.21, 1.19, 1.23],\n   'Glaciers': [0.32, 0.43, 0.67, 0.66, 0.69],\n   'Greenland ice sheet': [0.27, 0.43, 0.71, 1.42, 2.6],\n   'Antarctic ice sheet': [0.07, 0.46, 1.5, 2.2, 4.23],\n   'Land water storage': [0.12, 0.13, 0.13, 0.12, 0.13],\n   'Vertical land motion': [0.1, 0.1, 0.1, 0.09, 0.11],\n   'Total': [1.31, 2.22, 4.63, 6.8, 9.38]},\n  '2111': {'Sterodynamic': [0.39, 0.67, 1.23, 1.2, 1.24],\n   'Glaciers': [0.33, 0.44, 0.68, 0.67, 0.7],\n   'Greenland ice sheet': [0.27, 0.43, 0.72, 1.45, 2.65],\n   'Antarctic ice sheet': [0.07, 0.47, 1.53, 2.25, 4.32],\n   'Land water storage': [0.12, 0.13, 0.13, 0.13, 0.13],\n   'Vertical land motion': [0.1, 0.1, 0.1, 0.09, 0.11],\n   'Total': [1.32, 2.25, 4.7, 6.88, 9.51]},\n  '2112': {'Sterodynamic': [0.39, 0.68, 1.25, 1.22, 1.26],\n   'Glaciers': [0.33, 0.44, 0.69, 0.68, 0.71],\n   'Greenland ice sheet': [0.28, 0.44, 0.73, 1.48, 2.7],\n   'Antarctic ice sheet': [0.07, 0.48, 1.56, 2.3, 4.4],\n   'Land water storage': [0.12, 0.13, 0.14, 0.13, 0.13],\n   'Vertical land motion': [0.11, 0.1, 0.11, 0.1, 0.11],\n   'Total': [1.33, 2.28, 4.77, 6.97, 9.64]},\n  '2113': {'Sterodynamic': [0.39, 0.68, 1.27, 1.24, 1.28],\n   'Glaciers': [0.33, 0.44, 0.7, 0.69, 0.72],\n   'Greenland ice sheet': [0.28, 0.44, 0.74, 1.51, 2.75],\n   'Antarctic ice sheet': [0.07, 0.48, 1.59, 2.34, 4.48],\n   'Land water storage': [0.12, 0.14, 0.14, 0.13, 0.14],\n   'Vertical land motion': [0.11, 0.1, 0.11, 0.1, 0.11],\n   'Total': [1.34, 2.3, 4.84, 7.05, 9.77]},\n  '2114': {'Sterodynamic': [0.39, 0.69, 1.28, 1.26, 1.3],\n   'Glaciers': [0.33, 0.45, 0.71, 0.7, 0.73],\n   'Greenland ice sheet': [0.28, 0.45, 0.75, 1.55, 2.81],\n   'Antarctic ice sheet': [0.07, 0.49, 1.62, 2.39, 4.57],\n   'Land water storage': [0.12, 0.14, 0.14, 0.13, 0.14],\n   'Vertical land motion': [0.11, 0.1, 0.11, 0.1, 0.11],\n   'Total': [1.36, 2.33, 4.91, 7.14, 9.9]},\n  '2115': {'Sterodynamic': [0.39, 0.69, 1.3, 1.27, 1.31],\n   'Glaciers': [0.33, 0.45, 0.72, 0.71, 0.74],\n   'Greenland ice sheet': [0.29, 0.45, 0.77, 1.58, 2.86],\n   'Antarctic ice sheet': [0.07, 0.5, 1.64, 2.44, 4.65],\n   'Land water storage': [0.12, 0.14, 0.14, 0.13, 0.14],\n   'Vertical land motion': [0.11, 0.1, 0.11, 0.1, 0.11],\n   'Total': [1.37, 2.36, 4.98, 7.22, 10.02]},\n  '2116': {'Sterodynamic': [0.4, 0.7, 1.32, 1.29, 1.33],\n   'Glaciers': [0.34, 0.45, 0.72, 0.71, 0.75],\n   'Greenland ice sheet': [0.29, 0.46, 0.78, 1.61, 2.91],\n   'Antarctic ice sheet': [0.07, 0.51, 1.67, 2.48, 4.73],\n   'Land water storage': [0.13, 0.14, 0.14, 0.13, 0.14],\n   'Vertical land motion': [0.11, 0.1, 0.11, 0.1, 0.11],\n   'Total': [1.38, 2.38, 5.05, 7.31, 10.15]},\n  '2117': {'Sterodynamic': [0.4, 0.7, 1.33, 1.31, 1.35],\n   'Glaciers': [0.34, 0.46, 0.73, 0.72, 0.76],\n   'Greenland ice sheet': [0.29, 0.47, 0.79, 1.64, 2.96],\n   'Antarctic ice sheet': [0.07, 0.52, 1.7, 2.53, 4.82],\n   'Land water storage': [0.13, 0.14, 0.15, 0.14, 0.14],\n   'Vertical land motion': [0.11, 0.1, 0.11, 0.1, 0.11],\n   'Total': [1.39, 2.41, 5.12, 7.39, 10.28]},\n  '2118': {'Sterodynamic': [0.4, 0.71, 1.35, 1.32, 1.37],\n   'Glaciers': [0.34, 0.46, 0.74, 0.73, 0.77],\n   'Greenland ice sheet': [0.3, 0.47, 0.8, 1.67, 3.02],\n   'Antarctic ice sheet': [0.07, 0.52, 1.73, 2.58, 4.9],\n   'Land water storage': [0.13, 0.14, 0.15, 0.14, 0.14],\n   'Vertical land motion': [0.11, 0.1, 0.11, 0.1, 0.11],\n   'Total': [1.4, 2.43, 5.2, 7.48, 10.41]},\n  '2119': {'Sterodynamic': [0.4, 0.71, 1.37, 1.34, 1.38],\n   'Glaciers': [0.34, 0.46, 0.75, 0.74, 0.78],\n   'Greenland ice sheet': [0.3, 0.48, 0.81, 1.71, 3.07],\n   'Antarctic ice sheet': [0.07, 0.53, 1.76, 2.62, 4.98],\n   'Land water storage': [0.13, 0.14, 0.15, 0.14, 0.15],\n   'Vertical land motion': [0.11, 0.1, 0.11, 0.1, 0.11],\n   'Total': [1.41, 2.46, 5.27, 7.56, 10.54]},\n  '2120': {'Sterodynamic': [0.4, 0.72, 1.38, 1.36, 1.4],\n   'Glaciers': [0.34, 0.47, 0.76, 0.75, 0.79],\n   'Greenland ice sheet': [0.3, 0.48, 0.82, 1.74, 3.12],\n   'Antarctic ice sheet': [0.08, 0.54, 1.78, 2.67, 5.07],\n   'Land water storage': [0.13, 0.14, 0.15, 0.14, 0.15],\n   'Vertical land motion': [0.11, 0.1, 0.11, 0.1, 0.11],\n   'Total': [1.43, 2.49, 5.34, 7.65, 10.67]},\n  '2121': {'Sterodynamic': [0.41, 0.72, 1.4, 1.37, 1.42],\n   'Glaciers': [0.35, 0.47, 0.77, 0.76, 0.8],\n   'Greenland ice sheet': [0.31, 0.49, 0.83, 1.77, 3.18],\n   'Antarctic ice sheet': [0.08, 0.55, 1.81, 2.71, 5.14],\n   'Land water storage': [0.13, 0.15, 0.15, 0.14, 0.15],\n   'Vertical land motion': [0.11, 0.11, 0.11, 0.1, 0.11],\n   'Total': [1.44, 2.51, 5.4, 7.73, 10.79]},\n  '2122': {'Sterodynamic': [0.41, 0.73, 1.42, 1.39, 1.44],\n   'Glaciers': [0.35, 0.47, 0.78, 0.77, 0.81],\n   'Greenland ice sheet': [0.31, 0.49, 0.85, 1.81, 3.23],\n   'Antarctic ice sheet': [0.08, 0.56, 1.84, 2.75, 5.21],\n   'Land water storage': [0.13, 0.15, 0.15, 0.14, 0.15],\n   'Vertical land motion': [0.11, 0.11, 0.11, 0.1, 0.11],\n   'Total': [1.45, 2.54, 5.47, 7.81, 10.91]},\n  '2123': {'Sterodynamic': [0.41, 0.73, 1.44, 1.41, 1.45],\n   'Glaciers': [0.35, 0.48, 0.79, 0.78, 0.82],\n   'Greenland ice sheet': [0.31, 0.5, 0.86, 1.84, 3.29],\n   'Antarctic ice sheet': [0.08, 0.57, 1.86, 2.79, 5.28],\n   'Land water storage': [0.13, 0.15, 0.15, 0.15, 0.15],\n   'Vertical land motion': [0.11, 0.11, 0.11, 0.1, 0.11],\n   'Total': [1.46, 2.56, 5.53, 7.89, 11.03]},\n  '2124': {'Sterodynamic': [0.41, 0.74, 1.45, 1.42, 1.47],\n   'Glaciers': [0.35, 0.48, 0.8, 0.79, 0.83],\n   'Greenland ice sheet': [0.31, 0.51, 0.87, 1.88, 3.34],\n   'Antarctic ice sheet': [0.08, 0.58, 1.89, 2.83, 5.35],\n   'Land water storage': [0.14, 0.15, 0.16, 0.15, 0.15],\n   'Vertical land motion': [0.11, 0.11, 0.11, 0.1, 0.11],\n   'Total': [1.47, 2.59, 5.6, 7.97, 11.15]},\n  '2125': {'Sterodynamic': [0.41, 0.74, 1.47, 1.44, 1.49],\n   'Glaciers': [0.35, 0.48, 0.81, 0.8, 0.84],\n   'Greenland ice sheet': [0.32, 0.51, 0.88, 1.91, 3.4],\n   'Antarctic ice sheet': [0.08, 0.59, 1.92, 2.87, 5.42],\n   'Land water storage': [0.14, 0.15, 0.16, 0.15, 0.15],\n   'Vertical land motion': [0.11, 0.11, 0.11, 0.1, 0.11],\n   'Total': [1.48, 2.61, 5.66, 8.05, 11.27]},\n  '2126': {'Sterodynamic': [0.42, 0.75, 1.49, 1.46, 1.51],\n   'Glaciers': [0.35, 0.49, 0.82, 0.81, 0.85],\n   'Greenland ice sheet': [0.32, 0.52, 0.89, 1.94, 3.46],\n   'Antarctic ice sheet': [0.08, 0.6, 1.94, 2.91, 5.49],\n   'Land water storage': [0.14, 0.15, 0.16, 0.15, 0.16],\n   'Vertical land motion': [0.11, 0.11, 0.11, 0.1, 0.11],\n   'Total': [1.49, 2.64, 5.73, 8.13, 11.39]},\n  '2127': {'Sterodynamic': [0.42, 0.76, 1.5, 1.47, 1.52],\n   'Glaciers': [0.36, 0.49, 0.83, 0.82, 0.86],\n   'Greenland ice sheet': [0.32, 0.52, 0.9, 1.98, 3.51],\n   'Antarctic ice sheet': [0.08, 0.61, 1.97, 2.96, 5.56],\n   'Land water storage': [0.14, 0.15, 0.16, 0.15, 0.16],\n   'Vertical land motion': [0.11, 0.11, 0.11, 0.1, 0.12],\n   'Total': [1.5, 2.66, 5.79, 8.21, 11.5]},\n  '2128': {'Sterodynamic': [0.42, 0.76, 1.52, 1.49, 1.54],\n   'Glaciers': [0.36, 0.49, 0.84, 0.83, 0.87],\n   'Greenland ice sheet': [0.33, 0.53, 0.92, 2.01, 3.57],\n   'Antarctic ice sheet': [0.09, 0.62, 1.99, 3.0, 5.63],\n   'Land water storage': [0.14, 0.15, 0.16, 0.15, 0.16],\n   'Vertical land motion': [0.11, 0.11, 0.11, 0.1, 0.12],\n   'Total': [1.51, 2.69, 5.85, 8.29, 11.62]},\n  '2129': {'Sterodynamic': [0.42, 0.77, 1.54, 1.51, 1.56],\n   'Glaciers': [0.36, 0.5, 0.85, 0.84, 0.88],\n   'Greenland ice sheet': [0.33, 0.54, 0.93, 2.05, 3.63],\n   'Antarctic ice sheet': [0.09, 0.63, 2.02, 3.04, 5.7],\n   'Land water storage': [0.14, 0.16, 0.16, 0.15, 0.16],\n   'Vertical land motion': [0.11, 0.11, 0.11, 0.1, 0.12],\n   'Total': [1.52, 2.71, 5.92, 8.37, 11.74]},\n  '2130': {'Sterodynamic': [0.42, 0.77, 1.56, 1.52, 1.58],\n   'Glaciers': [0.36, 0.5, 0.86, 0.85, 0.89],\n   'Greenland ice sheet': [0.33, 0.54, 0.94, 2.08, 3.68],\n   'Antarctic ice sheet': [0.09, 0.64, 2.05, 3.08, 5.77],\n   'Land water storage': [0.14, 0.16, 0.16, 0.15, 0.16],\n   'Vertical land motion': [0.11, 0.11, 0.11, 0.1, 0.12],\n   'Total': [1.53, 2.74, 5.98, 8.45, 11.86]},\n  '2131': {'Sterodynamic': [0.42, 0.78, 1.57, 1.54, 1.6],\n   'Glaciers': [0.36, 0.5, 0.87, 0.86, 0.9],\n   'Greenland ice sheet': [0.34, 0.55, 0.95, 2.1, 3.71],\n   'Antarctic ice sheet': [0.09, 0.65, 2.07, 3.09, 5.84],\n   'Land water storage': [0.14, 0.16, 0.17, 0.16, 0.16],\n   'Vertical land motion': [0.11, 0.11, 0.11, 0.1, 0.12],\n   'Total': [1.54, 2.77, 6.05, 8.52, 11.98]},\n  '2132': {'Sterodynamic': [0.43, 0.78, 1.59, 1.56, 1.61],\n   'Glaciers': [0.36, 0.51, 0.88, 0.86, 0.91],\n   'Greenland ice sheet': [0.34, 0.55, 0.96, 2.13, 3.74],\n   'Antarctic ice sheet': [0.09, 0.66, 2.09, 3.11, 5.9],\n   'Land water storage': [0.14, 0.16, 0.17, 0.16, 0.16],\n   'Vertical land motion': [0.12, 0.11, 0.12, 0.11, 0.12],\n   'Total': [1.55, 2.79, 6.12, 8.59, 12.1]},\n  '2133': {'Sterodynamic': [0.43, 0.79, 1.61, 1.58, 1.63],\n   'Glaciers': [0.37, 0.51, 0.89, 0.87, 0.92],\n   'Greenland ice sheet': [0.34, 0.56, 0.97, 2.15, 3.76],\n   'Antarctic ice sheet': [0.09, 0.66, 2.11, 3.13, 5.96],\n   'Land water storage': [0.14, 0.16, 0.17, 0.16, 0.16],\n   'Vertical land motion': [0.12, 0.11, 0.12, 0.11, 0.12],\n   'Total': [1.56, 2.82, 6.18, 8.66, 12.22]},\n  '2134': {'Sterodynamic': [0.43, 0.79, 1.63, 1.6, 1.65],\n   'Glaciers': [0.37, 0.51, 0.9, 0.88, 0.93],\n   'Greenland ice sheet': [0.35, 0.56, 0.98, 2.17, 3.79],\n   'Antarctic ice sheet': [0.09, 0.67, 2.13, 3.14, 6.03],\n   'Land water storage': [0.14, 0.16, 0.17, 0.16, 0.17],\n   'Vertical land motion': [0.12, 0.11, 0.12, 0.11, 0.12],\n   'Total': [1.57, 2.85, 6.25, 8.73, 12.34]},\n  '2135': {'Sterodynamic': [0.43, 0.8, 1.64, 1.61, 1.67],\n   'Glaciers': [0.37, 0.52, 0.91, 0.89, 0.94],\n   'Greenland ice sheet': [0.35, 0.57, 1.0, 2.19, 3.82],\n   'Antarctic ice sheet': [0.09, 0.68, 2.16, 3.16, 6.09],\n   'Land water storage': [0.14, 0.16, 0.17, 0.16, 0.17],\n   'Vertical land motion': [0.12, 0.11, 0.12, 0.11, 0.12],\n   'Total': [1.58, 2.87, 6.32, 8.8, 12.46]},\n  '2136': {'Sterodynamic': [0.43, 0.8, 1.66, 1.63, 1.68],\n   'Glaciers': [0.37, 0.52, 0.92, 0.9, 0.95],\n   'Greenland ice sheet': [0.35, 0.57, 1.01, 2.22, 3.85],\n   'Antarctic ice sheet': [0.09, 0.69, 2.18, 3.17, 6.16],\n   'Land water storage': [0.15, 0.17, 0.17, 0.16, 0.17],\n   'Vertical land motion': [0.12, 0.11, 0.12, 0.11, 0.12],\n   'Total': [1.59, 2.9, 6.38, 8.87, 12.58]},\n  '2137': {'Sterodynamic': [0.43, 0.81, 1.68, 1.65, 1.7],\n   'Glaciers': [0.37, 0.52, 0.93, 0.91, 0.96],\n   'Greenland ice sheet': [0.36, 0.58, 1.02, 2.24, 3.87],\n   'Antarctic ice sheet': [0.1, 0.69, 2.2, 3.19, 6.22],\n   'Land water storage': [0.15, 0.17, 0.17, 0.16, 0.17],\n   'Vertical land motion': [0.12, 0.11, 0.12, 0.11, 0.12],\n   'Total': [1.6, 2.93, 6.45, 8.94, 12.7]},\n  '2138': {'Sterodynamic': [0.44, 0.81, 1.7, 1.67, 1.72],\n   'Glaciers': [0.37, 0.53, 0.94, 0.92, 0.97],\n   'Greenland ice sheet': [0.36, 0.59, 1.03, 2.26, 3.9],\n   'Antarctic ice sheet': [0.1, 0.7, 2.22, 3.21, 6.29],\n   'Land water storage': [0.15, 0.17, 0.17, 0.16, 0.17],\n   'Vertical land motion': [0.12, 0.11, 0.12, 0.11, 0.12],\n   'Total': [1.61, 2.95, 6.52, 9.01, 12.82]},\n  '2139': {'Sterodynamic': [0.44, 0.82, 1.71, 1.69, 1.73],\n   'Glaciers': [0.38, 0.53, 0.95, 0.93, 0.98],\n   'Greenland ice sheet': [0.36, 0.59, 1.04, 2.28, 3.93],\n   'Antarctic ice sheet': [0.1, 0.71, 2.24, 3.22, 6.35],\n   'Land water storage': [0.15, 0.17, 0.17, 0.17, 0.17],\n   'Vertical land motion': [0.12, 0.11, 0.12, 0.11, 0.12],\n   'Total': [1.62, 2.98, 6.58, 9.08, 12.94]},\n  '2140': {'Sterodynamic': [0.44, 0.82, 1.73, 1.71, 1.75],\n   'Glaciers': [0.38, 0.53, 0.95, 0.94, 0.99],\n   'Greenland ice sheet': [0.37, 0.6, 1.05, 2.31, 3.96],\n   'Antarctic ice sheet': [0.1, 0.72, 2.26, 3.24, 6.41],\n   'Land water storage': [0.15, 0.17, 0.17, 0.17, 0.17],\n   'Vertical land motion': [0.12, 0.11, 0.12, 0.11, 0.12],\n   'Total': [1.63, 3.0, 6.65, 9.15, 13.06]},\n  '2141': {'Sterodynamic': [0.44, 0.83, 1.75, 1.72, 1.77],\n   'Glaciers': [0.38, 0.54, 0.96, 0.95, 1.0],\n   'Greenland ice sheet': [0.37, 0.6, 1.06, 2.33, 3.97],\n   'Antarctic ice sheet': [0.1, 0.72, 2.29, 3.25, 6.45],\n   'Land water storage': [0.15, 0.17, 0.18, 0.17, 0.17],\n   'Vertical land motion': [0.12, 0.11, 0.12, 0.11, 0.12],\n   'Total': [1.64, 3.03, 6.71, 9.22, 13.17]},\n  '2142': {'Sterodynamic': [0.44, 0.83, 1.77, 1.74, 1.79],\n   'Glaciers': [0.38, 0.54, 0.97, 0.96, 1.01],\n   'Greenland ice sheet': [0.37, 0.61, 1.08, 2.36, 3.98],\n   'Antarctic ice sheet': [0.1, 0.73, 2.31, 3.27, 6.49],\n   'Land water storage': [0.15, 0.17, 0.18, 0.17, 0.18],\n   'Vertical land motion': [0.12, 0.12, 0.12, 0.11, 0.13],\n   'Total': [1.65, 3.06, 6.78, 9.3, 13.28]},\n  '2143': {'Sterodynamic': [0.44, 0.84, 1.78, 1.76, 1.8],\n   'Glaciers': [0.38, 0.54, 0.98, 0.97, 1.02],\n   'Greenland ice sheet': [0.38, 0.61, 1.09, 2.39, 3.99],\n   'Antarctic ice sheet': [0.1, 0.74, 2.33, 3.29, 6.52],\n   'Land water storage': [0.15, 0.17, 0.18, 0.17, 0.18],\n   'Vertical land motion': [0.12, 0.12, 0.12, 0.11, 0.13],\n   'Total': [1.66, 3.08, 6.84, 9.37, 13.39]},\n  '2144': {'Sterodynamic': [0.44, 0.84, 1.8, 1.78, 1.82],\n   'Glaciers': [0.38, 0.55, 0.99, 0.98, 1.03],\n   'Greenland ice sheet': [0.38, 0.62, 1.1, 2.41, 4.0],\n   'Antarctic ice sheet': [0.1, 0.75, 2.35, 3.3, 6.56],\n   'Land water storage': [0.15, 0.18, 0.18, 0.17, 0.18],\n   'Vertical land motion': [0.12, 0.12, 0.12, 0.11, 0.13],\n   'Total': [1.66, 3.11, 6.91, 9.44, 13.5]},\n  '2145': {'Sterodynamic': [0.45, 0.84, 1.82, 1.8, 1.84],\n   'Glaciers': [0.38, 0.55, 1.0, 0.99, 1.04],\n   'Greenland ice sheet': [0.38, 0.63, 1.11, 2.44, 4.01],\n   'Antarctic ice sheet': [0.11, 0.75, 2.38, 3.32, 6.59],\n   'Land water storage': [0.15, 0.18, 0.18, 0.17, 0.18],\n   'Vertical land motion': [0.12, 0.12, 0.12, 0.11, 0.13],\n   'Total': [1.67, 3.13, 6.97, 9.52, 13.61]},\n  '2146': {'Sterodynamic': [0.45, 0.85, 1.83, 1.81, 1.86],\n   'Glaciers': [0.39, 0.55, 1.01, 1.0, 1.05],\n   'Greenland ice sheet': [0.39, 0.63, 1.12, 2.47, 4.02],\n   'Antarctic ice sheet': [0.11, 0.76, 2.4, 3.34, 6.63],\n   'Land water storage': [0.15, 0.18, 0.18, 0.17, 0.18],\n   'Vertical land motion': [0.12, 0.12, 0.12, 0.11, 0.13],\n   'Total': [1.68, 3.16, 7.03, 9.59, 13.72]},\n  '2147': {'Sterodynamic': [0.45, 0.85, 1.85, 1.83, 1.87],\n   'Glaciers': [0.39, 0.56, 1.02, 1.0, 1.06],\n   'Greenland ice sheet': [0.39, 0.64, 1.13, 2.49, 4.03],\n   'Antarctic ice sheet': [0.11, 0.77, 2.42, 3.35, 6.67],\n   'Land water storage': [0.15, 0.18, 0.18, 0.17, 0.18],\n   'Vertical land motion': [0.13, 0.12, 0.12, 0.11, 0.13],\n   'Total': [1.69, 3.18, 7.1, 9.66, 13.83]},\n  '2148': {'Sterodynamic': [0.45, 0.86, 1.87, 1.85, 1.89],\n   'Glaciers': [0.39, 0.56, 1.03, 1.01, 1.07],\n   'Greenland ice sheet': [0.39, 0.64, 1.15, 2.52, 4.04],\n   'Antarctic ice sheet': [0.11, 0.78, 2.44, 3.37, 6.7],\n   'Land water storage': [0.16, 0.18, 0.18, 0.18, 0.18],\n   'Vertical land motion': [0.13, 0.12, 0.12, 0.11, 0.13],\n   'Total': [1.7, 3.21, 7.16, 9.74, 13.94]},\n  '2149': {'Sterodynamic': [0.45, 0.86, 1.89, 1.87, 1.91],\n   'Glaciers': [0.39, 0.56, 1.04, 1.02, 1.08],\n   'Greenland ice sheet': [0.4, 0.65, 1.16, 2.55, 4.05],\n   'Antarctic ice sheet': [0.11, 0.78, 2.47, 3.39, 6.74],\n   'Land water storage': [0.16, 0.18, 0.19, 0.18, 0.18],\n   'Vertical land motion': [0.13, 0.12, 0.12, 0.11, 0.13],\n   'Total': [1.71, 3.23, 7.23, 9.81, 14.05]},\n  '2150': {'Sterodynamic': [0.45, 0.87, 1.9, 1.89, 1.93],\n   'Glaciers': [0.39, 0.57, 1.05, 1.03, 1.09],\n   'Greenland ice sheet': [0.4, 0.66, 1.17, 2.57, 4.06],\n   'Antarctic ice sheet': [0.11, 0.79, 2.49, 3.4, 6.77],\n   'Land water storage': [0.16, 0.18, 0.19, 0.18, 0.18],\n   'Vertical land motion': [0.13, 0.12, 0.12, 0.11, 0.13],\n   'Total': [1.72, 3.26, 7.29, 9.88, 14.16]}},\n 'scenarios':        obs  traj       low   int_low       int  int_high      high\n years                                                             \n 1900   NaN   NaN       NaN       NaN       NaN       NaN       NaN\n 1901   NaN   NaN       NaN       NaN       NaN       NaN       NaN\n 1902   NaN   NaN       NaN       NaN       NaN       NaN       NaN\n 1903   NaN   NaN       NaN       NaN       NaN       NaN       NaN\n 1904   NaN   NaN       NaN       NaN       NaN       NaN       NaN\n ...    ...   ...       ...       ...       ...       ...       ...\n 2096   NaN   NaN  1.162240  1.870245  3.489012  5.403054  7.298066\n 2097   NaN   NaN  1.173395  1.897148  3.573001  5.512962  7.454235\n 2098   NaN   NaN  1.184550  1.924051  3.656991  5.622870  7.610403\n 2099   NaN   NaN  1.195705  1.950954  3.740980  5.732778  7.766572\n 2100   NaN   NaN  1.206859  1.977857  3.824970  5.842687  7.922739\n \n [201 rows x 7 columns],\n 'scenarios_17':        obs  traj       low   int_low       int  int_high      high\n years                                                             \n 1900   NaN   NaN       NaN       NaN       NaN       NaN       NaN\n 1901   NaN   NaN       NaN       NaN       NaN       NaN       NaN\n 1902   NaN   NaN       NaN       NaN       NaN       NaN       NaN\n 1903   NaN   NaN       NaN       NaN       NaN       NaN       NaN\n 1904   NaN   NaN       NaN       NaN       NaN       NaN       NaN\n ...    ...   ...       ...       ...       ...       ...       ...\n 2096   NaN   NaN  0.947673  1.599248  2.828907  4.085469  6.657647\n 2097   NaN   NaN  0.949314  1.620901  2.892555  4.173723  6.834485\n 2098   NaN   NaN  0.950954  1.642555  2.956203  4.261978  7.011322\n 2099   NaN   NaN  0.952594  1.664209  3.019851  4.350233  7.188159\n 2100   NaN   NaN  0.954235  1.685862  3.083500  4.438487  7.364996\n \n [201 rows x 7 columns],\n 'scenarios_83':        obs  traj       low   int_low       int  int_high      high\n years                                                             \n 1900   NaN   NaN       NaN       NaN       NaN       NaN       NaN\n 1901   NaN   NaN       NaN       NaN       NaN       NaN       NaN\n 1902   NaN   NaN       NaN       NaN       NaN       NaN       NaN\n 1903   NaN   NaN       NaN       NaN       NaN       NaN       NaN\n 1904   NaN   NaN       NaN       NaN       NaN       NaN       NaN\n ...    ...   ...       ...       ...       ...       ...       ...\n 2096   NaN   NaN  1.430613  2.187175  3.911584  5.803316  7.721951\n 2097   NaN   NaN  1.449314  2.220967  3.989996  5.905023  7.870573\n 2098   NaN   NaN  1.468014  2.254760  4.068408  6.006729  8.019197\n 2099   NaN   NaN  1.486715  2.288553  4.146821  6.108435  8.167818\n 2100   NaN   NaN  1.505416  2.322345  4.225233  6.210141  8.316440\n \n [201 rows x 7 columns],\n 'names': {'traj': 'Observed Trajectory',\n  'low': 'Low',\n  'int_low': 'Intermediate Low',\n  'int': 'Intermediate',\n  'int_high': 'Intermediate High',\n  'high': 'High',\n  'obs': 'Observed'},\n 'units_long': 'feet',\n 'units_short': 'ft'}"
     },
     "execution_count": 92,
     "metadata": {},
     "output_type": "execute_result"
    }
   ],
   "source": [
    "slr"
   ],
   "metadata": {
    "collapsed": false,
    "pycharm": {
     "name": "#%%\n"
    }
   }
  },
  {
   "cell_type": "code",
   "execution_count": 103,
   "outputs": [],
   "source": [
    "scenarios = [\"low\", \"int_low\", \"int\", \"int_high\", \"high\"]\n",
    "scenario_select = \"int\"\n",
    "year = 2070\n",
    "units = \"ft\"\n"
   ],
   "metadata": {
    "collapsed": false,
    "pycharm": {
     "name": "#%%\n"
    }
   }
  },
  {
   "cell_type": "code",
   "execution_count": 94,
   "outputs": [
    {
     "data": {
      "text/plain": "{'Sterodynamic': [0.27, 0.38, 0.57, 0.56, 0.57],\n 'Glaciers': [0.23, 0.27, 0.34, 0.33, 0.34],\n 'Greenland ice sheet': [0.15, 0.2, 0.29, 0.58, 1.12],\n 'Antarctic ice sheet': [0.04, 0.19, 0.22, 0.58, 1.22],\n 'Land water storage': [0.06, 0.07, 0.07, 0.06, 0.07],\n 'Vertical land motion': [0.08, 0.08, 0.08, 0.07, 0.08],\n 'Total': [0.86, 1.22, 1.76, 2.72, 3.53]}"
     },
     "execution_count": 94,
     "metadata": {},
     "output_type": "execute_result"
    }
   ],
   "source": [
    "slr[\"contributions\"][str(year)]"
   ],
   "metadata": {
    "collapsed": false,
    "pycharm": {
     "name": "#%%\n"
    }
   }
  },
  {
   "cell_type": "code",
   "execution_count": 95,
   "outputs": [
    {
     "data": {
      "text/plain": "0.47985"
     },
     "execution_count": 95,
     "metadata": {},
     "output_type": "execute_result"
    }
   ],
   "source": [
    "0.174 + 0.104 + 0.089 + 0.067 + 0.021 + 0.02485"
   ],
   "metadata": {
    "collapsed": false,
    "pycharm": {
     "name": "#%%\n"
    }
   }
  },
  {
   "cell_type": "code",
   "execution_count": 118,
   "outputs": [
    {
     "data": {
      "application/vnd.plotly.v1+json": {
       "data": [
        {
         "marker": {
          "color": "#0072B2",
          "opacity": 0.9
         },
         "name": "Sterodynamic",
         "width": 0.65,
         "x": [
          "Low",
          "Intermediate Low",
          "Intermediate",
          "Intermediate High",
          "High"
         ],
         "y": [
          0.27,
          0.38,
          0.57,
          0.56,
          0.57
         ],
         "type": "bar"
        },
        {
         "marker": {
          "color": "#56B4E9",
          "opacity": 0.9
         },
         "name": "Glaciers",
         "width": 0.65,
         "x": [
          "Low",
          "Intermediate Low",
          "Intermediate",
          "Intermediate High",
          "High"
         ],
         "y": [
          0.23,
          0.27,
          0.34,
          0.33,
          0.34
         ],
         "type": "bar"
        },
        {
         "marker": {
          "color": "#CC79A7",
          "opacity": 0.9
         },
         "name": "Greenland ice sheet",
         "width": 0.65,
         "x": [
          "Low",
          "Intermediate Low",
          "Intermediate",
          "Intermediate High",
          "High"
         ],
         "y": [
          0.15,
          0.2,
          0.29,
          0.58,
          1.12
         ],
         "type": "bar"
        },
        {
         "marker": {
          "color": "#009E73",
          "opacity": 0.9
         },
         "name": "Antarctic ice sheet",
         "width": 0.65,
         "x": [
          "Low",
          "Intermediate Low",
          "Intermediate",
          "Intermediate High",
          "High"
         ],
         "y": [
          0.04,
          0.19,
          0.22,
          0.58,
          1.22
         ],
         "type": "bar"
        },
        {
         "marker": {
          "color": "#F0E442",
          "opacity": 0.9
         },
         "name": "Land water storage",
         "width": 0.65,
         "x": [
          "Low",
          "Intermediate Low",
          "Intermediate",
          "Intermediate High",
          "High"
         ],
         "y": [
          0.06,
          0.07,
          0.07,
          0.06,
          0.07
         ],
         "type": "bar"
        },
        {
         "marker": {
          "color": "#D55E00",
          "opacity": 0.9
         },
         "name": "Vertical land motion",
         "width": 0.65,
         "x": [
          "Low",
          "Intermediate Low",
          "Intermediate",
          "Intermediate High",
          "High"
         ],
         "y": [
          0.08,
          0.08,
          0.08,
          0.07,
          0.08
         ],
         "type": "bar"
        },
        {
         "marker": {
          "color": "black",
          "size": 13
         },
         "mode": "markers",
         "name": "Total",
         "x": [
          "Low",
          "Intermediate Low",
          "Intermediate",
          "Intermediate High",
          "High"
         ],
         "y": [
          0.86,
          1.22,
          1.76,
          2.72,
          3.53
         ],
         "type": "scatter"
        }
       ],
       "layout": {
        "template": {
         "data": {
          "scatter": [
           {
            "type": "scatter"
           }
          ]
         }
        },
        "shapes": [
         {
          "fillcolor": "gray",
          "layer": "below",
          "line": {
           "width": 0
          },
          "opacity": 0.06,
          "type": "rect",
          "x0": -0.5,
          "x1": 0.5,
          "xref": "x",
          "y0": 0,
          "y1": 1,
          "yref": "y domain"
         },
         {
          "fillcolor": "gray",
          "layer": "below",
          "line": {
           "width": 0
          },
          "opacity": 0.06,
          "type": "rect",
          "x0": 0.5,
          "x1": 1.5,
          "xref": "x",
          "y0": 0,
          "y1": 1,
          "yref": "y domain"
         },
         {
          "fillcolor": "gray",
          "layer": "below",
          "line": {
           "width": 0
          },
          "opacity": 0.06,
          "type": "rect",
          "x0": 2.5,
          "x1": 3.5,
          "xref": "x",
          "y0": 0,
          "y1": 1,
          "yref": "y domain"
         },
         {
          "fillcolor": "gray",
          "layer": "below",
          "line": {
           "width": 0
          },
          "opacity": 0.06,
          "type": "rect",
          "x0": 3.5,
          "x1": 4.5,
          "xref": "x",
          "y0": 0,
          "y1": 1,
          "yref": "y domain"
         }
        ],
        "xaxis": {
         "title": {
          "text": "Sea-level rise scenario"
         }
        },
        "yaxis": {
         "title": {
          "text": "Sea-level rise (feet)"
         }
        },
        "legend": {
         "traceorder": "reversed"
        },
        "modebar": {
         "remove": [
          "toImage",
          "lasso",
          "select",
          "zoomIn",
          "zoomOut"
         ],
         "orientation": "h",
         "color": "#333333"
        },
        "barmode": "relative"
       },
       "config": {
        "plotlyServerURL": "https://plot.ly"
       }
      }
     },
     "metadata": {},
     "output_type": "display_data"
    }
   ],
   "source": [
    "col = anlyz.color_palette()\n",
    "# col = [col[c] for c in [6, 1, 3, 0, 4, 2]]\n",
    "\n",
    "fig = go.Figure()\n",
    "\n",
    "xc = [slr[\"names\"][s] for s in scenarios]\n",
    "\n",
    "if scenario_select in scenarios:\n",
    "    for n, s in enumerate(scenarios):\n",
    "        if s != scenario_select:\n",
    "            fig.add_vrect(x0=n - 0.5, x1=n + 0.5, line_width=0, fillcolor=\"gray\", opacity=0.06, layer=\"below\")\n",
    "\n",
    "for n, c in enumerate(slr[\"contributions\"][str(year)]):\n",
    "    if c != \"Total\":\n",
    "        fig.add_trace(go.Bar(x=xc, y=slr[\"contributions\"][str(year)][c], name=c, marker=dict(color=col[n], opacity=0.9), width=0.65))\n",
    "    else:\n",
    "        fig.add_trace(go.Scatter(x=xc, y=slr[\"contributions\"][str(year)][c], name=c, mode=\"markers\", marker=dict(color=\"black\", size=13)))\n",
    "\n",
    "fig.update_xaxes(\n",
    "    title_text=f\"Sea-level rise scenario\",\n",
    ")\n",
    "fig.update_yaxes(\n",
    "    title_text=f\"Sea-level rise ({slr['units_long']})\",\n",
    ")\n",
    "fig.update_layout(\n",
    "    template=\"none\",\n",
    "    barmode='relative',\n",
    "    legend=dict(traceorder=\"reversed\"),\n",
    "    modebar=dict(\n",
    "        remove=[\"toImage\", \"lasso\", \"select\", \"zoomIn\", \"zoomOut\"],\n",
    "        orientation=\"h\",\n",
    "        color=\"#333333\",\n",
    "        bgcolor=None,\n",
    "    ),\n",
    ")\n",
    "\n",
    "fig.show()"
   ],
   "metadata": {
    "collapsed": false,
    "pycharm": {
     "name": "#%%\n"
    }
   }
  },
  {
   "cell_type": "code",
   "execution_count": 22,
   "outputs": [
    {
     "data": {
      "text/plain": "{'traj': 'Observed Trajectory',\n 'low': 'Low',\n 'int_low': 'Intermediate Low',\n 'int': 'Intermediate',\n 'int_high': 'Intermediate High',\n 'high': 'High',\n 'obs': 'Observed'}"
     },
     "execution_count": 22,
     "metadata": {},
     "output_type": "execute_result"
    }
   ],
   "source": [
    "slr[\"names\"]"
   ],
   "metadata": {
    "collapsed": false,
    "pycharm": {
     "name": "#%%\n"
    }
   }
  },
  {
   "cell_type": "code",
   "execution_count": 14,
   "outputs": [
    {
     "data": {
      "application/vnd.plotly.v1+json": {
       "data": [
        {
         "x": [
          1
         ],
         "y": [
          1
         ],
         "type": "bar"
        },
        {
         "x": [
          2
         ],
         "y": [
          4
         ],
         "type": "bar"
        },
        {
         "x": [
          3
         ],
         "y": [
          9
         ],
         "type": "bar"
        },
        {
         "x": [
          4
         ],
         "y": [
          16
         ],
         "type": "bar"
        },
        {
         "x": [
          1
         ],
         "y": [
          6
         ],
         "type": "bar"
        },
        {
         "x": [
          2
         ],
         "y": [
          -8
         ],
         "type": "bar"
        },
        {
         "x": [
          3
         ],
         "y": [
          -4.5
         ],
         "type": "bar"
        },
        {
         "x": [
          4
         ],
         "y": [
          8
         ],
         "type": "bar"
        },
        {
         "x": [
          1
         ],
         "y": [
          -15
         ],
         "type": "bar"
        },
        {
         "x": [
          2
         ],
         "y": [
          -3
         ],
         "type": "bar"
        },
        {
         "x": [
          3
         ],
         "y": [
          4.5
         ],
         "type": "bar"
        },
        {
         "x": [
          4
         ],
         "y": [
          -8
         ],
         "type": "bar"
        },
        {
         "x": [
          1
         ],
         "y": [
          -1
         ],
         "type": "bar"
        },
        {
         "x": [
          2
         ],
         "y": [
          3
         ],
         "type": "bar"
        },
        {
         "x": [
          3
         ],
         "y": [
          -3
         ],
         "type": "bar"
        },
        {
         "x": [
          4
         ],
         "y": [
          -4
         ],
         "type": "bar"
        }
       ],
       "layout": {
        "template": {
         "data": {
          "bar": [
           {
            "error_x": {
             "color": "#2a3f5f"
            },
            "error_y": {
             "color": "#2a3f5f"
            },
            "marker": {
             "line": {
              "color": "#E5ECF6",
              "width": 0.5
             },
             "pattern": {
              "fillmode": "overlay",
              "size": 10,
              "solidity": 0.2
             }
            },
            "type": "bar"
           }
          ],
          "barpolar": [
           {
            "marker": {
             "line": {
              "color": "#E5ECF6",
              "width": 0.5
             },
             "pattern": {
              "fillmode": "overlay",
              "size": 10,
              "solidity": 0.2
             }
            },
            "type": "barpolar"
           }
          ],
          "carpet": [
           {
            "aaxis": {
             "endlinecolor": "#2a3f5f",
             "gridcolor": "white",
             "linecolor": "white",
             "minorgridcolor": "white",
             "startlinecolor": "#2a3f5f"
            },
            "baxis": {
             "endlinecolor": "#2a3f5f",
             "gridcolor": "white",
             "linecolor": "white",
             "minorgridcolor": "white",
             "startlinecolor": "#2a3f5f"
            },
            "type": "carpet"
           }
          ],
          "choropleth": [
           {
            "colorbar": {
             "outlinewidth": 0,
             "ticks": ""
            },
            "type": "choropleth"
           }
          ],
          "contour": [
           {
            "colorbar": {
             "outlinewidth": 0,
             "ticks": ""
            },
            "colorscale": [
             [
              0.0,
              "#0d0887"
             ],
             [
              0.1111111111111111,
              "#46039f"
             ],
             [
              0.2222222222222222,
              "#7201a8"
             ],
             [
              0.3333333333333333,
              "#9c179e"
             ],
             [
              0.4444444444444444,
              "#bd3786"
             ],
             [
              0.5555555555555556,
              "#d8576b"
             ],
             [
              0.6666666666666666,
              "#ed7953"
             ],
             [
              0.7777777777777778,
              "#fb9f3a"
             ],
             [
              0.8888888888888888,
              "#fdca26"
             ],
             [
              1.0,
              "#f0f921"
             ]
            ],
            "type": "contour"
           }
          ],
          "contourcarpet": [
           {
            "colorbar": {
             "outlinewidth": 0,
             "ticks": ""
            },
            "type": "contourcarpet"
           }
          ],
          "heatmap": [
           {
            "colorbar": {
             "outlinewidth": 0,
             "ticks": ""
            },
            "colorscale": [
             [
              0.0,
              "#0d0887"
             ],
             [
              0.1111111111111111,
              "#46039f"
             ],
             [
              0.2222222222222222,
              "#7201a8"
             ],
             [
              0.3333333333333333,
              "#9c179e"
             ],
             [
              0.4444444444444444,
              "#bd3786"
             ],
             [
              0.5555555555555556,
              "#d8576b"
             ],
             [
              0.6666666666666666,
              "#ed7953"
             ],
             [
              0.7777777777777778,
              "#fb9f3a"
             ],
             [
              0.8888888888888888,
              "#fdca26"
             ],
             [
              1.0,
              "#f0f921"
             ]
            ],
            "type": "heatmap"
           }
          ],
          "heatmapgl": [
           {
            "colorbar": {
             "outlinewidth": 0,
             "ticks": ""
            },
            "colorscale": [
             [
              0.0,
              "#0d0887"
             ],
             [
              0.1111111111111111,
              "#46039f"
             ],
             [
              0.2222222222222222,
              "#7201a8"
             ],
             [
              0.3333333333333333,
              "#9c179e"
             ],
             [
              0.4444444444444444,
              "#bd3786"
             ],
             [
              0.5555555555555556,
              "#d8576b"
             ],
             [
              0.6666666666666666,
              "#ed7953"
             ],
             [
              0.7777777777777778,
              "#fb9f3a"
             ],
             [
              0.8888888888888888,
              "#fdca26"
             ],
             [
              1.0,
              "#f0f921"
             ]
            ],
            "type": "heatmapgl"
           }
          ],
          "histogram": [
           {
            "marker": {
             "pattern": {
              "fillmode": "overlay",
              "size": 10,
              "solidity": 0.2
             }
            },
            "type": "histogram"
           }
          ],
          "histogram2d": [
           {
            "colorbar": {
             "outlinewidth": 0,
             "ticks": ""
            },
            "colorscale": [
             [
              0.0,
              "#0d0887"
             ],
             [
              0.1111111111111111,
              "#46039f"
             ],
             [
              0.2222222222222222,
              "#7201a8"
             ],
             [
              0.3333333333333333,
              "#9c179e"
             ],
             [
              0.4444444444444444,
              "#bd3786"
             ],
             [
              0.5555555555555556,
              "#d8576b"
             ],
             [
              0.6666666666666666,
              "#ed7953"
             ],
             [
              0.7777777777777778,
              "#fb9f3a"
             ],
             [
              0.8888888888888888,
              "#fdca26"
             ],
             [
              1.0,
              "#f0f921"
             ]
            ],
            "type": "histogram2d"
           }
          ],
          "histogram2dcontour": [
           {
            "colorbar": {
             "outlinewidth": 0,
             "ticks": ""
            },
            "colorscale": [
             [
              0.0,
              "#0d0887"
             ],
             [
              0.1111111111111111,
              "#46039f"
             ],
             [
              0.2222222222222222,
              "#7201a8"
             ],
             [
              0.3333333333333333,
              "#9c179e"
             ],
             [
              0.4444444444444444,
              "#bd3786"
             ],
             [
              0.5555555555555556,
              "#d8576b"
             ],
             [
              0.6666666666666666,
              "#ed7953"
             ],
             [
              0.7777777777777778,
              "#fb9f3a"
             ],
             [
              0.8888888888888888,
              "#fdca26"
             ],
             [
              1.0,
              "#f0f921"
             ]
            ],
            "type": "histogram2dcontour"
           }
          ],
          "mesh3d": [
           {
            "colorbar": {
             "outlinewidth": 0,
             "ticks": ""
            },
            "type": "mesh3d"
           }
          ],
          "parcoords": [
           {
            "line": {
             "colorbar": {
              "outlinewidth": 0,
              "ticks": ""
             }
            },
            "type": "parcoords"
           }
          ],
          "pie": [
           {
            "automargin": true,
            "type": "pie"
           }
          ],
          "scatter": [
           {
            "marker": {
             "colorbar": {
              "outlinewidth": 0,
              "ticks": ""
             }
            },
            "type": "scatter"
           }
          ],
          "scatter3d": [
           {
            "line": {
             "colorbar": {
              "outlinewidth": 0,
              "ticks": ""
             }
            },
            "marker": {
             "colorbar": {
              "outlinewidth": 0,
              "ticks": ""
             }
            },
            "type": "scatter3d"
           }
          ],
          "scattercarpet": [
           {
            "marker": {
             "colorbar": {
              "outlinewidth": 0,
              "ticks": ""
             }
            },
            "type": "scattercarpet"
           }
          ],
          "scattergeo": [
           {
            "marker": {
             "colorbar": {
              "outlinewidth": 0,
              "ticks": ""
             }
            },
            "type": "scattergeo"
           }
          ],
          "scattergl": [
           {
            "marker": {
             "colorbar": {
              "outlinewidth": 0,
              "ticks": ""
             }
            },
            "type": "scattergl"
           }
          ],
          "scattermapbox": [
           {
            "marker": {
             "colorbar": {
              "outlinewidth": 0,
              "ticks": ""
             }
            },
            "type": "scattermapbox"
           }
          ],
          "scatterpolar": [
           {
            "marker": {
             "colorbar": {
              "outlinewidth": 0,
              "ticks": ""
             }
            },
            "type": "scatterpolar"
           }
          ],
          "scatterpolargl": [
           {
            "marker": {
             "colorbar": {
              "outlinewidth": 0,
              "ticks": ""
             }
            },
            "type": "scatterpolargl"
           }
          ],
          "scatterternary": [
           {
            "marker": {
             "colorbar": {
              "outlinewidth": 0,
              "ticks": ""
             }
            },
            "type": "scatterternary"
           }
          ],
          "surface": [
           {
            "colorbar": {
             "outlinewidth": 0,
             "ticks": ""
            },
            "colorscale": [
             [
              0.0,
              "#0d0887"
             ],
             [
              0.1111111111111111,
              "#46039f"
             ],
             [
              0.2222222222222222,
              "#7201a8"
             ],
             [
              0.3333333333333333,
              "#9c179e"
             ],
             [
              0.4444444444444444,
              "#bd3786"
             ],
             [
              0.5555555555555556,
              "#d8576b"
             ],
             [
              0.6666666666666666,
              "#ed7953"
             ],
             [
              0.7777777777777778,
              "#fb9f3a"
             ],
             [
              0.8888888888888888,
              "#fdca26"
             ],
             [
              1.0,
              "#f0f921"
             ]
            ],
            "type": "surface"
           }
          ],
          "table": [
           {
            "cells": {
             "fill": {
              "color": "#EBF0F8"
             },
             "line": {
              "color": "white"
             }
            },
            "header": {
             "fill": {
              "color": "#C8D4E3"
             },
             "line": {
              "color": "white"
             }
            },
            "type": "table"
           }
          ]
         },
         "layout": {
          "annotationdefaults": {
           "arrowcolor": "#2a3f5f",
           "arrowhead": 0,
           "arrowwidth": 1
          },
          "autotypenumbers": "strict",
          "coloraxis": {
           "colorbar": {
            "outlinewidth": 0,
            "ticks": ""
           }
          },
          "colorscale": {
           "diverging": [
            [
             0,
             "#8e0152"
            ],
            [
             0.1,
             "#c51b7d"
            ],
            [
             0.2,
             "#de77ae"
            ],
            [
             0.3,
             "#f1b6da"
            ],
            [
             0.4,
             "#fde0ef"
            ],
            [
             0.5,
             "#f7f7f7"
            ],
            [
             0.6,
             "#e6f5d0"
            ],
            [
             0.7,
             "#b8e186"
            ],
            [
             0.8,
             "#7fbc41"
            ],
            [
             0.9,
             "#4d9221"
            ],
            [
             1,
             "#276419"
            ]
           ],
           "sequential": [
            [
             0.0,
             "#0d0887"
            ],
            [
             0.1111111111111111,
             "#46039f"
            ],
            [
             0.2222222222222222,
             "#7201a8"
            ],
            [
             0.3333333333333333,
             "#9c179e"
            ],
            [
             0.4444444444444444,
             "#bd3786"
            ],
            [
             0.5555555555555556,
             "#d8576b"
            ],
            [
             0.6666666666666666,
             "#ed7953"
            ],
            [
             0.7777777777777778,
             "#fb9f3a"
            ],
            [
             0.8888888888888888,
             "#fdca26"
            ],
            [
             1.0,
             "#f0f921"
            ]
           ],
           "sequentialminus": [
            [
             0.0,
             "#0d0887"
            ],
            [
             0.1111111111111111,
             "#46039f"
            ],
            [
             0.2222222222222222,
             "#7201a8"
            ],
            [
             0.3333333333333333,
             "#9c179e"
            ],
            [
             0.4444444444444444,
             "#bd3786"
            ],
            [
             0.5555555555555556,
             "#d8576b"
            ],
            [
             0.6666666666666666,
             "#ed7953"
            ],
            [
             0.7777777777777778,
             "#fb9f3a"
            ],
            [
             0.8888888888888888,
             "#fdca26"
            ],
            [
             1.0,
             "#f0f921"
            ]
           ]
          },
          "colorway": [
           "#636efa",
           "#EF553B",
           "#00cc96",
           "#ab63fa",
           "#FFA15A",
           "#19d3f3",
           "#FF6692",
           "#B6E880",
           "#FF97FF",
           "#FECB52"
          ],
          "font": {
           "color": "#2a3f5f"
          },
          "geo": {
           "bgcolor": "white",
           "lakecolor": "white",
           "landcolor": "#E5ECF6",
           "showlakes": true,
           "showland": true,
           "subunitcolor": "white"
          },
          "hoverlabel": {
           "align": "left"
          },
          "hovermode": "closest",
          "mapbox": {
           "style": "light"
          },
          "paper_bgcolor": "white",
          "plot_bgcolor": "#E5ECF6",
          "polar": {
           "angularaxis": {
            "gridcolor": "white",
            "linecolor": "white",
            "ticks": ""
           },
           "bgcolor": "#E5ECF6",
           "radialaxis": {
            "gridcolor": "white",
            "linecolor": "white",
            "ticks": ""
           }
          },
          "scene": {
           "xaxis": {
            "backgroundcolor": "#E5ECF6",
            "gridcolor": "white",
            "gridwidth": 2,
            "linecolor": "white",
            "showbackground": true,
            "ticks": "",
            "zerolinecolor": "white"
           },
           "yaxis": {
            "backgroundcolor": "#E5ECF6",
            "gridcolor": "white",
            "gridwidth": 2,
            "linecolor": "white",
            "showbackground": true,
            "ticks": "",
            "zerolinecolor": "white"
           },
           "zaxis": {
            "backgroundcolor": "#E5ECF6",
            "gridcolor": "white",
            "gridwidth": 2,
            "linecolor": "white",
            "showbackground": true,
            "ticks": "",
            "zerolinecolor": "white"
           }
          },
          "shapedefaults": {
           "line": {
            "color": "#2a3f5f"
           }
          },
          "ternary": {
           "aaxis": {
            "gridcolor": "white",
            "linecolor": "white",
            "ticks": ""
           },
           "baxis": {
            "gridcolor": "white",
            "linecolor": "white",
            "ticks": ""
           },
           "bgcolor": "#E5ECF6",
           "caxis": {
            "gridcolor": "white",
            "linecolor": "white",
            "ticks": ""
           }
          },
          "title": {
           "x": 0.05
          },
          "xaxis": {
           "automargin": true,
           "gridcolor": "white",
           "linecolor": "white",
           "ticks": "",
           "title": {
            "standoff": 15
           },
           "zerolinecolor": "white",
           "zerolinewidth": 2
          },
          "yaxis": {
           "automargin": true,
           "gridcolor": "white",
           "linecolor": "white",
           "ticks": "",
           "title": {
            "standoff": 15
           },
           "zerolinecolor": "white",
           "zerolinewidth": 2
          }
         }
        },
        "title": {
         "text": "Relative Barmode"
        },
        "barmode": "relative"
       },
       "config": {
        "plotlyServerURL": "https://plot.ly"
       }
      }
     },
     "metadata": {},
     "output_type": "display_data"
    }
   ],
   "source": [
    "\n",
    "x = [1, 2, 3, 4]\n",
    "y = [\n",
    "    [1, 4, 9, 16],\n",
    "    [6, -8, -4.5, 8],\n",
    "    [-15, -3, 4.5, -8],\n",
    "    [-1, 3, -3, -4],\n",
    "]\n",
    "\n",
    "fig = go.Figure()\n",
    "# fig.add_trace(go.Bar(x=x, y=[1, 4, 9, 16]))\n",
    "# fig.add_trace(go.Bar(x=x, y=[6, -8, -4.5, 8]))\n",
    "# fig.add_trace(go.Bar(x=x, y=[-15, -3, 4.5, -8]))\n",
    "# fig.add_trace(go.Bar(x=x, y=[-1, 3, -3, -4]))\n",
    "\n",
    "for m in range(len(y)):\n",
    "    for n in range(len(x)):\n",
    "        fig.add_trace(go.Bar(x=[x[n]], y=[y[m][n]]))\n",
    "\n",
    "\n",
    "\n",
    "fig.update_layout(barmode='relative', title_text='Relative Barmode')\n",
    "fig.show()"
   ],
   "metadata": {
    "collapsed": false,
    "pycharm": {
     "name": "#%%\n"
    }
   }
  },
  {
   "cell_type": "code",
   "execution_count": null,
   "outputs": [],
   "source": [],
   "metadata": {
    "collapsed": false,
    "pycharm": {
     "name": "#%%\n"
    }
   }
  },
  {
   "cell_type": "code",
   "execution_count": 115,
   "outputs": [],
   "source": [
    "col = anlyz.color_palette()"
   ],
   "metadata": {
    "collapsed": false,
    "pycharm": {
     "name": "#%%\n"
    }
   }
  },
  {
   "cell_type": "code",
   "execution_count": 116,
   "outputs": [
    {
     "data": {
      "text/plain": "['#0072B2', '#56B4E9', '#CC79A7', '#009E73', '#F0E442', '#D55E00', '#E69F00']"
     },
     "execution_count": 116,
     "metadata": {},
     "output_type": "execute_result"
    }
   ],
   "source": [
    "col"
   ],
   "metadata": {
    "collapsed": false,
    "pycharm": {
     "name": "#%%\n"
    }
   }
  },
  {
   "cell_type": "code",
   "execution_count": null,
   "outputs": [],
   "source": [],
   "metadata": {
    "collapsed": false,
    "pycharm": {
     "name": "#%%\n"
    }
   }
  }
 ],
 "metadata": {
  "kernelspec": {
   "name": "python3812jvsc74a57bd06d03a5b4fe9ffd982aecd78e2d8ebd2c22211fd754dec8e22da5f7dc1b7fbc31",
   "language": "python",
   "display_name": "Python 3.8.12 64-bit ('dash-apps': conda)"
  },
  "language_info": {
   "codemirror_mode": {
    "name": "ipython",
    "version": 2
   },
   "file_extension": ".py",
   "mimetype": "text/x-python",
   "name": "python",
   "nbconvert_exporter": "python",
   "pygments_lexer": "ipython2",
   "version": "2.7.6"
  }
 },
 "nbformat": 4,
 "nbformat_minor": 0
}